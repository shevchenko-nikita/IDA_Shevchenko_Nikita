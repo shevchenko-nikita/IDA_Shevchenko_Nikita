{
 "cells": [
  {
   "cell_type": "markdown",
   "id": "f44a2f2b",
   "metadata": {},
   "source": [
    "# 100 numpy exercises\n",
    "\n",
    "This is a collection of exercises that have been collected in the numpy mailing list, on stack overflow\n",
    "and in the numpy documentation. The goal of this collection is to offer a quick reference for both old\n",
    "and new users but also to provide a set of exercises for those who teach."
   ]
  },
  {
   "cell_type": "markdown",
   "id": "96443564",
   "metadata": {},
   "source": [
    "#### 1. Import the numpy package under the name `np` (★☆☆)"
   ]
  },
  {
   "cell_type": "code",
   "execution_count": 124,
   "id": "ffe1047e",
   "metadata": {
    "ExecuteTime": {
     "end_time": "2023-11-20T15:14:02.346080900Z",
     "start_time": "2023-11-20T15:13:57.340516400Z"
    }
   },
   "outputs": [],
   "source": [
    "import numpy as np"
   ]
  },
  {
   "cell_type": "markdown",
   "id": "c807bf1d",
   "metadata": {},
   "source": [
    "#### 2. Print the numpy version and the configuration (★☆☆)"
   ]
  },
  {
   "cell_type": "code",
   "execution_count": 125,
   "id": "f396b717",
   "metadata": {
    "ExecuteTime": {
     "end_time": "2023-11-20T15:14:04.689682700Z",
     "start_time": "2023-11-20T15:13:57.384184400Z"
    }
   },
   "outputs": [
    {
     "name": "stdout",
     "output_type": "stream",
     "text": [
      "Version -  1.26.0\n",
      "Build Dependencies:\n",
      "  blas:\n",
      "    detection method: pkgconfig\n",
      "    found: true\n",
      "    include directory: C:/Users/Shevchenko/.conda/envs/Labs/Library/include\n",
      "    lib directory: C:/Users/Shevchenko/.conda/envs/Labs/Library/lib\n",
      "    name: mkl-sdl\n",
      "    pc file directory: C:\\b\\abs_9fu2cs2527\\croot\\numpy_and_numpy_base_1695830496596\\_h_env\\Library\\lib\\pkgconfig\n",
      "    version: '2023.1'\n",
      "  lapack:\n",
      "    detection method: pkgconfig\n",
      "    found: true\n",
      "    include directory: C:/Users/Shevchenko/.conda/envs/Labs/Library/include\n",
      "    lib directory: C:/Users/Shevchenko/.conda/envs/Labs/Library/lib\n",
      "    name: mkl-sdl\n",
      "    pc file directory: C:\\b\\abs_9fu2cs2527\\croot\\numpy_and_numpy_base_1695830496596\\_h_env\\Library\\lib\\pkgconfig\n",
      "    version: '2023.1'\n",
      "Compilers:\n",
      "  c:\n",
      "    commands: cl.exe\n",
      "    linker: link\n",
      "    name: msvc\n",
      "    version: 19.29.30152\n",
      "  c++:\n",
      "    commands: cl.exe\n",
      "    linker: link\n",
      "    name: msvc\n",
      "    version: 19.29.30152\n",
      "  cython:\n",
      "    commands: cython\n",
      "    linker: cython\n",
      "    name: cython\n",
      "    version: 3.0.0\n",
      "Machine Information:\n",
      "  build:\n",
      "    cpu: x86_64\n",
      "    endian: little\n",
      "    family: x86_64\n",
      "    system: windows\n",
      "  host:\n",
      "    cpu: x86_64\n",
      "    endian: little\n",
      "    family: x86_64\n",
      "    system: windows\n",
      "Python Information:\n",
      "  path: C:\\b\\abs_9fu2cs2527\\croot\\numpy_and_numpy_base_1695830496596\\_h_env\\python.exe\n",
      "  version: '3.10'\n",
      "SIMD Extensions:\n",
      "  baseline:\n",
      "  - SSE\n",
      "  - SSE2\n",
      "  - SSE3\n",
      "  found:\n",
      "  - SSSE3\n",
      "  - SSE41\n",
      "  - POPCNT\n",
      "  - SSE42\n",
      "  - AVX\n",
      "  - F16C\n",
      "  - FMA3\n",
      "  - AVX2\n",
      "  not found:\n",
      "  - AVX512F\n",
      "  - AVX512CD\n",
      "  - AVX512_SKX\n",
      "  - AVX512_CLX\n",
      "  - AVX512_CNL\n",
      "  - AVX512_ICL\n"
     ]
    }
   ],
   "source": [
    "print('Version - ', np.__version__)\n",
    "np.show_config()"
   ]
  },
  {
   "cell_type": "markdown",
   "id": "572c1bdb",
   "metadata": {},
   "source": [
    "#### 3. Create a null vector of size 10 (★☆☆)"
   ]
  },
  {
   "cell_type": "code",
   "execution_count": 126,
   "id": "31c9f6a5",
   "metadata": {
    "ExecuteTime": {
     "end_time": "2023-11-20T15:14:04.736640800Z",
     "start_time": "2023-11-20T15:13:57.453601200Z"
    }
   },
   "outputs": [
    {
     "name": "stdout",
     "output_type": "stream",
     "text": [
      "[0. 0. 0. 0. 0. 0. 0. 0. 0. 0.]\n"
     ]
    }
   ],
   "source": [
    "_vec = np.zeros(10)\n",
    "print(_vec)"
   ]
  },
  {
   "cell_type": "markdown",
   "id": "337e6e36",
   "metadata": {},
   "source": [
    "#### 4. How to find the memory size of any array (★☆☆)"
   ]
  },
  {
   "cell_type": "code",
   "execution_count": 127,
   "id": "31e8ec2e",
   "metadata": {
    "ExecuteTime": {
     "end_time": "2023-11-20T15:14:04.776594600Z",
     "start_time": "2023-11-20T15:13:57.515553200Z"
    }
   },
   "outputs": [
    {
     "name": "stdout",
     "output_type": "stream",
     "text": [
      "80\n"
     ]
    }
   ],
   "source": [
    "print(_vec.size * _vec.itemsize)"
   ]
  },
  {
   "cell_type": "markdown",
   "id": "166079c8",
   "metadata": {},
   "source": [
    "#### 5. How to get the documentation of the numpy add function from the command line? (★☆☆)"
   ]
  },
  {
   "cell_type": "code",
   "execution_count": 128,
   "id": "593cd80f",
   "metadata": {
    "ExecuteTime": {
     "end_time": "2023-11-20T15:14:04.841863500Z",
     "start_time": "2023-11-20T15:13:57.575982700Z"
    }
   },
   "outputs": [
    {
     "name": "stdout",
     "output_type": "stream",
     "text": [
      "add(x1, x2, /, out=None, *, where=True, casting='same_kind', order='K', dtype=None, subok=True[, signature, extobj])\n",
      "\n",
      "Add arguments element-wise.\n",
      "\n",
      "Parameters\n",
      "----------\n",
      "x1, x2 : array_like\n",
      "    The arrays to be added.\n",
      "    If ``x1.shape != x2.shape``, they must be broadcastable to a common\n",
      "    shape (which becomes the shape of the output).\n",
      "out : ndarray, None, or tuple of ndarray and None, optional\n",
      "    A location into which the result is stored. If provided, it must have\n",
      "    a shape that the inputs broadcast to. If not provided or None,\n",
      "    a freshly-allocated array is returned. A tuple (possible only as a\n",
      "    keyword argument) must have length equal to the number of outputs.\n",
      "where : array_like, optional\n",
      "    This condition is broadcast over the input. At locations where the\n",
      "    condition is True, the `out` array will be set to the ufunc result.\n",
      "    Elsewhere, the `out` array will retain its original value.\n",
      "    Note that if an uninitialized `out` array is created via the default\n",
      "    ``out=None``, locations within it where the condition is False will\n",
      "    remain uninitialized.\n",
      "**kwargs\n",
      "    For other keyword-only arguments, see the\n",
      "    :ref:`ufunc docs <ufuncs.kwargs>`.\n",
      "\n",
      "Returns\n",
      "-------\n",
      "add : ndarray or scalar\n",
      "    The sum of `x1` and `x2`, element-wise.\n",
      "    This is a scalar if both `x1` and `x2` are scalars.\n",
      "\n",
      "Notes\n",
      "-----\n",
      "Equivalent to `x1` + `x2` in terms of array broadcasting.\n",
      "\n",
      "Examples\n",
      "--------\n",
      ">>> np.add(1.0, 4.0)\n",
      "5.0\n",
      ">>> x1 = np.arange(9.0).reshape((3, 3))\n",
      ">>> x2 = np.arange(3.0)\n",
      ">>> np.add(x1, x2)\n",
      "array([[  0.,   2.,   4.],\n",
      "       [  3.,   5.,   7.],\n",
      "       [  6.,   8.,  10.]])\n",
      "\n",
      "The ``+`` operator can be used as a shorthand for ``np.add`` on ndarrays.\n",
      "\n",
      ">>> x1 = np.arange(9.0).reshape((3, 3))\n",
      ">>> x2 = np.arange(3.0)\n",
      ">>> x1 + x2\n",
      "array([[ 0.,  2.,  4.],\n",
      "       [ 3.,  5.,  7.],\n",
      "       [ 6.,  8., 10.]])\n"
     ]
    }
   ],
   "source": [
    "np.info(np.add)\n",
    "# python -c \"import numpy as np; help(np.add)\""
   ]
  },
  {
   "cell_type": "markdown",
   "id": "3add7101",
   "metadata": {},
   "source": [
    "#### 6. Create a null vector of size 10 but the fifth value which is 1 (★☆☆)"
   ]
  },
  {
   "cell_type": "code",
   "execution_count": 129,
   "id": "2edf3c42",
   "metadata": {
    "ExecuteTime": {
     "end_time": "2023-11-20T15:14:04.877530700Z",
     "start_time": "2023-11-20T15:13:57.634886Z"
    }
   },
   "outputs": [
    {
     "name": "stdout",
     "output_type": "stream",
     "text": [
      "[0. 0. 0. 0. 1. 0. 0. 0. 0. 0.]\n"
     ]
    }
   ],
   "source": [
    "_vec = np.zeros(10)\n",
    "_vec[4] = 1\n",
    "print(_vec)"
   ]
  },
  {
   "cell_type": "markdown",
   "id": "cfc46304",
   "metadata": {},
   "source": [
    "#### 7. Create a vector with values ranging from 10 to 49 (★☆☆)"
   ]
  },
  {
   "cell_type": "code",
   "execution_count": 130,
   "id": "d8b86640",
   "metadata": {
    "ExecuteTime": {
     "end_time": "2023-11-20T15:14:04.922675900Z",
     "start_time": "2023-11-20T15:13:57.676818900Z"
    }
   },
   "outputs": [
    {
     "name": "stdout",
     "output_type": "stream",
     "text": [
      "[10 11 12 13 14 15 16 17 18 19 20 21 22 23 24 25 26 27 28 29 30 31 32 33\n",
      " 34 35 36 37 38 39 40 41 42 43 44 45 46 47 48 49]\n"
     ]
    }
   ],
   "source": [
    "_vec = np.arange(10,50)\n",
    "print(_vec)"
   ]
  },
  {
   "cell_type": "markdown",
   "id": "0cc200be",
   "metadata": {},
   "source": [
    "#### 8. Reverse a vector (first element becomes last) (★☆☆)"
   ]
  },
  {
   "cell_type": "code",
   "execution_count": 131,
   "id": "ec044bb5",
   "metadata": {
    "ExecuteTime": {
     "end_time": "2023-11-20T15:14:04.965085500Z",
     "start_time": "2023-11-20T15:13:57.713680Z"
    }
   },
   "outputs": [
    {
     "name": "stdout",
     "output_type": "stream",
     "text": [
      "[9 8 7 6 5 4 3 2 1 0]\n"
     ]
    }
   ],
   "source": [
    "_vec = np.arange(0, 10)\n",
    "_vec = _vec[::-1]\n",
    "print(_vec)"
   ]
  },
  {
   "cell_type": "markdown",
   "id": "29d9ede4",
   "metadata": {},
   "source": [
    "#### 9. Create a 3x3 matrix with values ranging from 0 to 8 (★☆☆)"
   ]
  },
  {
   "cell_type": "code",
   "execution_count": 132,
   "id": "d9e39043",
   "metadata": {
    "ExecuteTime": {
     "end_time": "2023-11-20T15:14:05.006641700Z",
     "start_time": "2023-11-20T15:13:57.793744900Z"
    }
   },
   "outputs": [
    {
     "name": "stdout",
     "output_type": "stream",
     "text": [
      "[[0 1 2]\n",
      " [3 4 5]\n",
      " [6 7 8]]\n"
     ]
    }
   ],
   "source": [
    "_vec = np.arange(9).reshape(3, 3)\n",
    "print(_vec)"
   ]
  },
  {
   "cell_type": "markdown",
   "id": "88905ceb",
   "metadata": {},
   "source": [
    "#### 10. Find indices of non-zero elements from [1,2,0,0,4,0] (★☆☆)"
   ]
  },
  {
   "cell_type": "code",
   "execution_count": 133,
   "id": "b2f3c90a",
   "metadata": {
    "ExecuteTime": {
     "end_time": "2023-11-20T15:14:05.041556Z",
     "start_time": "2023-11-20T15:13:57.853668300Z"
    }
   },
   "outputs": [
    {
     "name": "stdout",
     "output_type": "stream",
     "text": [
      "(array([0, 1, 4], dtype=int64),)\n"
     ]
    }
   ],
   "source": [
    "nonzero_indices = np.nonzero([1,2,0,0,4,0])\n",
    "print(nonzero_indices)"
   ]
  },
  {
   "cell_type": "markdown",
   "id": "49603e91",
   "metadata": {},
   "source": [
    "#### 11. Create a 3x3 identity matrix (★☆☆)"
   ]
  },
  {
   "cell_type": "code",
   "execution_count": 134,
   "id": "5b607b5c",
   "metadata": {
    "ExecuteTime": {
     "end_time": "2023-11-20T15:14:05.071670Z",
     "start_time": "2023-11-20T15:13:57.919778100Z"
    }
   },
   "outputs": [
    {
     "name": "stdout",
     "output_type": "stream",
     "text": [
      "[[1. 0. 0.]\n",
      " [0. 1. 0.]\n",
      " [0. 0. 1.]]\n"
     ]
    }
   ],
   "source": [
    "_matrix = np.eye(3)\n",
    "print(_matrix)"
   ]
  },
  {
   "cell_type": "markdown",
   "id": "e15c249a",
   "metadata": {},
   "source": [
    "#### 12. Create a 3x3x3 array with random values (★☆☆)"
   ]
  },
  {
   "cell_type": "code",
   "execution_count": 135,
   "id": "ab21ed50",
   "metadata": {
    "ExecuteTime": {
     "end_time": "2023-11-20T15:14:05.137345300Z",
     "start_time": "2023-11-20T15:13:57.982768800Z"
    }
   },
   "outputs": [
    {
     "name": "stdout",
     "output_type": "stream",
     "text": [
      "[[[0.65544276 0.3091568  0.65767942]\n",
      "  [0.8360777  0.70105025 0.48568242]\n",
      "  [0.76594988 0.45845261 0.18796412]]\n",
      "\n",
      " [[0.78010547 0.23635984 0.75013295]\n",
      "  [0.17826813 0.18451252 0.68647372]\n",
      "  [0.90744803 0.50680611 0.20409306]]\n",
      "\n",
      " [[0.97438909 0.00903318 0.16495723]\n",
      "  [0.01220522 0.15199958 0.85424336]\n",
      "  [0.02633926 0.41571391 0.33706594]]]\n"
     ]
    }
   ],
   "source": [
    "_arr = np.random.random((3,3,3))\n",
    "print(_arr)"
   ]
  },
  {
   "cell_type": "markdown",
   "id": "157a129c",
   "metadata": {},
   "source": [
    "#### 13. Create a 10x10 array with random values and find the minimum and maximum values (★☆☆)"
   ]
  },
  {
   "cell_type": "code",
   "execution_count": 136,
   "id": "c0066de5",
   "metadata": {
    "ExecuteTime": {
     "end_time": "2023-11-20T15:14:05.204487200Z",
     "start_time": "2023-11-20T15:13:58.041340800Z"
    }
   },
   "outputs": [
    {
     "name": "stdout",
     "output_type": "stream",
     "text": [
      "0.005574174131001364 0.9694311565826373\n"
     ]
    }
   ],
   "source": [
    "Arr = np.random.random((10,10))\n",
    "Arrmin, Arrmax = Arr.min(), Arr.max()\n",
    "print(Arrmin, Arrmax)"
   ]
  },
  {
   "cell_type": "markdown",
   "id": "d92d7b32",
   "metadata": {},
   "source": [
    "#### 14. Create a random vector of size 30 and find the mean value (★☆☆)"
   ]
  },
  {
   "cell_type": "code",
   "execution_count": 137,
   "id": "9672d023",
   "metadata": {
    "ExecuteTime": {
     "end_time": "2023-11-20T15:14:05.224483900Z",
     "start_time": "2023-11-20T15:13:58.098068900Z"
    }
   },
   "outputs": [
    {
     "name": "stdout",
     "output_type": "stream",
     "text": [
      "0.4629354257186984\n"
     ]
    }
   ],
   "source": [
    "_vec = np.random.random(30)\n",
    "_mean = _vec.mean()\n",
    "print(_mean)"
   ]
  },
  {
   "cell_type": "markdown",
   "id": "f361efc0",
   "metadata": {},
   "source": [
    "#### 15. Create a 2d array with 1 on the border and 0 inside (★☆☆)"
   ]
  },
  {
   "cell_type": "code",
   "execution_count": 138,
   "id": "a55b6666",
   "metadata": {
    "ExecuteTime": {
     "end_time": "2023-11-20T15:14:05.254809500Z",
     "start_time": "2023-11-20T15:13:58.160557600Z"
    }
   },
   "outputs": [
    {
     "name": "stdout",
     "output_type": "stream",
     "text": [
      "[[1. 1. 1. 1. 1. 1. 1. 1. 1. 1.]\n",
      " [1. 0. 0. 0. 0. 0. 0. 0. 0. 1.]\n",
      " [1. 0. 0. 0. 0. 0. 0. 0. 0. 1.]\n",
      " [1. 0. 0. 0. 0. 0. 0. 0. 0. 1.]\n",
      " [1. 0. 0. 0. 0. 0. 0. 0. 0. 1.]\n",
      " [1. 0. 0. 0. 0. 0. 0. 0. 0. 1.]\n",
      " [1. 0. 0. 0. 0. 0. 0. 0. 0. 1.]\n",
      " [1. 0. 0. 0. 0. 0. 0. 0. 0. 1.]\n",
      " [1. 0. 0. 0. 0. 0. 0. 0. 0. 1.]\n",
      " [1. 1. 1. 1. 1. 1. 1. 1. 1. 1.]]\n"
     ]
    }
   ],
   "source": [
    "_arr = np.ones((10,10))\n",
    "_arr[1:-1,1:-1] = 0\n",
    "print(_arr)"
   ]
  },
  {
   "cell_type": "markdown",
   "id": "475808cb",
   "metadata": {},
   "source": [
    "#### 16. How to add a border (filled with 0's) around an existing array? (★☆☆)"
   ]
  },
  {
   "cell_type": "code",
   "execution_count": 139,
   "id": "b2df3a8a",
   "metadata": {
    "ExecuteTime": {
     "end_time": "2023-11-20T15:14:05.273390800Z",
     "start_time": "2023-11-20T15:13:58.213495700Z"
    }
   },
   "outputs": [
    {
     "name": "stdout",
     "output_type": "stream",
     "text": [
      "[[0. 0. 0. 0. 0. 0. 0.]\n",
      " [0. 1. 1. 1. 1. 1. 0.]\n",
      " [0. 1. 1. 1. 1. 1. 0.]\n",
      " [0. 1. 1. 1. 1. 1. 0.]\n",
      " [0. 1. 1. 1. 1. 1. 0.]\n",
      " [0. 1. 1. 1. 1. 1. 0.]\n",
      " [0. 0. 0. 0. 0. 0. 0.]]\n"
     ]
    }
   ],
   "source": [
    "_arr = np.ones((5, 5))\n",
    "_arr = np.pad(_arr, pad_width = 1, mode = 'constant', constant_values = 0)\n",
    "print(_arr)"
   ]
  },
  {
   "cell_type": "markdown",
   "id": "1af07d85",
   "metadata": {},
   "source": [
    "#### 17. What is the result of the following expression? (★☆☆)\n",
    "```python\n",
    "0 * np.nan\n",
    "np.nan == np.nan\n",
    "np.inf > np.nan\n",
    "np.nan - np.nan\n",
    "np.nan in set([np.nan])\n",
    "0.3 == 3 * 0.1\n",
    "```"
   ]
  },
  {
   "cell_type": "code",
   "execution_count": 140,
   "id": "109cf327",
   "metadata": {
    "ExecuteTime": {
     "end_time": "2023-11-20T15:14:05.306323900Z",
     "start_time": "2023-11-20T15:13:58.291957Z"
    }
   },
   "outputs": [
    {
     "name": "stdout",
     "output_type": "stream",
     "text": [
      "nan\n",
      "False\n",
      "False\n",
      "nan\n",
      "True\n",
      "False\n"
     ]
    }
   ],
   "source": [
    "print(0 * np.nan)\n",
    "print(np.nan == np.nan)\n",
    "print(np.inf > np.nan)\n",
    "print(np.nan - np.nan)\n",
    "print(np.nan in set([np.nan]))\n",
    "print(0.3 == 3 * 0.1)"
   ]
  },
  {
   "cell_type": "markdown",
   "id": "6a235316",
   "metadata": {},
   "source": [
    "#### 18. Create a 5x5 matrix with values 1,2,3,4 just below the diagonal (★☆☆)"
   ]
  },
  {
   "cell_type": "code",
   "execution_count": 141,
   "id": "f2e6cfa6",
   "metadata": {
    "ExecuteTime": {
     "end_time": "2023-11-20T15:14:05.354783200Z",
     "start_time": "2023-11-20T15:13:58.344602800Z"
    }
   },
   "outputs": [
    {
     "name": "stdout",
     "output_type": "stream",
     "text": [
      "[[0 0 0 0 0]\n",
      " [1 0 0 0 0]\n",
      " [0 2 0 0 0]\n",
      " [0 0 3 0 0]\n",
      " [0 0 0 4 0]]\n"
     ]
    }
   ],
   "source": [
    "_matrix = np.diag(1 + np.arange(4),k = -1)\n",
    "print(_matrix)"
   ]
  },
  {
   "cell_type": "markdown",
   "id": "25362e98",
   "metadata": {},
   "source": [
    "#### 19. Create a 8x8 matrix and fill it with a checkerboard pattern (★☆☆)"
   ]
  },
  {
   "cell_type": "code",
   "execution_count": 142,
   "id": "cabdf298",
   "metadata": {
    "ExecuteTime": {
     "end_time": "2023-11-20T15:14:05.400937400Z",
     "start_time": "2023-11-20T15:13:58.389445700Z"
    }
   },
   "outputs": [
    {
     "name": "stdout",
     "output_type": "stream",
     "text": [
      "[[0 1 0 1 0 1 0 1]\n",
      " [1 0 1 0 1 0 1 0]\n",
      " [0 1 0 1 0 1 0 1]\n",
      " [1 0 1 0 1 0 1 0]\n",
      " [0 1 0 1 0 1 0 1]\n",
      " [1 0 1 0 1 0 1 0]\n",
      " [0 1 0 1 0 1 0 1]\n",
      " [1 0 1 0 1 0 1 0]]\n"
     ]
    }
   ],
   "source": [
    "_matrix = np.zeros((8, 8), dtype = int)\n",
    "_matrix[1::2,::2] = 1\n",
    "_matrix[::2,1::2] = 1\n",
    "print(_matrix)"
   ]
  },
  {
   "cell_type": "markdown",
   "id": "6431e977",
   "metadata": {},
   "source": [
    "#### 20. Consider a (6,7,8) shape array, what is the index (x,y,z) of the 100th element? (★☆☆)"
   ]
  },
  {
   "cell_type": "code",
   "execution_count": 143,
   "id": "de8b0245",
   "metadata": {
    "ExecuteTime": {
     "end_time": "2023-11-20T15:14:05.437097400Z",
     "start_time": "2023-11-20T15:13:58.443897900Z"
    }
   },
   "outputs": [
    {
     "name": "stdout",
     "output_type": "stream",
     "text": [
      "(1, 5, 3)\n"
     ]
    }
   ],
   "source": [
    "print(np.unravel_index(99,(6,7,8)))"
   ]
  },
  {
   "cell_type": "markdown",
   "id": "31abe6fe",
   "metadata": {},
   "source": [
    "#### 21. Create a checkerboard 8x8 matrix using the tile function (★☆☆)"
   ]
  },
  {
   "cell_type": "code",
   "execution_count": 144,
   "id": "6da26fd3",
   "metadata": {
    "ExecuteTime": {
     "end_time": "2023-11-20T15:14:05.458411700Z",
     "start_time": "2023-11-20T15:13:58.503579700Z"
    }
   },
   "outputs": [
    {
     "name": "stdout",
     "output_type": "stream",
     "text": [
      "[[0 1 0 1 0 1 0 1]\n",
      " [1 0 1 0 1 0 1 0]\n",
      " [0 1 0 1 0 1 0 1]\n",
      " [1 0 1 0 1 0 1 0]\n",
      " [0 1 0 1 0 1 0 1]\n",
      " [1 0 1 0 1 0 1 0]\n",
      " [0 1 0 1 0 1 0 1]\n",
      " [1 0 1 0 1 0 1 0]]\n"
     ]
    }
   ],
   "source": [
    "_arr = np.tile( np.array([[0,1],[1,0]]), (4,4))\n",
    "print(_arr)"
   ]
  },
  {
   "cell_type": "markdown",
   "id": "fd88b3f4",
   "metadata": {},
   "source": [
    "#### 22. Normalize a 5x5 random matrix (★☆☆)"
   ]
  },
  {
   "cell_type": "code",
   "execution_count": 145,
   "id": "ee6ced60",
   "metadata": {
    "ExecuteTime": {
     "end_time": "2023-11-20T15:14:05.522062800Z",
     "start_time": "2023-11-20T15:13:58.580293100Z"
    }
   },
   "outputs": [
    {
     "name": "stdout",
     "output_type": "stream",
     "text": [
      "[[ 0.55061752  1.25916913 -1.14282747  0.61977254  0.61503834]\n",
      " [ 1.44633978 -0.79873321  1.40182681  1.23005096 -0.58395146]\n",
      " [-1.05742969 -0.62291041 -0.51547367  1.10596957 -0.92287537]\n",
      " [ 1.59150154 -0.65113446 -0.77739084 -1.21048468  0.89859449]\n",
      " [-0.96162497 -1.12018665 -0.56302845 -0.96656907  1.17573972]]\n"
     ]
    }
   ],
   "source": [
    "_matrix = np.random.random((5,5))\n",
    "_matrix = (_matrix - np.mean(_matrix)) / (np.std(_matrix))\n",
    "print(_matrix)"
   ]
  },
  {
   "cell_type": "markdown",
   "id": "464d8590",
   "metadata": {},
   "source": [
    "#### 23. Create a custom dtype that describes a color as four unsigned bytes (RGBA) (★☆☆)"
   ]
  },
  {
   "cell_type": "code",
   "execution_count": 146,
   "id": "e2f9cfc6",
   "metadata": {
    "ExecuteTime": {
     "end_time": "2023-11-20T15:14:05.566593400Z",
     "start_time": "2023-11-20T15:13:58.637559900Z"
    }
   },
   "outputs": [],
   "source": [
    "_color = np.dtype([(\"r\", np.ubyte), (\"g\", np.ubyte), (\"b\", np.ubyte), (\"a\", np.ubyte)])"
   ]
  },
  {
   "cell_type": "markdown",
   "id": "06c63bb3",
   "metadata": {},
   "source": [
    "#### 24. Multiply a 5x3 matrix by a 3x2 matrix (real matrix product) (★☆☆)"
   ]
  },
  {
   "cell_type": "code",
   "execution_count": 147,
   "id": "9fc0d553",
   "metadata": {
    "ExecuteTime": {
     "end_time": "2023-11-20T15:14:05.623057100Z",
     "start_time": "2023-11-20T15:13:58.686070100Z"
    }
   },
   "outputs": [
    {
     "name": "stdout",
     "output_type": "stream",
     "text": [
      "[[3. 3.]\n",
      " [3. 3.]\n",
      " [3. 3.]\n",
      " [3. 3.]\n",
      " [3. 3.]]\n"
     ]
    }
   ],
   "source": [
    "_matrix = np.dot(np.ones((5,3)), np.ones((3,2)))\n",
    "print(_matrix)"
   ]
  },
  {
   "cell_type": "markdown",
   "id": "76fa6285",
   "metadata": {},
   "source": [
    "#### 25. Given a 1D array, negate all elements which are between 3 and 8, in place. (★☆☆)"
   ]
  },
  {
   "cell_type": "code",
   "execution_count": 148,
   "id": "0e25eca7",
   "metadata": {
    "ExecuteTime": {
     "end_time": "2023-11-20T15:14:05.659402300Z",
     "start_time": "2023-11-20T15:13:58.762703700Z"
    }
   },
   "outputs": [
    {
     "name": "stdout",
     "output_type": "stream",
     "text": [
      "[ 0  1  2  3 -4 -5 -6 -7  8  9 10]\n"
     ]
    }
   ],
   "source": [
    "_arr = np.arange(11)\n",
    "_arr[(3 < _arr) & (_arr < 8)] *= -1\n",
    "print(_arr)"
   ]
  },
  {
   "cell_type": "markdown",
   "id": "930ed8bb",
   "metadata": {},
   "source": [
    "#### 26. What is the output of the following script? (★☆☆)\n",
    "```python\n",
    "# Author: Jake VanderPlas\n",
    "\n",
    "print(sum(range(5),-1))\n",
    "from numpy import *\n",
    "print(sum(range(5),-1))\n",
    "```"
   ]
  },
  {
   "cell_type": "code",
   "execution_count": 149,
   "id": "f02eedba",
   "metadata": {
    "ExecuteTime": {
     "end_time": "2023-11-20T15:14:05.729965500Z",
     "start_time": "2023-11-20T15:13:58.841172200Z"
    }
   },
   "outputs": [
    {
     "ename": "TypeError",
     "evalue": "'numpy.ndarray' object is not callable",
     "output_type": "error",
     "traceback": [
      "\u001B[1;31m---------------------------------------------------------------------------\u001B[0m",
      "\u001B[1;31mTypeError\u001B[0m                                 Traceback (most recent call last)",
      "Cell \u001B[1;32mIn[149], line 1\u001B[0m\n\u001B[1;32m----> 1\u001B[0m \u001B[38;5;28mprint\u001B[39m(\u001B[38;5;28;43msum\u001B[39;49m\u001B[43m(\u001B[49m\u001B[38;5;28;43mrange\u001B[39;49m\u001B[43m(\u001B[49m\u001B[38;5;241;43m5\u001B[39;49m\u001B[43m)\u001B[49m\u001B[43m,\u001B[49m\u001B[38;5;241;43m-\u001B[39;49m\u001B[38;5;241;43m1\u001B[39;49m\u001B[43m)\u001B[49m)\n\u001B[0;32m      2\u001B[0m \u001B[38;5;28;01mfrom\u001B[39;00m \u001B[38;5;21;01mnumpy\u001B[39;00m \u001B[38;5;28;01mimport\u001B[39;00m \u001B[38;5;241m*\u001B[39m\n\u001B[0;32m      3\u001B[0m \u001B[38;5;28mprint\u001B[39m(\u001B[38;5;28msum\u001B[39m(\u001B[38;5;28mrange\u001B[39m(\u001B[38;5;241m5\u001B[39m),\u001B[38;5;241m-\u001B[39m\u001B[38;5;241m1\u001B[39m))\n",
      "\u001B[1;31mTypeError\u001B[0m: 'numpy.ndarray' object is not callable"
     ]
    }
   ],
   "source": [
    "print(sum(range(5),-1))\n",
    "from numpy import *\n",
    "print(sum(range(5),-1))"
   ]
  },
  {
   "cell_type": "markdown",
   "id": "177120e7",
   "metadata": {},
   "source": [
    "#### 27. Consider an integer vector Z, which of these expressions are legal? (★☆☆)\n",
    "```python\n",
    "Z**Z\n",
    "2 << Z >> 2\n",
    "Z <- Z\n",
    "1j*Z\n",
    "Z/1/1\n",
    "Z<Z>Z\n",
    "```"
   ]
  },
  {
   "cell_type": "code",
   "execution_count": null,
   "id": "86d6cbef",
   "metadata": {
    "ExecuteTime": {
     "start_time": "2023-11-20T15:13:58.926040800Z"
    }
   },
   "outputs": [],
   "source": []
  },
  {
   "cell_type": "markdown",
   "id": "a6eaf0e8",
   "metadata": {},
   "source": [
    "#### 28. What are the result of the following expressions? (★☆☆)\n",
    "```python\n",
    "np.array(0) / np.array(0)\n",
    "np.array(0) // np.array(0)\n",
    "np.array([np.nan]).astype(int).astype(float)\n",
    "```"
   ]
  },
  {
   "cell_type": "code",
   "execution_count": 150,
   "id": "93684068",
   "metadata": {
    "ExecuteTime": {
     "end_time": "2023-11-20T15:14:05.772893400Z",
     "start_time": "2023-11-20T15:13:58.950437900Z"
    }
   },
   "outputs": [
    {
     "name": "stdout",
     "output_type": "stream",
     "text": [
      "nan\n",
      "0\n",
      "[-2.14748365e+09]\n"
     ]
    }
   ],
   "source": [
    "print(np.array(0) / np.array(0))\n",
    "print(np.array(0) // np.array(0))\n",
    "print(np.array([np.nan]).astype(int).astype(float))"
   ]
  },
  {
   "cell_type": "markdown",
   "id": "524b65f8",
   "metadata": {},
   "source": [
    "#### 29. How to round away from zero a float array ? (★☆☆)"
   ]
  },
  {
   "cell_type": "code",
   "execution_count": 151,
   "id": "61fbb78e",
   "metadata": {
    "ExecuteTime": {
     "end_time": "2023-11-20T15:14:05.806024200Z",
     "start_time": "2023-11-20T15:13:59.007686800Z"
    }
   },
   "outputs": [
    {
     "name": "stdout",
     "output_type": "stream",
     "text": [
      "[ -9.  -3.  10.  -3.  -5.   2.   8. -10.   2.   8.]\n"
     ]
    }
   ],
   "source": [
    "Z = np.random.uniform(-10,+10,10)\n",
    "print(np.copysign(np.ceil(np.abs(Z)), Z))"
   ]
  },
  {
   "cell_type": "markdown",
   "id": "8dc40752",
   "metadata": {},
   "source": [
    "#### 30. How to find common values between two arrays? (★☆☆)"
   ]
  },
  {
   "cell_type": "code",
   "execution_count": 152,
   "id": "54399cbe",
   "metadata": {
    "ExecuteTime": {
     "end_time": "2023-11-20T15:14:05.828224900Z",
     "start_time": "2023-11-20T15:13:59.062158400Z"
    }
   },
   "outputs": [
    {
     "name": "stdout",
     "output_type": "stream",
     "text": [
      "[0 3 4 7 8 9]\n"
     ]
    }
   ],
   "source": [
    "Z1 = np.random.randint(0,10,10)\n",
    "Z2 = np.random.randint(0,10,10)\n",
    "print(np.intersect1d(Z1,Z2))"
   ]
  },
  {
   "cell_type": "markdown",
   "id": "b7f38e21",
   "metadata": {},
   "source": [
    "#### 31. How to ignore all numpy warnings (not recommended)? (★☆☆)"
   ]
  },
  {
   "cell_type": "code",
   "execution_count": 153,
   "id": "2ca3289c",
   "metadata": {
    "ExecuteTime": {
     "end_time": "2023-11-20T15:14:05.855336400Z",
     "start_time": "2023-11-20T15:13:59.121370400Z"
    }
   },
   "outputs": [],
   "source": [
    "defaults = np.seterr(all = \"ignore\")\n",
    "Z = np.ones(1) / 0"
   ]
  },
  {
   "cell_type": "markdown",
   "id": "2d850aab",
   "metadata": {},
   "source": [
    "#### 32. Is the following expressions true? (★☆☆)\n",
    "```python\n",
    "np.sqrt(-1) == np.emath.sqrt(-1)\n",
    "```"
   ]
  },
  {
   "cell_type": "code",
   "execution_count": 154,
   "id": "5c83ffce",
   "metadata": {
    "ExecuteTime": {
     "end_time": "2023-11-20T15:14:05.922336200Z",
     "start_time": "2023-11-20T15:13:59.174037400Z"
    }
   },
   "outputs": [
    {
     "name": "stdout",
     "output_type": "stream",
     "text": [
      "False\n"
     ]
    }
   ],
   "source": [
    "print(np.sqrt(-1) == np.emath.sqrt(-1))"
   ]
  },
  {
   "cell_type": "markdown",
   "id": "5c4a556f",
   "metadata": {},
   "source": [
    "#### 33. How to get the dates of yesterday, today and tomorrow? (★☆☆)"
   ]
  },
  {
   "cell_type": "code",
   "execution_count": 155,
   "id": "c3b683a0",
   "metadata": {
    "ExecuteTime": {
     "end_time": "2023-11-20T15:14:05.940669100Z",
     "start_time": "2023-11-20T15:13:59.224966Z"
    }
   },
   "outputs": [],
   "source": [
    "yesterday = np.datetime64('today') - np.timedelta64(1)\n",
    "today = np.datetime64('today')\n",
    "tomorrow = np.datetime64('today') + np.timedelta64(1)"
   ]
  },
  {
   "cell_type": "markdown",
   "id": "453cdd64",
   "metadata": {},
   "source": [
    "#### 34. How to get all the dates corresponding to the month of July 2016? (★★☆)"
   ]
  },
  {
   "cell_type": "code",
   "execution_count": 156,
   "id": "4ba4d37c",
   "metadata": {
    "ExecuteTime": {
     "end_time": "2023-11-20T15:14:05.970868600Z",
     "start_time": "2023-11-20T15:13:59.264588400Z"
    }
   },
   "outputs": [
    {
     "name": "stdout",
     "output_type": "stream",
     "text": [
      "['2016-07-01' '2016-07-02' '2016-07-03' '2016-07-04' '2016-07-05'\n",
      " '2016-07-06' '2016-07-07' '2016-07-08' '2016-07-09' '2016-07-10'\n",
      " '2016-07-11' '2016-07-12' '2016-07-13' '2016-07-14' '2016-07-15'\n",
      " '2016-07-16' '2016-07-17' '2016-07-18' '2016-07-19' '2016-07-20'\n",
      " '2016-07-21' '2016-07-22' '2016-07-23' '2016-07-24' '2016-07-25'\n",
      " '2016-07-26' '2016-07-27' '2016-07-28' '2016-07-29' '2016-07-30'\n",
      " '2016-07-31']\n"
     ]
    }
   ],
   "source": [
    "_dates = np.arange('2016-07', '2016-08', dtype = 'datetime64[D]')\n",
    "print(_dates)"
   ]
  },
  {
   "cell_type": "markdown",
   "id": "52667b6e",
   "metadata": {},
   "source": [
    "#### 35. How to compute ((A+B)*(-A/2)) in place (without copy)? (★★☆)"
   ]
  },
  {
   "cell_type": "code",
   "execution_count": 157,
   "id": "e6e7c030",
   "metadata": {
    "ExecuteTime": {
     "end_time": "2023-11-20T15:14:06.003142600Z",
     "start_time": "2023-11-20T15:13:59.312049400Z"
    }
   },
   "outputs": [
    {
     "name": "stdout",
     "output_type": "stream",
     "text": [
      "[-1.5]\n"
     ]
    }
   ],
   "source": [
    "A = np.ones(1) * 1\n",
    "B = np.ones(1) * 2\n",
    "np.add(A, B, out = B)\n",
    "np.divide(A, 2, out = A)\n",
    "np.negative(A, out = A)\n",
    "np.multiply(A, B, out = A)\n",
    "\n",
    "print(A)"
   ]
  },
  {
   "cell_type": "markdown",
   "id": "9a8f3738",
   "metadata": {},
   "source": [
    "#### 36. Extract the integer part of a random array of positive numbers using 4 different methods (★★☆)"
   ]
  },
  {
   "cell_type": "code",
   "execution_count": 158,
   "id": "368a801a",
   "metadata": {
    "ExecuteTime": {
     "end_time": "2023-11-20T15:14:06.052203900Z",
     "start_time": "2023-11-20T15:13:59.351793300Z"
    }
   },
   "outputs": [
    {
     "name": "stdout",
     "output_type": "stream",
     "text": [
      "[3. 6. 3. 6. 8. 1. 6. 3. 3. 9.]\n",
      "[3. 6. 3. 6. 8. 1. 6. 3. 3. 9.]\n",
      "[3. 6. 3. 6. 8. 1. 6. 3. 3. 9.]\n",
      "[3 6 3 6 8 1 6 3 3 9]\n",
      "[3. 6. 3. 6. 8. 1. 6. 3. 3. 9.]\n"
     ]
    }
   ],
   "source": [
    "_arr = np.random.uniform(0,10,10)\n",
    "\n",
    "print(np.floor(_arr))\n",
    "print(_arr - _arr % 1)\n",
    "print(np.trunc(_arr))\n",
    "print(_arr.astype(int))\n",
    "print(_arr // 1)"
   ]
  },
  {
   "cell_type": "markdown",
   "id": "cab1eed1",
   "metadata": {},
   "source": [
    "#### 37. Create a 5x5 matrix with row values ranging from 0 to 4 (★★☆)"
   ]
  },
  {
   "cell_type": "code",
   "execution_count": 159,
   "id": "f1b579ba",
   "metadata": {
    "ExecuteTime": {
     "end_time": "2023-11-20T15:14:06.087442Z",
     "start_time": "2023-11-20T15:13:59.389003200Z"
    }
   },
   "outputs": [
    {
     "name": "stdout",
     "output_type": "stream",
     "text": [
      "[[0. 1. 2. 3. 4.]\n",
      " [0. 1. 2. 3. 4.]\n",
      " [0. 1. 2. 3. 4.]\n",
      " [0. 1. 2. 3. 4.]\n",
      " [0. 1. 2. 3. 4.]]\n"
     ]
    }
   ],
   "source": [
    "_matrix = np.zeros((5,5))\n",
    "_matrix += np.arange(5)\n",
    "print(_matrix)"
   ]
  },
  {
   "cell_type": "markdown",
   "id": "cd0ce6b1",
   "metadata": {},
   "source": [
    "#### 38. Consider a generator function that generates 10 integers and use it to build an array (★☆☆)"
   ]
  },
  {
   "cell_type": "code",
   "execution_count": 160,
   "id": "aab193a6",
   "metadata": {
    "ExecuteTime": {
     "end_time": "2023-11-20T15:14:06.133528800Z",
     "start_time": "2023-11-20T15:13:59.431289900Z"
    }
   },
   "outputs": [
    {
     "name": "stdout",
     "output_type": "stream",
     "text": [
      "[0. 1. 2. 3. 4. 5. 6. 7. 8. 9.]\n"
     ]
    }
   ],
   "source": [
    "def generate():\n",
    "    for x in range(10):\n",
    "        yield x\n",
    "_arr = np.fromiter(generate(),dtype = float,count = -1)\n",
    "print(_arr)"
   ]
  },
  {
   "cell_type": "markdown",
   "id": "c4c942d1",
   "metadata": {},
   "source": [
    "#### 39. Create a vector of size 10 with values ranging from 0 to 1, both excluded (★★☆)"
   ]
  },
  {
   "cell_type": "code",
   "execution_count": 161,
   "id": "e42eaa4b",
   "metadata": {
    "ExecuteTime": {
     "end_time": "2023-11-20T15:14:06.152858600Z",
     "start_time": "2023-11-20T15:13:59.476146800Z"
    }
   },
   "outputs": [
    {
     "name": "stdout",
     "output_type": "stream",
     "text": [
      "[0.09090909 0.18181818 0.27272727 0.36363636 0.45454545 0.54545455\n",
      " 0.63636364 0.72727273 0.81818182 0.90909091]\n"
     ]
    }
   ],
   "source": [
    "_vec = np.linspace(0, 1, 11,endpoint = False)[1:]\n",
    "print(_vec)"
   ]
  },
  {
   "cell_type": "markdown",
   "id": "9b3cb8d2",
   "metadata": {},
   "source": [
    "#### 40. Create a random vector of size 10 and sort it (★★☆)"
   ]
  },
  {
   "cell_type": "code",
   "execution_count": 162,
   "id": "37d2b341",
   "metadata": {
    "ExecuteTime": {
     "end_time": "2023-11-20T15:14:06.230091Z",
     "start_time": "2023-11-20T15:13:59.521198100Z"
    }
   },
   "outputs": [
    {
     "name": "stdout",
     "output_type": "stream",
     "text": [
      "[0.04841106 0.22296266 0.47393537 0.47596327 0.49268715 0.63779704\n",
      " 0.82207395 0.94273435 0.97731822 0.99415462]\n"
     ]
    }
   ],
   "source": [
    "_vec = np.random.random(10)\n",
    "_vec.sort()\n",
    "print(_vec)"
   ]
  },
  {
   "cell_type": "markdown",
   "id": "2facfddc",
   "metadata": {},
   "source": [
    "#### 41. How to sum a small array faster than np.sum? (★★☆)"
   ]
  },
  {
   "cell_type": "code",
   "execution_count": 163,
   "id": "4bb8864f",
   "metadata": {
    "ExecuteTime": {
     "end_time": "2023-11-20T15:14:06.239048Z",
     "start_time": "2023-11-20T15:13:59.575850200Z"
    }
   },
   "outputs": [
    {
     "data": {
      "text/plain": "45"
     },
     "execution_count": 163,
     "metadata": {},
     "output_type": "execute_result"
    }
   ],
   "source": [
    "_arr = np.arange(10)\n",
    "np.add.reduce(_arr)"
   ]
  },
  {
   "cell_type": "markdown",
   "id": "539cd2a5",
   "metadata": {},
   "source": [
    "#### 42. Consider two random array A and B, check if they are equal (★★☆)"
   ]
  },
  {
   "cell_type": "code",
   "execution_count": 164,
   "id": "5246d7bf",
   "metadata": {
    "ExecuteTime": {
     "end_time": "2023-11-20T15:14:06.287098200Z",
     "start_time": "2023-11-20T15:13:59.633560800Z"
    }
   },
   "outputs": [
    {
     "name": "stdout",
     "output_type": "stream",
     "text": [
      "False\n"
     ]
    }
   ],
   "source": [
    "A = np.random.randint(0, 2, 5)\n",
    "B = np.random.randint(0, 2, 5)\n",
    "\n",
    "equal = np.array_equal(A, B)\n",
    "print(equal)"
   ]
  },
  {
   "cell_type": "markdown",
   "id": "448f8274",
   "metadata": {},
   "source": [
    "#### 43. Make an array immutable (read-only) (★★☆)"
   ]
  },
  {
   "cell_type": "code",
   "execution_count": 165,
   "id": "7cf2b3dd",
   "metadata": {
    "ExecuteTime": {
     "end_time": "2023-11-20T15:14:06.321687900Z",
     "start_time": "2023-11-20T15:13:59.687555700Z"
    }
   },
   "outputs": [
    {
     "name": "stdout",
     "output_type": "stream",
     "text": [
      "[0. 0. 0. 0. 0. 0. 0. 0. 0. 0.]\n"
     ]
    }
   ],
   "source": [
    "_arr = np.zeros(10)\n",
    "_arr.flags.writeable = False\n",
    "#_arr[0] = 1 # will be an error\n",
    "print(_arr)"
   ]
  },
  {
   "cell_type": "markdown",
   "id": "d7b7aaf3",
   "metadata": {},
   "source": [
    "#### 44. Consider a random 10x2 matrix representing cartesian coordinates, convert them to polar coordinates (★★☆)"
   ]
  },
  {
   "cell_type": "code",
   "execution_count": 166,
   "id": "e2337585",
   "metadata": {
    "ExecuteTime": {
     "end_time": "2023-11-20T15:14:06.362205200Z",
     "start_time": "2023-11-20T15:13:59.748018900Z"
    }
   },
   "outputs": [
    {
     "name": "stdout",
     "output_type": "stream",
     "text": [
      "[0.53189973 0.40597312 0.60116483 0.78468804 0.1373962  0.32120563\n",
      " 0.72200575 0.73221414 0.59070971 0.40855284]\n",
      "[1.51980297 1.46548667 1.02914699 1.40812133 1.10379111 1.21869634\n",
      " 1.38995968 0.06125648 1.21778763 0.74653473]\n"
     ]
    }
   ],
   "source": [
    "_matrix = np.random.random((10,2))\n",
    "X,Y = _matrix[:,0], _matrix[:,1]\n",
    "R = np.sqrt(X ** 2 + Y ** 2)\n",
    "T = np.arctan2(Y, X)\n",
    "print(R)\n",
    "print(T)"
   ]
  },
  {
   "cell_type": "markdown",
   "id": "a556027a",
   "metadata": {},
   "source": [
    "#### 45. Create random vector of size 10 and replace the maximum value by 0 (★★☆)"
   ]
  },
  {
   "cell_type": "code",
   "execution_count": 167,
   "id": "9e07cb87",
   "metadata": {
    "ExecuteTime": {
     "end_time": "2023-11-20T15:14:06.407186500Z",
     "start_time": "2023-11-20T15:13:59.796241Z"
    }
   },
   "outputs": [
    {
     "name": "stdout",
     "output_type": "stream",
     "text": [
      "[0.43595221 0.1839162  0.25750302 0.0776728  0.04456387 0.65817845\n",
      " 0.         0.46366561 0.59694585 0.67948059]\n"
     ]
    }
   ],
   "source": [
    "_vec = np.random.random(10)\n",
    "_vec[_vec.argmax()] = 0\n",
    "print(_vec)"
   ]
  },
  {
   "cell_type": "markdown",
   "id": "004f3da1",
   "metadata": {},
   "source": [
    "#### 46. Create a structured array with `x` and `y` coordinates covering the [0,1]x[0,1] area (★★☆)"
   ]
  },
  {
   "cell_type": "code",
   "execution_count": 168,
   "id": "b3824741",
   "metadata": {
    "ExecuteTime": {
     "end_time": "2023-11-20T15:14:06.471105200Z",
     "start_time": "2023-11-20T15:13:59.853925600Z"
    }
   },
   "outputs": [
    {
     "name": "stdout",
     "output_type": "stream",
     "text": [
      "[[(0.  , 0.  ) (0.25, 0.  ) (0.5 , 0.  ) (0.75, 0.  ) (1.  , 0.  )]\n",
      " [(0.  , 0.25) (0.25, 0.25) (0.5 , 0.25) (0.75, 0.25) (1.  , 0.25)]\n",
      " [(0.  , 0.5 ) (0.25, 0.5 ) (0.5 , 0.5 ) (0.75, 0.5 ) (1.  , 0.5 )]\n",
      " [(0.  , 0.75) (0.25, 0.75) (0.5 , 0.75) (0.75, 0.75) (1.  , 0.75)]\n",
      " [(0.  , 1.  ) (0.25, 1.  ) (0.5 , 1.  ) (0.75, 1.  ) (1.  , 1.  )]]\n"
     ]
    }
   ],
   "source": [
    "_arr = np.zeros((5,5), [('x', float), ('y', float)])\n",
    "_arr['x'], _arr['y'] = np.meshgrid(np.linspace(0, 1, 5), np.linspace(0, 1, 5))\n",
    "print(_arr)"
   ]
  },
  {
   "cell_type": "markdown",
   "id": "1c0adc0d",
   "metadata": {},
   "source": [
    "#### 47. Given two arrays, X and Y, construct the Cauchy matrix C (Cij =1/(xi - yj)) (★★☆)"
   ]
  },
  {
   "cell_type": "code",
   "execution_count": 169,
   "id": "01b3bbb7",
   "metadata": {
    "ExecuteTime": {
     "end_time": "2023-11-20T15:14:06.492376100Z",
     "start_time": "2023-11-20T15:13:59.903618700Z"
    }
   },
   "outputs": [
    {
     "name": "stdout",
     "output_type": "stream",
     "text": [
      "3638.1636371179666\n"
     ]
    }
   ],
   "source": [
    "X = np.arange(8)\n",
    "Y = X + 0.5\n",
    "C = 1.0 / np.subtract.outer(X, Y)\n",
    "print(np.linalg.det(C))"
   ]
  },
  {
   "cell_type": "markdown",
   "id": "c8a2f65a",
   "metadata": {},
   "source": [
    "#### 48. Print the minimum and maximum representable value for each numpy scalar type (★★☆)"
   ]
  },
  {
   "cell_type": "code",
   "execution_count": 170,
   "id": "35d844d6",
   "metadata": {
    "ExecuteTime": {
     "end_time": "2023-11-20T15:14:06.560610200Z",
     "start_time": "2023-11-20T15:13:59.944054900Z"
    }
   },
   "outputs": [
    {
     "name": "stdout",
     "output_type": "stream",
     "text": [
      "-128\n",
      "127\n",
      "-2147483648\n",
      "2147483647\n",
      "-9223372036854775808\n",
      "9223372036854775807\n",
      "-3.4028235e+38\n",
      "3.4028235e+38\n",
      "1.1920929e-07\n",
      "-1.7976931348623157e+308\n",
      "1.7976931348623157e+308\n",
      "2.220446049250313e-16\n"
     ]
    }
   ],
   "source": [
    "for dtype in [np.int8, np.int32, np.int64]:\n",
    "   print(np.iinfo(dtype).min)\n",
    "   print(np.iinfo(dtype).max)\n",
    "   \n",
    "for dtype in [np.float32, np.float64]:\n",
    "   print(np.finfo(dtype).min)\n",
    "   print(np.finfo(dtype).max)\n",
    "   print(np.finfo(dtype).eps)"
   ]
  },
  {
   "cell_type": "markdown",
   "id": "11727a69",
   "metadata": {},
   "source": [
    "#### 49. How to print all the values of an array? (★★☆)"
   ]
  },
  {
   "cell_type": "code",
   "execution_count": 171,
   "id": "47e98473",
   "metadata": {
    "ExecuteTime": {
     "end_time": "2023-11-20T15:14:06.605843900Z",
     "start_time": "2023-11-20T15:14:00.007819800Z"
    }
   },
   "outputs": [
    {
     "name": "stdout",
     "output_type": "stream",
     "text": [
      "[[0. 0. 0. 0. 0. 0. 0. 0. 0. 0. 0. 0. 0. 0. 0. 0. 0. 0. 0. 0. 0. 0. 0. 0.\n",
      "  0. 0. 0. 0. 0. 0. 0. 0. 0. 0. 0. 0. 0. 0. 0. 0.]\n",
      " [0. 0. 0. 0. 0. 0. 0. 0. 0. 0. 0. 0. 0. 0. 0. 0. 0. 0. 0. 0. 0. 0. 0. 0.\n",
      "  0. 0. 0. 0. 0. 0. 0. 0. 0. 0. 0. 0. 0. 0. 0. 0.]\n",
      " [0. 0. 0. 0. 0. 0. 0. 0. 0. 0. 0. 0. 0. 0. 0. 0. 0. 0. 0. 0. 0. 0. 0. 0.\n",
      "  0. 0. 0. 0. 0. 0. 0. 0. 0. 0. 0. 0. 0. 0. 0. 0.]\n",
      " [0. 0. 0. 0. 0. 0. 0. 0. 0. 0. 0. 0. 0. 0. 0. 0. 0. 0. 0. 0. 0. 0. 0. 0.\n",
      "  0. 0. 0. 0. 0. 0. 0. 0. 0. 0. 0. 0. 0. 0. 0. 0.]\n",
      " [0. 0. 0. 0. 0. 0. 0. 0. 0. 0. 0. 0. 0. 0. 0. 0. 0. 0. 0. 0. 0. 0. 0. 0.\n",
      "  0. 0. 0. 0. 0. 0. 0. 0. 0. 0. 0. 0. 0. 0. 0. 0.]\n",
      " [0. 0. 0. 0. 0. 0. 0. 0. 0. 0. 0. 0. 0. 0. 0. 0. 0. 0. 0. 0. 0. 0. 0. 0.\n",
      "  0. 0. 0. 0. 0. 0. 0. 0. 0. 0. 0. 0. 0. 0. 0. 0.]\n",
      " [0. 0. 0. 0. 0. 0. 0. 0. 0. 0. 0. 0. 0. 0. 0. 0. 0. 0. 0. 0. 0. 0. 0. 0.\n",
      "  0. 0. 0. 0. 0. 0. 0. 0. 0. 0. 0. 0. 0. 0. 0. 0.]\n",
      " [0. 0. 0. 0. 0. 0. 0. 0. 0. 0. 0. 0. 0. 0. 0. 0. 0. 0. 0. 0. 0. 0. 0. 0.\n",
      "  0. 0. 0. 0. 0. 0. 0. 0. 0. 0. 0. 0. 0. 0. 0. 0.]\n",
      " [0. 0. 0. 0. 0. 0. 0. 0. 0. 0. 0. 0. 0. 0. 0. 0. 0. 0. 0. 0. 0. 0. 0. 0.\n",
      "  0. 0. 0. 0. 0. 0. 0. 0. 0. 0. 0. 0. 0. 0. 0. 0.]\n",
      " [0. 0. 0. 0. 0. 0. 0. 0. 0. 0. 0. 0. 0. 0. 0. 0. 0. 0. 0. 0. 0. 0. 0. 0.\n",
      "  0. 0. 0. 0. 0. 0. 0. 0. 0. 0. 0. 0. 0. 0. 0. 0.]\n",
      " [0. 0. 0. 0. 0. 0. 0. 0. 0. 0. 0. 0. 0. 0. 0. 0. 0. 0. 0. 0. 0. 0. 0. 0.\n",
      "  0. 0. 0. 0. 0. 0. 0. 0. 0. 0. 0. 0. 0. 0. 0. 0.]\n",
      " [0. 0. 0. 0. 0. 0. 0. 0. 0. 0. 0. 0. 0. 0. 0. 0. 0. 0. 0. 0. 0. 0. 0. 0.\n",
      "  0. 0. 0. 0. 0. 0. 0. 0. 0. 0. 0. 0. 0. 0. 0. 0.]\n",
      " [0. 0. 0. 0. 0. 0. 0. 0. 0. 0. 0. 0. 0. 0. 0. 0. 0. 0. 0. 0. 0. 0. 0. 0.\n",
      "  0. 0. 0. 0. 0. 0. 0. 0. 0. 0. 0. 0. 0. 0. 0. 0.]\n",
      " [0. 0. 0. 0. 0. 0. 0. 0. 0. 0. 0. 0. 0. 0. 0. 0. 0. 0. 0. 0. 0. 0. 0. 0.\n",
      "  0. 0. 0. 0. 0. 0. 0. 0. 0. 0. 0. 0. 0. 0. 0. 0.]\n",
      " [0. 0. 0. 0. 0. 0. 0. 0. 0. 0. 0. 0. 0. 0. 0. 0. 0. 0. 0. 0. 0. 0. 0. 0.\n",
      "  0. 0. 0. 0. 0. 0. 0. 0. 0. 0. 0. 0. 0. 0. 0. 0.]\n",
      " [0. 0. 0. 0. 0. 0. 0. 0. 0. 0. 0. 0. 0. 0. 0. 0. 0. 0. 0. 0. 0. 0. 0. 0.\n",
      "  0. 0. 0. 0. 0. 0. 0. 0. 0. 0. 0. 0. 0. 0. 0. 0.]\n",
      " [0. 0. 0. 0. 0. 0. 0. 0. 0. 0. 0. 0. 0. 0. 0. 0. 0. 0. 0. 0. 0. 0. 0. 0.\n",
      "  0. 0. 0. 0. 0. 0. 0. 0. 0. 0. 0. 0. 0. 0. 0. 0.]\n",
      " [0. 0. 0. 0. 0. 0. 0. 0. 0. 0. 0. 0. 0. 0. 0. 0. 0. 0. 0. 0. 0. 0. 0. 0.\n",
      "  0. 0. 0. 0. 0. 0. 0. 0. 0. 0. 0. 0. 0. 0. 0. 0.]\n",
      " [0. 0. 0. 0. 0. 0. 0. 0. 0. 0. 0. 0. 0. 0. 0. 0. 0. 0. 0. 0. 0. 0. 0. 0.\n",
      "  0. 0. 0. 0. 0. 0. 0. 0. 0. 0. 0. 0. 0. 0. 0. 0.]\n",
      " [0. 0. 0. 0. 0. 0. 0. 0. 0. 0. 0. 0. 0. 0. 0. 0. 0. 0. 0. 0. 0. 0. 0. 0.\n",
      "  0. 0. 0. 0. 0. 0. 0. 0. 0. 0. 0. 0. 0. 0. 0. 0.]\n",
      " [0. 0. 0. 0. 0. 0. 0. 0. 0. 0. 0. 0. 0. 0. 0. 0. 0. 0. 0. 0. 0. 0. 0. 0.\n",
      "  0. 0. 0. 0. 0. 0. 0. 0. 0. 0. 0. 0. 0. 0. 0. 0.]\n",
      " [0. 0. 0. 0. 0. 0. 0. 0. 0. 0. 0. 0. 0. 0. 0. 0. 0. 0. 0. 0. 0. 0. 0. 0.\n",
      "  0. 0. 0. 0. 0. 0. 0. 0. 0. 0. 0. 0. 0. 0. 0. 0.]\n",
      " [0. 0. 0. 0. 0. 0. 0. 0. 0. 0. 0. 0. 0. 0. 0. 0. 0. 0. 0. 0. 0. 0. 0. 0.\n",
      "  0. 0. 0. 0. 0. 0. 0. 0. 0. 0. 0. 0. 0. 0. 0. 0.]\n",
      " [0. 0. 0. 0. 0. 0. 0. 0. 0. 0. 0. 0. 0. 0. 0. 0. 0. 0. 0. 0. 0. 0. 0. 0.\n",
      "  0. 0. 0. 0. 0. 0. 0. 0. 0. 0. 0. 0. 0. 0. 0. 0.]\n",
      " [0. 0. 0. 0. 0. 0. 0. 0. 0. 0. 0. 0. 0. 0. 0. 0. 0. 0. 0. 0. 0. 0. 0. 0.\n",
      "  0. 0. 0. 0. 0. 0. 0. 0. 0. 0. 0. 0. 0. 0. 0. 0.]\n",
      " [0. 0. 0. 0. 0. 0. 0. 0. 0. 0. 0. 0. 0. 0. 0. 0. 0. 0. 0. 0. 0. 0. 0. 0.\n",
      "  0. 0. 0. 0. 0. 0. 0. 0. 0. 0. 0. 0. 0. 0. 0. 0.]\n",
      " [0. 0. 0. 0. 0. 0. 0. 0. 0. 0. 0. 0. 0. 0. 0. 0. 0. 0. 0. 0. 0. 0. 0. 0.\n",
      "  0. 0. 0. 0. 0. 0. 0. 0. 0. 0. 0. 0. 0. 0. 0. 0.]\n",
      " [0. 0. 0. 0. 0. 0. 0. 0. 0. 0. 0. 0. 0. 0. 0. 0. 0. 0. 0. 0. 0. 0. 0. 0.\n",
      "  0. 0. 0. 0. 0. 0. 0. 0. 0. 0. 0. 0. 0. 0. 0. 0.]\n",
      " [0. 0. 0. 0. 0. 0. 0. 0. 0. 0. 0. 0. 0. 0. 0. 0. 0. 0. 0. 0. 0. 0. 0. 0.\n",
      "  0. 0. 0. 0. 0. 0. 0. 0. 0. 0. 0. 0. 0. 0. 0. 0.]\n",
      " [0. 0. 0. 0. 0. 0. 0. 0. 0. 0. 0. 0. 0. 0. 0. 0. 0. 0. 0. 0. 0. 0. 0. 0.\n",
      "  0. 0. 0. 0. 0. 0. 0. 0. 0. 0. 0. 0. 0. 0. 0. 0.]\n",
      " [0. 0. 0. 0. 0. 0. 0. 0. 0. 0. 0. 0. 0. 0. 0. 0. 0. 0. 0. 0. 0. 0. 0. 0.\n",
      "  0. 0. 0. 0. 0. 0. 0. 0. 0. 0. 0. 0. 0. 0. 0. 0.]\n",
      " [0. 0. 0. 0. 0. 0. 0. 0. 0. 0. 0. 0. 0. 0. 0. 0. 0. 0. 0. 0. 0. 0. 0. 0.\n",
      "  0. 0. 0. 0. 0. 0. 0. 0. 0. 0. 0. 0. 0. 0. 0. 0.]\n",
      " [0. 0. 0. 0. 0. 0. 0. 0. 0. 0. 0. 0. 0. 0. 0. 0. 0. 0. 0. 0. 0. 0. 0. 0.\n",
      "  0. 0. 0. 0. 0. 0. 0. 0. 0. 0. 0. 0. 0. 0. 0. 0.]\n",
      " [0. 0. 0. 0. 0. 0. 0. 0. 0. 0. 0. 0. 0. 0. 0. 0. 0. 0. 0. 0. 0. 0. 0. 0.\n",
      "  0. 0. 0. 0. 0. 0. 0. 0. 0. 0. 0. 0. 0. 0. 0. 0.]\n",
      " [0. 0. 0. 0. 0. 0. 0. 0. 0. 0. 0. 0. 0. 0. 0. 0. 0. 0. 0. 0. 0. 0. 0. 0.\n",
      "  0. 0. 0. 0. 0. 0. 0. 0. 0. 0. 0. 0. 0. 0. 0. 0.]\n",
      " [0. 0. 0. 0. 0. 0. 0. 0. 0. 0. 0. 0. 0. 0. 0. 0. 0. 0. 0. 0. 0. 0. 0. 0.\n",
      "  0. 0. 0. 0. 0. 0. 0. 0. 0. 0. 0. 0. 0. 0. 0. 0.]\n",
      " [0. 0. 0. 0. 0. 0. 0. 0. 0. 0. 0. 0. 0. 0. 0. 0. 0. 0. 0. 0. 0. 0. 0. 0.\n",
      "  0. 0. 0. 0. 0. 0. 0. 0. 0. 0. 0. 0. 0. 0. 0. 0.]\n",
      " [0. 0. 0. 0. 0. 0. 0. 0. 0. 0. 0. 0. 0. 0. 0. 0. 0. 0. 0. 0. 0. 0. 0. 0.\n",
      "  0. 0. 0. 0. 0. 0. 0. 0. 0. 0. 0. 0. 0. 0. 0. 0.]\n",
      " [0. 0. 0. 0. 0. 0. 0. 0. 0. 0. 0. 0. 0. 0. 0. 0. 0. 0. 0. 0. 0. 0. 0. 0.\n",
      "  0. 0. 0. 0. 0. 0. 0. 0. 0. 0. 0. 0. 0. 0. 0. 0.]\n",
      " [0. 0. 0. 0. 0. 0. 0. 0. 0. 0. 0. 0. 0. 0. 0. 0. 0. 0. 0. 0. 0. 0. 0. 0.\n",
      "  0. 0. 0. 0. 0. 0. 0. 0. 0. 0. 0. 0. 0. 0. 0. 0.]]\n"
     ]
    }
   ],
   "source": [
    "np.set_printoptions(threshold = float(\"inf\"))\n",
    "_arr = np.zeros((40, 40))\n",
    "print(_arr)"
   ]
  },
  {
   "cell_type": "markdown",
   "id": "e0e7d741",
   "metadata": {},
   "source": [
    "#### 50. How to find the closest value (to a given scalar) in a vector? (★★☆)"
   ]
  },
  {
   "cell_type": "code",
   "execution_count": 172,
   "id": "62cabf6f",
   "metadata": {
    "ExecuteTime": {
     "end_time": "2023-11-20T15:14:06.638779100Z",
     "start_time": "2023-11-20T15:14:00.041297100Z"
    }
   },
   "outputs": [
    {
     "name": "stdout",
     "output_type": "stream",
     "text": [
      "47\n"
     ]
    }
   ],
   "source": [
    "_vec = np.arange(100)\n",
    "v = np.random.uniform(0,100)\n",
    "index = (np.abs(_vec - v)).argmin()\n",
    "print(_vec[index])"
   ]
  },
  {
   "cell_type": "markdown",
   "id": "c5611b9e",
   "metadata": {},
   "source": [
    "#### 51. Create a structured array representing a position (x,y) and a color (r,g,b) (★★☆)"
   ]
  },
  {
   "cell_type": "code",
   "execution_count": 173,
   "id": "f622939d",
   "metadata": {
    "ExecuteTime": {
     "end_time": "2023-11-20T15:14:06.688140300Z",
     "start_time": "2023-11-20T15:14:00.092890Z"
    }
   },
   "outputs": [
    {
     "name": "stdout",
     "output_type": "stream",
     "text": [
      "[((0., 0.), (0., 0., 0.)) ((0., 0.), (0., 0., 0.))\n",
      " ((0., 0.), (0., 0., 0.)) ((0., 0.), (0., 0., 0.))\n",
      " ((0., 0.), (0., 0., 0.))]\n"
     ]
    },
    {
     "name": "stderr",
     "output_type": "stream",
     "text": [
      "C:\\Users\\Shevchenko\\AppData\\Local\\Temp\\ipykernel_8580\\1932118594.py:1: FutureWarning: Passing (type, 1) or '1type' as a synonym of type is deprecated; in a future version of numpy, it will be understood as (type, (1,)) / '(1,)type'.\n",
      "  _arr = np.zeros(5, [ ('position', [ ('x', float, 1),\n"
     ]
    }
   ],
   "source": [
    "_arr = np.zeros(5, [ ('position', [ ('x', float, 1),\n",
    "                                  ('y', float, 1)]),\n",
    "                   ('color',    [ ('r', float, 1),\n",
    "                                  ('g', float, 1),\n",
    "                                  ('b', float, 1)])])\n",
    "print(_arr)"
   ]
  },
  {
   "cell_type": "markdown",
   "id": "d22b8574",
   "metadata": {},
   "source": [
    "#### 52. Consider a random vector with shape (100,2) representing coordinates, find point by point distances (★★☆)"
   ]
  },
  {
   "cell_type": "code",
   "execution_count": 174,
   "id": "d5c9cdf8",
   "metadata": {
    "ExecuteTime": {
     "end_time": "2023-11-20T15:14:06.721595800Z",
     "start_time": "2023-11-20T15:14:00.143910200Z"
    }
   },
   "outputs": [
    {
     "name": "stdout",
     "output_type": "stream",
     "text": [
      "[[0.         0.28252978 0.6804576  0.58154115 0.36645197 0.41870174\n",
      "  0.30723109 0.17548847 0.59612643 0.31235642]\n",
      " [0.28252978 0.         0.96205079 0.83629669 0.64395156 0.57222862\n",
      "  0.21530478 0.45710838 0.76646498 0.59348695]\n",
      " [0.6804576  0.96205079 0.         0.40773131 0.32331621 0.71935532\n",
      "  0.91463133 0.50509633 0.61915858 0.3835475 ]\n",
      " [0.58154115 0.83629669 0.40773131 0.         0.41679859 0.38282648\n",
      "  0.88474965 0.45750783 0.86290077 0.31922798]\n",
      " [0.36645197 0.64395156 0.32331621 0.41679859 0.         0.53982154\n",
      "  0.59281637 0.1934347  0.44882225 0.14142521]\n",
      " [0.41870174 0.57222862 0.71935532 0.38282648 0.53982154 0.\n",
      "  0.70236796 0.42386809 0.94110148 0.39947417]\n",
      " [0.30723109 0.21530478 0.91463133 0.88474965 0.59281637 0.70236796\n",
      "  0.         0.44102635 0.59219893 0.59140601]\n",
      " [0.17548847 0.45710838 0.50509633 0.45750783 0.1934347  0.42386809\n",
      "  0.44102635 0.         0.51791656 0.15039623]\n",
      " [0.59612643 0.76646498 0.61915858 0.86290077 0.44882225 0.94110148\n",
      "  0.59219893 0.51791656 0.         0.57589454]\n",
      " [0.31235642 0.59348695 0.3835475  0.31922798 0.14142521 0.39947417\n",
      "  0.59140601 0.15039623 0.57589454 0.        ]]\n"
     ]
    }
   ],
   "source": [
    "_vec = np.random.random((10, 2))\n",
    "X,Y = np.atleast_2d(_vec[:,0], _vec[:,1])\n",
    "D = np.sqrt( (X - X.T) ** 2 + (Y - Y.T) ** 2)\n",
    "print(D)"
   ]
  },
  {
   "cell_type": "markdown",
   "id": "f5c164f2",
   "metadata": {},
   "source": [
    "#### 53. How to convert a float (32 bits) array into an integer (32 bits) in place?"
   ]
  },
  {
   "cell_type": "code",
   "execution_count": 175,
   "id": "ea262de8",
   "metadata": {
    "ExecuteTime": {
     "end_time": "2023-11-20T15:14:06.773060100Z",
     "start_time": "2023-11-20T15:14:00.187186700Z"
    }
   },
   "outputs": [
    {
     "name": "stdout",
     "output_type": "stream",
     "text": [
      "[73 75 44 49 40 74 87  3 77 69]\n"
     ]
    }
   ],
   "source": [
    "_arr = (np.random.rand(10)*100).astype(np.float32)\n",
    "Y = _arr.view(np.int32)\n",
    "Y[:] = _arr\n",
    "print(Y)"
   ]
  },
  {
   "cell_type": "markdown",
   "id": "a8b7e6f5",
   "metadata": {},
   "source": [
    "#### 54. How to read the following file? (★★☆)\n",
    "```\n",
    "1, 2, 3, 4, 5\n",
    "6,  ,  , 7, 8\n",
    " ,  , 9,10,11\n",
    "```"
   ]
  },
  {
   "cell_type": "code",
   "execution_count": 176,
   "id": "bde0538a",
   "metadata": {
    "ExecuteTime": {
     "end_time": "2023-11-20T15:14:06.863863400Z",
     "start_time": "2023-11-20T15:14:00.241303200Z"
    }
   },
   "outputs": [
    {
     "name": "stdout",
     "output_type": "stream",
     "text": [
      "[[ 1.  2.  3.  4.  5.]\n",
      " [ 6. nan nan  7.  8.]\n",
      " [nan nan  9. 10. 11.]]\n"
     ]
    }
   ],
   "source": [
    "from io import StringIO\n",
    "\n",
    "s = StringIO('''1, 2, 3, 4, 5\n",
    "                6,  ,  , 7, 8\n",
    "                 ,  , 9,10,11''')\n",
    "\n",
    "_file = np.genfromtxt(s, delimiter = \",\")\n",
    "print(_file)"
   ]
  },
  {
   "cell_type": "markdown",
   "id": "c6b32834",
   "metadata": {},
   "source": [
    "#### 55. What is the equivalent of enumerate for numpy arrays? (★★☆)"
   ]
  },
  {
   "cell_type": "code",
   "execution_count": 177,
   "id": "ab02472a",
   "metadata": {
    "ExecuteTime": {
     "end_time": "2023-11-20T15:14:06.906096100Z",
     "start_time": "2023-11-20T15:14:00.288601Z"
    }
   },
   "outputs": [
    {
     "name": "stdout",
     "output_type": "stream",
     "text": [
      "(0, 0) 0\n",
      "(0, 1) 1\n",
      "(0, 2) 2\n",
      "(1, 0) 3\n",
      "(1, 1) 4\n",
      "(1, 2) 5\n",
      "(2, 0) 6\n",
      "(2, 1) 7\n",
      "(2, 2) 8\n",
      "(0, 0) 0\n",
      "(0, 1) 1\n",
      "(0, 2) 2\n",
      "(1, 0) 3\n",
      "(1, 1) 4\n",
      "(1, 2) 5\n",
      "(2, 0) 6\n",
      "(2, 1) 7\n",
      "(2, 2) 8\n"
     ]
    }
   ],
   "source": [
    "_arr = np.arange(9).reshape(3,3)\n",
    "for index, value in np.ndenumerate(_arr):\n",
    "    print(index, value)\n",
    "for index in np.ndindex(_arr.shape):\n",
    "    print(index, _arr[index])"
   ]
  },
  {
   "cell_type": "markdown",
   "id": "a2121a05",
   "metadata": {},
   "source": [
    "#### 56. Generate a generic 2D Gaussian-like array (★★☆)"
   ]
  },
  {
   "cell_type": "code",
   "execution_count": 178,
   "id": "18507102",
   "metadata": {
    "ExecuteTime": {
     "end_time": "2023-11-20T15:14:06.979442500Z",
     "start_time": "2023-11-20T15:14:00.332418700Z"
    }
   },
   "outputs": [
    {
     "name": "stdout",
     "output_type": "stream",
     "text": [
      "[[0.36787944 0.44822088 0.51979489 0.57375342 0.60279818 0.60279818\n",
      "  0.57375342 0.51979489 0.44822088 0.36787944]\n",
      " [0.44822088 0.54610814 0.63331324 0.69905581 0.73444367 0.73444367\n",
      "  0.69905581 0.63331324 0.54610814 0.44822088]\n",
      " [0.51979489 0.63331324 0.73444367 0.81068432 0.85172308 0.85172308\n",
      "  0.81068432 0.73444367 0.63331324 0.51979489]\n",
      " [0.57375342 0.69905581 0.81068432 0.89483932 0.9401382  0.9401382\n",
      "  0.89483932 0.81068432 0.69905581 0.57375342]\n",
      " [0.60279818 0.73444367 0.85172308 0.9401382  0.98773022 0.98773022\n",
      "  0.9401382  0.85172308 0.73444367 0.60279818]\n",
      " [0.60279818 0.73444367 0.85172308 0.9401382  0.98773022 0.98773022\n",
      "  0.9401382  0.85172308 0.73444367 0.60279818]\n",
      " [0.57375342 0.69905581 0.81068432 0.89483932 0.9401382  0.9401382\n",
      "  0.89483932 0.81068432 0.69905581 0.57375342]\n",
      " [0.51979489 0.63331324 0.73444367 0.81068432 0.85172308 0.85172308\n",
      "  0.81068432 0.73444367 0.63331324 0.51979489]\n",
      " [0.44822088 0.54610814 0.63331324 0.69905581 0.73444367 0.73444367\n",
      "  0.69905581 0.63331324 0.54610814 0.44822088]\n",
      " [0.36787944 0.44822088 0.51979489 0.57375342 0.60279818 0.60279818\n",
      "  0.57375342 0.51979489 0.44822088 0.36787944]]\n"
     ]
    }
   ],
   "source": [
    "X, Y = np.meshgrid(np.linspace(-1, 1, 10), np.linspace(-1, 1, 10))\n",
    "D = np.sqrt(X * X + Y * Y)\n",
    "sigma, mu = 1.0, 0.0\n",
    "G = np.exp(-((D - mu) ** 2 / (2.0 * sigma ** 2)))\n",
    "print(G)"
   ]
  },
  {
   "cell_type": "markdown",
   "id": "97055efa",
   "metadata": {},
   "source": [
    "#### 57. How to randomly place p elements in a 2D array? (★★☆)"
   ]
  },
  {
   "cell_type": "code",
   "execution_count": 179,
   "id": "292e842f",
   "metadata": {
    "ExecuteTime": {
     "end_time": "2023-11-20T15:14:07.002860800Z",
     "start_time": "2023-11-20T15:14:00.372539600Z"
    }
   },
   "outputs": [
    {
     "name": "stdout",
     "output_type": "stream",
     "text": [
      "[[0. 0. 0. 0. 0. 0. 0. 0. 0. 0.]\n",
      " [0. 0. 0. 0. 0. 0. 0. 0. 0. 0.]\n",
      " [0. 0. 0. 0. 0. 0. 0. 0. 0. 0.]\n",
      " [0. 0. 0. 0. 0. 0. 0. 0. 0. 0.]\n",
      " [0. 0. 0. 1. 0. 0. 0. 0. 0. 0.]\n",
      " [0. 0. 0. 0. 0. 1. 0. 0. 1. 0.]\n",
      " [0. 0. 0. 0. 0. 0. 0. 0. 0. 0.]\n",
      " [0. 0. 0. 0. 0. 0. 0. 0. 0. 0.]\n",
      " [0. 0. 0. 0. 0. 0. 0. 0. 0. 0.]\n",
      " [0. 0. 0. 0. 0. 0. 0. 0. 0. 0.]]\n"
     ]
    }
   ],
   "source": [
    "n = 10\n",
    "p = 3\n",
    "_arr = np.zeros((n,n))\n",
    "np.put(_arr, np.random.choice(range(n * n), p, replace = False), 1)\n",
    "print(_arr)"
   ]
  },
  {
   "cell_type": "markdown",
   "id": "bfd2513c",
   "metadata": {},
   "source": [
    "#### 58. Subtract the mean of each row of a matrix (★★☆)"
   ]
  },
  {
   "cell_type": "code",
   "execution_count": 180,
   "id": "f306ab72",
   "metadata": {
    "ExecuteTime": {
     "end_time": "2023-11-20T15:14:07.049342500Z",
     "start_time": "2023-11-20T15:14:00.426664700Z"
    }
   },
   "outputs": [
    {
     "name": "stdout",
     "output_type": "stream",
     "text": [
      "[[-0.09026704  0.35514075  0.28729774 -0.08945125 -0.11833414 -0.56636605\n",
      "   0.14968146 -0.46428625  0.17114979  0.36543499]\n",
      " [-0.13936835 -0.17702133  0.03476926  0.32026384 -0.29113344  0.39189556\n",
      "  -0.25733339  0.1324395   0.26395688 -0.27846853]\n",
      " [-0.27530628 -0.29595649  0.30826132  0.28015699  0.29778544  0.07186286\n",
      "  -0.34188288 -0.1035188  -0.0455954   0.10419326]\n",
      " [ 0.18390983 -0.31820681 -0.08658215  0.32817281 -0.05617133 -0.43233427\n",
      "   0.2556171   0.25265976  0.2801505  -0.40721544]\n",
      " [ 0.25527538 -0.12025789 -0.15772115 -0.16025076 -0.169973   -0.20709764\n",
      "   0.34909528  0.13514346 -0.20987146  0.28565779]]\n"
     ]
    }
   ],
   "source": [
    "X = np.random.rand(5, 10)\n",
    "\n",
    "Y = X - X.mean(axis = 1, keepdims = True)\n",
    "\n",
    "Y = X - X.mean(axis = 1).reshape(-1, 1)\n",
    "\n",
    "print(Y)"
   ]
  },
  {
   "cell_type": "markdown",
   "id": "da9f2f9b",
   "metadata": {},
   "source": [
    "#### 59. How to sort an array by the nth column? (★★☆)"
   ]
  },
  {
   "cell_type": "code",
   "execution_count": 181,
   "id": "68cde57f",
   "metadata": {
    "ExecuteTime": {
     "end_time": "2023-11-20T15:14:07.085094500Z",
     "start_time": "2023-11-20T15:14:00.480650800Z"
    }
   },
   "outputs": [
    {
     "name": "stdout",
     "output_type": "stream",
     "text": [
      "[[0 9 5]\n",
      " [6 8 0]\n",
      " [9 6 8]]\n",
      "[[9 6 8]\n",
      " [6 8 0]\n",
      " [0 9 5]]\n"
     ]
    }
   ],
   "source": [
    "_arr = np.random.randint(0,10,(3,3))\n",
    "print(_arr)\n",
    "print(_arr[_arr[:,1].argsort()])"
   ]
  },
  {
   "cell_type": "markdown",
   "id": "5b7be45c",
   "metadata": {},
   "source": [
    "#### 60. How to tell if a given 2D array has null columns? (★★☆)"
   ]
  },
  {
   "cell_type": "code",
   "execution_count": 182,
   "id": "7dbe2c27",
   "metadata": {
    "ExecuteTime": {
     "end_time": "2023-11-20T15:14:07.107689800Z",
     "start_time": "2023-11-20T15:14:00.536038100Z"
    }
   },
   "outputs": [
    {
     "name": "stdout",
     "output_type": "stream",
     "text": [
      "False\n",
      "[False False  True]\n"
     ]
    }
   ],
   "source": [
    "_arr = np.random.randint(0, 3, (3, 10))\n",
    "print((~_arr.any(axis = 0)).any())\n",
    "\n",
    "# null : np.nan\n",
    "_arr = np.array([\n",
    "    [0, 1, np.nan],\n",
    "    [1, 2, np.nan],\n",
    "    [4, 5, np.nan]\n",
    "])\n",
    "print(np.isnan(_arr).all(axis = 0))"
   ]
  },
  {
   "cell_type": "markdown",
   "id": "7c18c02e",
   "metadata": {},
   "source": [
    "#### 61. Find the nearest value from a given value in an array (★★☆)"
   ]
  },
  {
   "cell_type": "code",
   "execution_count": 183,
   "id": "b78ae9c4",
   "metadata": {
    "ExecuteTime": {
     "end_time": "2023-11-20T15:14:07.169964Z",
     "start_time": "2023-11-20T15:14:00.588268900Z"
    }
   },
   "outputs": [
    {
     "name": "stdout",
     "output_type": "stream",
     "text": [
      "inf\n"
     ]
    }
   ],
   "source": [
    "_arr = np.random.uniform(0,1,10)\n",
    "z = 0.5\n",
    "m = Z.flat[np.abs(Z - z).argmin()]\n",
    "print(m)"
   ]
  },
  {
   "cell_type": "markdown",
   "id": "8174ba2c",
   "metadata": {},
   "source": [
    "#### 62. Considering two arrays with shape (1,3) and (3,1), how to compute their sum using an iterator? (★★☆)"
   ]
  },
  {
   "cell_type": "code",
   "execution_count": 184,
   "id": "8a18fe57",
   "metadata": {
    "ExecuteTime": {
     "end_time": "2023-11-20T15:14:07.203312400Z",
     "start_time": "2023-11-20T15:14:00.647407500Z"
    }
   },
   "outputs": [
    {
     "name": "stdout",
     "output_type": "stream",
     "text": [
      "[[0 1 2]\n",
      " [1 2 3]\n",
      " [2 3 4]]\n"
     ]
    }
   ],
   "source": [
    "A = np.arange(3).reshape(3, 1)\n",
    "B = np.arange(3).reshape(1, 3)\n",
    "\n",
    "it = np.nditer([A,B,None])\n",
    "\n",
    "for x,y,z in it: z[...] = x + y\n",
    "\n",
    "print(it.operands[2])"
   ]
  },
  {
   "cell_type": "markdown",
   "id": "9189bd7c",
   "metadata": {},
   "source": [
    "#### 63. Create an array class that has a name attribute (★★☆)"
   ]
  },
  {
   "cell_type": "code",
   "execution_count": 185,
   "id": "1c01ed42",
   "metadata": {
    "ExecuteTime": {
     "end_time": "2023-11-20T15:14:07.224268700Z",
     "start_time": "2023-11-20T15:14:00.712131300Z"
    }
   },
   "outputs": [
    {
     "name": "stdout",
     "output_type": "stream",
     "text": [
      "range_10\n"
     ]
    }
   ],
   "source": [
    "class NamedArray(np.ndarray):\n",
    "    def __new__(cls, array, name = \"no name\"):\n",
    "        obj = np.asarray(array).view(cls)\n",
    "        obj.name = name\n",
    "        return obj\n",
    "    def __array_finalize__(self, obj):\n",
    "        if obj is None: return\n",
    "        self.name = getattr(obj, 'name', \"no name\")\n",
    "\n",
    "Z = NamedArray(np.arange(10), \"range_10\")\n",
    "\n",
    "print (Z.name)"
   ]
  },
  {
   "cell_type": "markdown",
   "id": "f30162d2",
   "metadata": {},
   "source": [
    "#### 64. Consider a given vector, how to add 1 to each element indexed by a second vector (be careful with repeated indices)? (★★★)"
   ]
  },
  {
   "cell_type": "code",
   "execution_count": 186,
   "id": "093ba36f",
   "metadata": {
    "ExecuteTime": {
     "end_time": "2023-11-20T15:14:07.252689100Z",
     "start_time": "2023-11-20T15:14:00.761156100Z"
    }
   },
   "outputs": [
    {
     "name": "stdout",
     "output_type": "stream",
     "text": [
      "[2. 2. 4. 3. 1. 4. 5. 3. 4. 2.]\n"
     ]
    }
   ],
   "source": [
    "_vec = np.ones(10)\n",
    "I = np.random.randint(0, len(_vec), 20)\n",
    "_vec += np.bincount(I, minlength = len(_vec))\n",
    "print(_vec)\n"
   ]
  },
  {
   "cell_type": "markdown",
   "id": "f5b1c584",
   "metadata": {},
   "source": [
    "#### 65. How to accumulate elements of a vector (X) to an array (F) based on an index list (I)? (★★★)"
   ]
  },
  {
   "cell_type": "code",
   "execution_count": 187,
   "id": "c9d92a75",
   "metadata": {
    "ExecuteTime": {
     "end_time": "2023-11-20T15:14:07.287676300Z",
     "start_time": "2023-11-20T15:14:00.812892800Z"
    }
   },
   "outputs": [
    {
     "name": "stdout",
     "output_type": "stream",
     "text": [
      "[0. 7. 0. 6. 5. 0. 0. 0. 0. 3.]\n"
     ]
    }
   ],
   "source": [
    "X = [1,2,3,4,5,6]\n",
    "I = [1,3,9,3,4,1]\n",
    "\n",
    "F = np.bincount(I, X)\n",
    "print(F)"
   ]
  },
  {
   "cell_type": "markdown",
   "id": "994c452d",
   "metadata": {},
   "source": [
    "#### 66. Considering a (w,h,3) image of (dtype=ubyte), compute the number of unique colors (★★☆)"
   ]
  },
  {
   "cell_type": "code",
   "execution_count": 188,
   "id": "269cdaea",
   "metadata": {
    "ExecuteTime": {
     "end_time": "2023-11-20T15:14:07.469135Z",
     "start_time": "2023-11-20T15:14:00.875090200Z"
    }
   },
   "outputs": [
    {
     "name": "stdout",
     "output_type": "stream",
     "text": [
      "64\n"
     ]
    }
   ],
   "source": [
    "w, h = 256, 256\n",
    "I = np.random.randint(0, 4, (h, w, 3)).astype(np.ubyte)\n",
    "colors = np.unique(I.reshape(-1, 3), axis = 0)\n",
    "n = len(colors)\n",
    "print(n)"
   ]
  },
  {
   "cell_type": "markdown",
   "id": "4bddeb31",
   "metadata": {},
   "source": [
    "#### 67. Considering a four dimensions array, how to get sum over the last two axis at once? (★★★)"
   ]
  },
  {
   "cell_type": "code",
   "execution_count": 189,
   "id": "32af15f5",
   "metadata": {
    "ExecuteTime": {
     "end_time": "2023-11-20T15:14:07.491120800Z",
     "start_time": "2023-11-20T15:14:01.063619100Z"
    }
   },
   "outputs": [
    {
     "name": "stdout",
     "output_type": "stream",
     "text": [
      "[[72 59 54 52]\n",
      " [57 53 67 42]\n",
      " [62 72 56 72]]\n"
     ]
    }
   ],
   "source": [
    "A = np.random.randint(0,10,(3,4,3,4))\n",
    "sum = A.sum(axis=(-2,-1))\n",
    "print(sum)"
   ]
  },
  {
   "cell_type": "markdown",
   "id": "c4cf083c",
   "metadata": {},
   "source": [
    "#### 68. Considering a one-dimensional vector D, how to compute means of subsets of D using a vector S of same size describing subset  indices? (★★★)"
   ]
  },
  {
   "cell_type": "code",
   "execution_count": 190,
   "id": "9600a2dd",
   "metadata": {
    "ExecuteTime": {
     "end_time": "2023-11-20T15:14:07.492150800Z",
     "start_time": "2023-11-20T15:14:01.078909500Z"
    }
   },
   "outputs": [
    {
     "name": "stdout",
     "output_type": "stream",
     "text": [
      "[0.43043654 0.58802884 0.63208228 0.25831766 0.39737435 0.43342044\n",
      " 0.54408174 0.49860628 0.50939206 0.36055181]\n"
     ]
    }
   ],
   "source": [
    "D = np.random.uniform(0,1,100)\n",
    "S = np.random.randint(0,10,100)\n",
    "D_sums = np.bincount(S, weights=D)\n",
    "D_counts = np.bincount(S)\n",
    "D_means = D_sums / D_counts\n",
    "print(D_means)"
   ]
  },
  {
   "cell_type": "markdown",
   "id": "a5e316db",
   "metadata": {},
   "source": [
    "#### 69. How to get the diagonal of a dot product? (★★★)"
   ]
  },
  {
   "cell_type": "code",
   "execution_count": 191,
   "id": "94735dbd",
   "metadata": {
    "ExecuteTime": {
     "end_time": "2023-11-20T15:14:07.522088700Z",
     "start_time": "2023-11-20T15:14:01.116175Z"
    }
   },
   "outputs": [
    {
     "data": {
      "text/plain": "array([0.87094383, 1.15841193, 1.81707792, 1.40054642, 2.5194405 ])"
     },
     "execution_count": 191,
     "metadata": {},
     "output_type": "execute_result"
    }
   ],
   "source": [
    "A = np.random.uniform(0, 1, (5, 5))\n",
    "B = np.random.uniform(0, 1, (5, 5))\n",
    "np.sum(A * B.T, axis = 1)"
   ]
  },
  {
   "cell_type": "markdown",
   "id": "de727a7b",
   "metadata": {},
   "source": [
    "#### 70. Consider the vector [1, 2, 3, 4, 5], how to build a new vector with 3 consecutive zeros interleaved between each value? (★★★)"
   ]
  },
  {
   "cell_type": "code",
   "execution_count": 192,
   "id": "982be812",
   "metadata": {
    "ExecuteTime": {
     "end_time": "2023-11-20T15:14:07.556238800Z",
     "start_time": "2023-11-20T15:14:01.152153900Z"
    }
   },
   "outputs": [
    {
     "name": "stdout",
     "output_type": "stream",
     "text": [
      "[1. 0. 0. 0. 2. 0. 0. 0. 3. 0. 0. 0. 4. 0. 0. 0. 5.]\n"
     ]
    }
   ],
   "source": [
    "Z = np.array([1,2,3,4,5])\n",
    "nz = 3\n",
    "Z0 = np.zeros(len(Z) + (len(Z) - 1) * (nz))\n",
    "Z0[::nz + 1] = Z\n",
    "print(Z0)"
   ]
  },
  {
   "cell_type": "markdown",
   "id": "a9a73d6b",
   "metadata": {},
   "source": [
    "#### 71. Consider an array of dimension (5,5,3), how to mulitply it by an array with dimensions (5,5)? (★★★)"
   ]
  },
  {
   "cell_type": "code",
   "execution_count": 193,
   "id": "282a90cc",
   "metadata": {
    "ExecuteTime": {
     "end_time": "2023-11-20T15:14:07.556238800Z",
     "start_time": "2023-11-20T15:14:01.178534300Z"
    }
   },
   "outputs": [
    {
     "name": "stdout",
     "output_type": "stream",
     "text": [
      "[[[2. 2. 2.]\n",
      "  [2. 2. 2.]\n",
      "  [2. 2. 2.]\n",
      "  [2. 2. 2.]\n",
      "  [2. 2. 2.]]\n",
      "\n",
      " [[2. 2. 2.]\n",
      "  [2. 2. 2.]\n",
      "  [2. 2. 2.]\n",
      "  [2. 2. 2.]\n",
      "  [2. 2. 2.]]\n",
      "\n",
      " [[2. 2. 2.]\n",
      "  [2. 2. 2.]\n",
      "  [2. 2. 2.]\n",
      "  [2. 2. 2.]\n",
      "  [2. 2. 2.]]\n",
      "\n",
      " [[2. 2. 2.]\n",
      "  [2. 2. 2.]\n",
      "  [2. 2. 2.]\n",
      "  [2. 2. 2.]\n",
      "  [2. 2. 2.]]\n",
      "\n",
      " [[2. 2. 2.]\n",
      "  [2. 2. 2.]\n",
      "  [2. 2. 2.]\n",
      "  [2. 2. 2.]\n",
      "  [2. 2. 2.]]]\n"
     ]
    }
   ],
   "source": [
    "A = np.ones((5, 5, 3))\n",
    "B = 2 * np.ones((5, 5))\n",
    "print(A * B[:,:,None])"
   ]
  },
  {
   "cell_type": "markdown",
   "id": "a951c78f",
   "metadata": {},
   "source": [
    "#### 72. How to swap two rows of an array? (★★★)"
   ]
  },
  {
   "cell_type": "code",
   "execution_count": 194,
   "id": "e29b3fde",
   "metadata": {
    "ExecuteTime": {
     "end_time": "2023-11-20T15:14:07.604173500Z",
     "start_time": "2023-11-20T15:14:01.199339600Z"
    }
   },
   "outputs": [
    {
     "name": "stdout",
     "output_type": "stream",
     "text": [
      "[[ 5  6  7  8  9]\n",
      " [ 0  1  2  3  4]\n",
      " [10 11 12 13 14]\n",
      " [15 16 17 18 19]\n",
      " [20 21 22 23 24]]\n"
     ]
    }
   ],
   "source": [
    "A = np.arange(25).reshape(5, 5)\n",
    "A[[0, 1]] = A[[1, 0]]\n",
    "print(A)"
   ]
  },
  {
   "cell_type": "markdown",
   "id": "43b639e8",
   "metadata": {},
   "source": [
    "#### 73. Consider a set of 10 triplets describing 10 triangles (with shared vertices), find the set of unique line segments composing all the  triangles (★★★)"
   ]
  },
  {
   "cell_type": "code",
   "execution_count": 195,
   "id": "147e1034",
   "metadata": {
    "ExecuteTime": {
     "end_time": "2023-11-20T15:14:07.604173500Z",
     "start_time": "2023-11-20T15:14:01.217743100Z"
    }
   },
   "outputs": [
    {
     "name": "stdout",
     "output_type": "stream",
     "text": [
      "[( 1, 24) ( 1, 79) ( 2, 37) ( 2, 72) ( 5, 19) ( 5, 59) (14, 67) (14, 90)\n",
      " (19, 59) (24, 79) (30, 44) (30, 46) (30, 88) (30, 95) (32, 76) (32, 97)\n",
      " (33, 62) (33, 64) (37, 72) (44, 95) (46, 88) (49, 69) (49, 74) (62, 64)\n",
      " (67, 90) (69, 74) (71, 84) (71, 96) (76, 97) (84, 96)]\n"
     ]
    }
   ],
   "source": [
    "faces = np.random.randint(0, 100, (10, 3))\n",
    "F = np.roll(faces.repeat(2 ,axis = 1), -1, axis = 1)\n",
    "F = F.reshape(len(F) * 3, 2)\n",
    "F = np.sort(F, axis = 1)\n",
    "G = F.view(dtype = [('p0', F.dtype), ('p1', F.dtype)])\n",
    "G = np.unique(G)\n",
    "print(G)"
   ]
  },
  {
   "cell_type": "markdown",
   "id": "d41de585",
   "metadata": {},
   "source": [
    "#### 74. Given a sorted array C that corresponds to a bincount, how to produce an array A such that np.bincount(A) == C? (★★★)"
   ]
  },
  {
   "cell_type": "code",
   "execution_count": 196,
   "id": "5f5d6e36",
   "metadata": {
    "ExecuteTime": {
     "end_time": "2023-11-20T15:14:07.683692900Z",
     "start_time": "2023-11-20T15:14:01.251331900Z"
    }
   },
   "outputs": [
    {
     "name": "stdout",
     "output_type": "stream",
     "text": [
      "[1 1 2 3 4 4 6]\n"
     ]
    }
   ],
   "source": [
    "C = np.bincount([1,1,2,3,4,4,6])\n",
    "A = np.repeat(np.arange(len(C)), C)\n",
    "print(A)"
   ]
  },
  {
   "cell_type": "markdown",
   "id": "b50adf7c",
   "metadata": {},
   "source": [
    "#### 75. How to compute averages using a sliding window over an array? (★★★)"
   ]
  },
  {
   "cell_type": "code",
   "execution_count": 197,
   "id": "e631a9d2",
   "metadata": {
    "ExecuteTime": {
     "end_time": "2023-11-20T15:14:07.728732800Z",
     "start_time": "2023-11-20T15:14:01.280429Z"
    }
   },
   "outputs": [
    {
     "name": "stdout",
     "output_type": "stream",
     "text": [
      "[ 1.  2.  3.  4.  5.  6.  7.  8.  9. 10. 11. 12. 13. 14. 15. 16. 17. 18.]\n"
     ]
    }
   ],
   "source": [
    "def moving_average(a, n=3) :\n",
    "    ret = np.cumsum(a, dtype=float)\n",
    "    ret[n:] = ret[n:] - ret[:-n]\n",
    "    return ret[n - 1:] / n\n",
    "Z = np.arange(20)\n",
    "print(moving_average(Z, n=3))"
   ]
  },
  {
   "cell_type": "markdown",
   "id": "1ab4c50d",
   "metadata": {},
   "source": [
    "#### 76. Consider a one-dimensional array Z, build a two-dimensional array whose first row is (Z[0],Z[1],Z[2]) and each subsequent row is  shifted by 1 (last row should be (Z[-3],Z[-2],Z[-1]) (★★★)"
   ]
  },
  {
   "cell_type": "code",
   "execution_count": 198,
   "id": "3ccfe2c0",
   "metadata": {
    "ExecuteTime": {
     "end_time": "2023-11-20T15:14:07.772745400Z",
     "start_time": "2023-11-20T15:14:01.310295300Z"
    }
   },
   "outputs": [
    {
     "name": "stdout",
     "output_type": "stream",
     "text": [
      "[[0 1 2]\n",
      " [1 2 3]\n",
      " [2 3 4]\n",
      " [3 4 5]\n",
      " [4 5 6]\n",
      " [5 6 7]\n",
      " [6 7 8]\n",
      " [7 8 9]]\n"
     ]
    }
   ],
   "source": [
    "from numpy.lib import stride_tricks\n",
    "\n",
    "def rolling(a, window):\n",
    "    shape = (a.size - window + 1, window)\n",
    "    strides = (a.strides[0], a.strides[0])\n",
    "    return stride_tricks.as_strided(a, shape=shape, strides=strides)\n",
    "Z = rolling(np.arange(10), 3)\n",
    "print(Z)\n"
   ]
  },
  {
   "cell_type": "markdown",
   "id": "5b4fe59d",
   "metadata": {},
   "source": [
    "#### 77. How to negate a boolean, or to change the sign of a float inplace? (★★★)"
   ]
  },
  {
   "cell_type": "code",
   "execution_count": 199,
   "id": "3c2373ff",
   "metadata": {
    "ExecuteTime": {
     "end_time": "2023-11-20T15:14:07.840327200Z",
     "start_time": "2023-11-20T15:14:01.338818500Z"
    }
   },
   "outputs": [
    {
     "data": {
      "text/plain": "array([-0.69860232, -0.51047993,  0.33858386,  0.46606675, -0.09908919,\n        0.88238066,  0.03640063,  0.36910985, -0.25188835,  0.39055144,\n       -0.38974521, -0.18541547,  0.99270007, -0.37838464, -0.6378901 ,\n        0.36118552,  0.39108339,  0.85636948,  0.94833374,  0.12578104,\n        0.81758554, -0.80168814,  0.66024714,  0.73294927, -0.023582  ,\n        0.6905609 , -0.6285961 , -0.25307012,  0.66096325, -0.61397792,\n       -0.46707048,  0.85920582,  0.22730499,  0.38647853,  0.98616734,\n       -0.3508482 ,  0.12314416, -0.08517416,  0.67857096,  0.00284934,\n        0.9695696 ,  0.07147065,  0.92218786, -0.33475015, -0.66877015,\n        0.73761315,  0.73747142,  0.95090012, -0.50606174, -0.64543072,\n        0.26295857,  0.41260928,  0.13852443,  0.54996942, -0.71420972,\n       -0.78433478,  0.70197769, -0.99783052,  0.56139443, -0.74173502,\n       -0.69315422,  0.20306305,  0.57563971, -0.84895762,  0.75734916,\n        0.55873616, -0.85737197, -0.5464637 , -0.83089504,  0.15183537,\n        0.63692418, -0.56786237, -0.76389907, -0.22737059, -0.43471724,\n       -0.8644611 , -0.4871521 , -0.9301249 , -0.05399034, -0.0924498 ,\n       -0.40603181, -0.38157854,  0.64150996,  0.94917129,  0.858215  ,\n       -0.84131149,  0.4715104 ,  0.46465191,  0.94317287, -0.25630052,\n       -0.51554575, -0.66333187,  0.68347621, -0.14525798,  0.64319807,\n        0.89863   ,  0.46412922, -0.19337861, -0.34633465,  0.00276666])"
     },
     "execution_count": 199,
     "metadata": {},
     "output_type": "execute_result"
    }
   ],
   "source": [
    "Z = np.random.randint(0, 2, 100)\n",
    "np.logical_not(Z, out = Z)\n",
    "\n",
    "Z = np.random.uniform(-1.0, 1.0, 100)\n",
    "np.negative(Z, out = Z)"
   ]
  },
  {
   "cell_type": "markdown",
   "id": "119ab5af",
   "metadata": {},
   "source": [
    "#### 78. Consider 2 sets of points P0,P1 describing lines (2d) and a point p, how to compute distance from p to each line i (P0[i],P1[i])? (★★★)"
   ]
  },
  {
   "cell_type": "code",
   "execution_count": 200,
   "id": "1d8d06dc",
   "metadata": {
    "ExecuteTime": {
     "end_time": "2023-11-20T15:14:07.857387100Z",
     "start_time": "2023-11-20T15:14:01.377082Z"
    }
   },
   "outputs": [
    {
     "name": "stdout",
     "output_type": "stream",
     "text": [
      "[0.46139346 6.38232535 3.0822949  5.24373596 2.35121786 7.7393688\n",
      " 5.67022458 6.58697245 2.18010737 4.75816596]\n"
     ]
    }
   ],
   "source": [
    "def distance(P0, P1, p):\n",
    "    T = P1 - P0\n",
    "    L = (T**2).sum(axis=1)\n",
    "    U = -((P0[:,0]-p[...,0])*T[:,0] + (P0[:,1]-p[...,1])*T[:,1]) / L\n",
    "    U = U.reshape(len(U),1)\n",
    "    D = P0 + U*T - p\n",
    "    return np.sqrt((D**2).sum(axis=1))\n",
    "\n",
    "P0 = np.random.uniform(-10,10,(10,2))\n",
    "P1 = np.random.uniform(-10,10,(10,2))\n",
    "p  = np.random.uniform(-10,10,( 1,2))\n",
    "print(distance(P0, P1, p))"
   ]
  },
  {
   "cell_type": "markdown",
   "id": "e5e7f323",
   "metadata": {},
   "source": [
    "#### 79. Consider 2 sets of points P0,P1 describing lines (2d) and a set of points P, how to compute distance from each point j (P[j]) to each line i (P0[i],P1[i])? (★★★)"
   ]
  },
  {
   "cell_type": "code",
   "execution_count": 201,
   "id": "d0ce77e2",
   "metadata": {
    "ExecuteTime": {
     "end_time": "2023-11-20T15:14:07.922050900Z",
     "start_time": "2023-11-20T15:14:01.409495800Z"
    }
   },
   "outputs": [
    {
     "name": "stdout",
     "output_type": "stream",
     "text": [
      "[[10.79033108  2.05333133  3.9879987   6.41616339  5.60000817 12.505454\n",
      "   1.18475153 10.28938647  1.00414387  7.27739059]\n",
      " [ 1.0817258   1.76605778  7.87457147  2.7753772   6.14658992  2.8527922\n",
      "   8.04745966  8.58036065  4.0392686   4.64504998]\n",
      " [ 6.71357154  2.43247931  3.6063273   2.93163395  3.08303938  8.49455953\n",
      "   2.3451144  13.38147583  6.29782621  0.82960288]\n",
      " [11.83409948  1.08173167  4.66323044  7.49048778  6.00155804 13.55293926\n",
      "   2.25695871 11.3480455   0.35578771  7.84709607]\n",
      " [ 0.86822678  0.78251428 10.81137407  4.54191878  9.30134395  0.92306312\n",
      "   9.82816338  9.04514172  6.15178047  7.69728086]\n",
      " [ 3.1640377   1.24515671  5.67898135  0.75390917  4.12765767  4.92875988\n",
      "   6.02103953  9.45530739  3.6493602   2.50167733]\n",
      " [13.24616352  2.28818439  4.34626128  9.12052141  4.77874731 14.9899847\n",
      "   3.8708217  14.57418792  2.96248009  7.15779769]\n",
      " [ 1.84625255  9.10293671  7.00827929  6.18533327  3.31100302  0.13037602\n",
      "  11.42162455  1.58603789  3.25603381  2.96771513]\n",
      " [ 2.09507409 14.76343426  3.91940234  6.90795315  1.25770019  0.4327829\n",
      "  12.10859534  3.40441093  9.8580462   0.75264486]\n",
      " [10.18512243  4.18697663  4.53648339  5.65830006  6.71634477 11.88284714\n",
      "   0.43828118  8.30507343  3.24498075  8.06244029]]\n"
     ]
    }
   ],
   "source": [
    "P0 = np.random.uniform(-10, 10, (10,2))\n",
    "P1 = np.random.uniform(-10,10,(10,2))\n",
    "p = np.random.uniform(-10, 10, (10,2))\n",
    "print(np.array([distance(P0,P1,p_i) for p_i in p]))"
   ]
  },
  {
   "cell_type": "markdown",
   "id": "9b9d03eb",
   "metadata": {},
   "source": [
    "#### 80. Consider an arbitrary array, write a function that extract a subpart with a fixed shape and centered on a given element (pad with a `fill` value when necessary) (★★★)"
   ]
  },
  {
   "cell_type": "code",
   "execution_count": 202,
   "id": "ec2b7ae3",
   "metadata": {
    "ExecuteTime": {
     "end_time": "2023-11-20T15:14:07.977002100Z",
     "start_time": "2023-11-20T15:14:01.447090900Z"
    }
   },
   "outputs": [],
   "source": [
    "#---"
   ]
  },
  {
   "cell_type": "markdown",
   "id": "27794913",
   "metadata": {},
   "source": [
    "#### 81. Consider an array Z = [1,2,3,4,5,6,7,8,9,10,11,12,13,14], how to generate an array R = [[1,2,3,4], [2,3,4,5], [3,4,5,6], ..., [11,12,13,14]]? (★★★)"
   ]
  },
  {
   "cell_type": "code",
   "execution_count": 203,
   "id": "f3e7878b",
   "metadata": {
    "ExecuteTime": {
     "end_time": "2023-11-20T15:14:08.052817800Z",
     "start_time": "2023-11-20T15:14:01.484782800Z"
    }
   },
   "outputs": [
    {
     "name": "stdout",
     "output_type": "stream",
     "text": [
      "[[ 1  2  3  4]\n",
      " [ 2  3  4  5]\n",
      " [ 3  4  5  6]\n",
      " [ 4  5  6  7]\n",
      " [ 5  6  7  8]\n",
      " [ 6  7  8  9]\n",
      " [ 7  8  9 10]\n",
      " [ 8  9 10 11]\n",
      " [ 9 10 11 12]\n",
      " [10 11 12 13]\n",
      " [11 12 13 14]]\n"
     ]
    }
   ],
   "source": [
    "Z = np.arange(1,15,dtype = np.uint32)\n",
    "R = stride_tricks.as_strided(Z, (11, 4), (4, 4))\n",
    "print(R)"
   ]
  },
  {
   "cell_type": "markdown",
   "id": "fae786f5",
   "metadata": {},
   "source": [
    "#### 82. Compute a matrix rank (★★★)"
   ]
  },
  {
   "cell_type": "code",
   "execution_count": 204,
   "id": "64b9615b",
   "metadata": {
    "ExecuteTime": {
     "end_time": "2023-11-20T15:14:08.109889200Z",
     "start_time": "2023-11-20T15:14:01.535182500Z"
    }
   },
   "outputs": [
    {
     "name": "stdout",
     "output_type": "stream",
     "text": [
      "10\n"
     ]
    }
   ],
   "source": [
    "Z = np.random.uniform(0,1,(10,10))\n",
    "U, S, V = np.linalg.svd(Z) # Singular Value Decomposition\n",
    "rank = np.sum(S > 1e-10)\n",
    "print(rank)"
   ]
  },
  {
   "cell_type": "markdown",
   "id": "c85aa0b9",
   "metadata": {},
   "source": [
    "#### 83. How to find the most frequent value in an array?"
   ]
  },
  {
   "cell_type": "code",
   "execution_count": 205,
   "id": "056be85b",
   "metadata": {
    "ExecuteTime": {
     "end_time": "2023-11-20T15:14:08.158921100Z",
     "start_time": "2023-11-20T15:14:01.583279700Z"
    }
   },
   "outputs": [
    {
     "name": "stdout",
     "output_type": "stream",
     "text": [
      "8\n"
     ]
    }
   ],
   "source": [
    "Z = np.random.randint(0,10,50)\n",
    "print(np.bincount(Z).argmax())"
   ]
  },
  {
   "cell_type": "markdown",
   "id": "0ff2344d",
   "metadata": {},
   "source": [
    "#### 84. Extract all the contiguous 3x3 blocks from a random 10x10 matrix (★★★)"
   ]
  },
  {
   "cell_type": "code",
   "execution_count": 206,
   "id": "d58b1318",
   "metadata": {
    "ExecuteTime": {
     "end_time": "2023-11-20T15:14:08.203636400Z",
     "start_time": "2023-11-20T15:14:01.611757200Z"
    }
   },
   "outputs": [
    {
     "name": "stdout",
     "output_type": "stream",
     "text": [
      "[[[[1 1 1]\n",
      "   [3 3 0]\n",
      "   [4 2 1]]\n",
      "\n",
      "  [[1 1 4]\n",
      "   [3 0 0]\n",
      "   [2 1 2]]\n",
      "\n",
      "  [[1 4 0]\n",
      "   [0 0 2]\n",
      "   [1 2 4]]\n",
      "\n",
      "  [[4 0 3]\n",
      "   [0 2 0]\n",
      "   [2 4 3]]\n",
      "\n",
      "  [[0 3 4]\n",
      "   [2 0 3]\n",
      "   [4 3 2]]\n",
      "\n",
      "  [[3 4 2]\n",
      "   [0 3 3]\n",
      "   [3 2 1]]\n",
      "\n",
      "  [[4 2 1]\n",
      "   [3 3 3]\n",
      "   [2 1 1]]\n",
      "\n",
      "  [[2 1 1]\n",
      "   [3 3 4]\n",
      "   [1 1 4]]]\n",
      "\n",
      "\n",
      " [[[3 3 0]\n",
      "   [4 2 1]\n",
      "   [4 1 2]]\n",
      "\n",
      "  [[3 0 0]\n",
      "   [2 1 2]\n",
      "   [1 2 1]]\n",
      "\n",
      "  [[0 0 2]\n",
      "   [1 2 4]\n",
      "   [2 1 0]]\n",
      "\n",
      "  [[0 2 0]\n",
      "   [2 4 3]\n",
      "   [1 0 2]]\n",
      "\n",
      "  [[2 0 3]\n",
      "   [4 3 2]\n",
      "   [0 2 1]]\n",
      "\n",
      "  [[0 3 3]\n",
      "   [3 2 1]\n",
      "   [2 1 2]]\n",
      "\n",
      "  [[3 3 3]\n",
      "   [2 1 1]\n",
      "   [1 2 2]]\n",
      "\n",
      "  [[3 3 4]\n",
      "   [1 1 4]\n",
      "   [2 2 2]]]\n",
      "\n",
      "\n",
      " [[[4 2 1]\n",
      "   [4 1 2]\n",
      "   [3 1 2]]\n",
      "\n",
      "  [[2 1 2]\n",
      "   [1 2 1]\n",
      "   [1 2 2]]\n",
      "\n",
      "  [[1 2 4]\n",
      "   [2 1 0]\n",
      "   [2 2 0]]\n",
      "\n",
      "  [[2 4 3]\n",
      "   [1 0 2]\n",
      "   [2 0 3]]\n",
      "\n",
      "  [[4 3 2]\n",
      "   [0 2 1]\n",
      "   [0 3 1]]\n",
      "\n",
      "  [[3 2 1]\n",
      "   [2 1 2]\n",
      "   [3 1 2]]\n",
      "\n",
      "  [[2 1 1]\n",
      "   [1 2 2]\n",
      "   [1 2 0]]\n",
      "\n",
      "  [[1 1 4]\n",
      "   [2 2 2]\n",
      "   [2 0 1]]]\n",
      "\n",
      "\n",
      " [[[4 1 2]\n",
      "   [3 1 2]\n",
      "   [4 0 0]]\n",
      "\n",
      "  [[1 2 1]\n",
      "   [1 2 2]\n",
      "   [0 0 1]]\n",
      "\n",
      "  [[2 1 0]\n",
      "   [2 2 0]\n",
      "   [0 1 1]]\n",
      "\n",
      "  [[1 0 2]\n",
      "   [2 0 3]\n",
      "   [1 1 3]]\n",
      "\n",
      "  [[0 2 1]\n",
      "   [0 3 1]\n",
      "   [1 3 2]]\n",
      "\n",
      "  [[2 1 2]\n",
      "   [3 1 2]\n",
      "   [3 2 1]]\n",
      "\n",
      "  [[1 2 2]\n",
      "   [1 2 0]\n",
      "   [2 1 4]]\n",
      "\n",
      "  [[2 2 2]\n",
      "   [2 0 1]\n",
      "   [1 4 1]]]\n",
      "\n",
      "\n",
      " [[[3 1 2]\n",
      "   [4 0 0]\n",
      "   [2 1 2]]\n",
      "\n",
      "  [[1 2 2]\n",
      "   [0 0 1]\n",
      "   [1 2 4]]\n",
      "\n",
      "  [[2 2 0]\n",
      "   [0 1 1]\n",
      "   [2 4 0]]\n",
      "\n",
      "  [[2 0 3]\n",
      "   [1 1 3]\n",
      "   [4 0 3]]\n",
      "\n",
      "  [[0 3 1]\n",
      "   [1 3 2]\n",
      "   [0 3 4]]\n",
      "\n",
      "  [[3 1 2]\n",
      "   [3 2 1]\n",
      "   [3 4 2]]\n",
      "\n",
      "  [[1 2 0]\n",
      "   [2 1 4]\n",
      "   [4 2 2]]\n",
      "\n",
      "  [[2 0 1]\n",
      "   [1 4 1]\n",
      "   [2 2 1]]]\n",
      "\n",
      "\n",
      " [[[4 0 0]\n",
      "   [2 1 2]\n",
      "   [2 4 3]]\n",
      "\n",
      "  [[0 0 1]\n",
      "   [1 2 4]\n",
      "   [4 3 4]]\n",
      "\n",
      "  [[0 1 1]\n",
      "   [2 4 0]\n",
      "   [3 4 4]]\n",
      "\n",
      "  [[1 1 3]\n",
      "   [4 0 3]\n",
      "   [4 4 2]]\n",
      "\n",
      "  [[1 3 2]\n",
      "   [0 3 4]\n",
      "   [4 2 2]]\n",
      "\n",
      "  [[3 2 1]\n",
      "   [3 4 2]\n",
      "   [2 2 2]]\n",
      "\n",
      "  [[2 1 4]\n",
      "   [4 2 2]\n",
      "   [2 2 0]]\n",
      "\n",
      "  [[1 4 1]\n",
      "   [2 2 1]\n",
      "   [2 0 3]]]\n",
      "\n",
      "\n",
      " [[[2 1 2]\n",
      "   [2 4 3]\n",
      "   [4 3 1]]\n",
      "\n",
      "  [[1 2 4]\n",
      "   [4 3 4]\n",
      "   [3 1 3]]\n",
      "\n",
      "  [[2 4 0]\n",
      "   [3 4 4]\n",
      "   [1 3 0]]\n",
      "\n",
      "  [[4 0 3]\n",
      "   [4 4 2]\n",
      "   [3 0 2]]\n",
      "\n",
      "  [[0 3 4]\n",
      "   [4 2 2]\n",
      "   [0 2 0]]\n",
      "\n",
      "  [[3 4 2]\n",
      "   [2 2 2]\n",
      "   [2 0 3]]\n",
      "\n",
      "  [[4 2 2]\n",
      "   [2 2 0]\n",
      "   [0 3 3]]\n",
      "\n",
      "  [[2 2 1]\n",
      "   [2 0 3]\n",
      "   [3 3 1]]]\n",
      "\n",
      "\n",
      " [[[2 4 3]\n",
      "   [4 3 1]\n",
      "   [0 3 4]]\n",
      "\n",
      "  [[4 3 4]\n",
      "   [3 1 3]\n",
      "   [3 4 3]]\n",
      "\n",
      "  [[3 4 4]\n",
      "   [1 3 0]\n",
      "   [4 3 0]]\n",
      "\n",
      "  [[4 4 2]\n",
      "   [3 0 2]\n",
      "   [3 0 2]]\n",
      "\n",
      "  [[4 2 2]\n",
      "   [0 2 0]\n",
      "   [0 2 1]]\n",
      "\n",
      "  [[2 2 2]\n",
      "   [2 0 3]\n",
      "   [2 1 2]]\n",
      "\n",
      "  [[2 2 0]\n",
      "   [0 3 3]\n",
      "   [1 2 3]]\n",
      "\n",
      "  [[2 0 3]\n",
      "   [3 3 1]\n",
      "   [2 3 0]]]]\n"
     ]
    }
   ],
   "source": [
    "Z = np.random.randint(0,5,(10,10))\n",
    "n = 3\n",
    "i = 1 + (Z.shape[0]-3)\n",
    "j = 1 + (Z.shape[1]-3)\n",
    "C = stride_tricks.as_strided(Z, shape=(i, j, n, n), strides=Z.strides + Z.strides)\n",
    "print(C)\n"
   ]
  },
  {
   "cell_type": "markdown",
   "id": "1a18b263",
   "metadata": {},
   "source": [
    "#### 85. Create a 2D array subclass such that Z[i,j] == Z[j,i] (★★★)"
   ]
  },
  {
   "cell_type": "code",
   "execution_count": 207,
   "id": "87f17adc",
   "metadata": {
    "ExecuteTime": {
     "end_time": "2023-11-20T15:14:08.268693200Z",
     "start_time": "2023-11-20T15:14:01.645650800Z"
    }
   },
   "outputs": [
    {
     "name": "stdout",
     "output_type": "stream",
     "text": [
      "[[ 5 12  9  8  1]\n",
      " [12  6  6  8  9]\n",
      " [ 9  6  1 42 15]\n",
      " [ 8  8 42  8 11]\n",
      " [ 1  9 15 11  8]]\n"
     ]
    }
   ],
   "source": [
    "class Symetric(np.ndarray):\n",
    "    def __setitem__(self, index, value):\n",
    "        i,j = index\n",
    "        super(Symetric, self).__setitem__((i,j), value)\n",
    "        super(Symetric, self).__setitem__((j,i), value)\n",
    "\n",
    "def symetric(Z):\n",
    "    return np.asarray(Z + Z.T - np.diag(Z.diagonal())).view(Symetric)\n",
    "\n",
    "S = symetric(np.random.randint(0,10,(5,5)))\n",
    "S[2,3] = 42\n",
    "print(S)"
   ]
  },
  {
   "cell_type": "markdown",
   "id": "f85f2cad",
   "metadata": {},
   "source": [
    "#### 86. Consider a set of p matrices wich shape (n,n) and a set of p vectors with shape (n,1). How to compute the sum of of the p matrix products at once? (result has shape (n,1)) (★★★)"
   ]
  },
  {
   "cell_type": "code",
   "execution_count": 208,
   "id": "8d230557",
   "metadata": {
    "ExecuteTime": {
     "end_time": "2023-11-20T15:14:08.268693200Z",
     "start_time": "2023-11-20T15:14:01.672485600Z"
    }
   },
   "outputs": [
    {
     "name": "stdout",
     "output_type": "stream",
     "text": [
      "[[200.]\n",
      " [200.]\n",
      " [200.]\n",
      " [200.]\n",
      " [200.]\n",
      " [200.]\n",
      " [200.]\n",
      " [200.]\n",
      " [200.]\n",
      " [200.]\n",
      " [200.]\n",
      " [200.]\n",
      " [200.]\n",
      " [200.]\n",
      " [200.]\n",
      " [200.]\n",
      " [200.]\n",
      " [200.]\n",
      " [200.]\n",
      " [200.]]\n"
     ]
    }
   ],
   "source": [
    "p, n = 10, 20\n",
    "M = np.ones((p,n,n))\n",
    "V = np.ones((p,n,1))\n",
    "S = np.tensordot(M, V, axes=[[0, 2], [0, 1]])\n",
    "print(S)"
   ]
  },
  {
   "cell_type": "markdown",
   "id": "5afb72c8",
   "metadata": {},
   "source": [
    "#### 87. Consider a 16x16 array, how to get the block-sum (block size is 4x4)? (★★★)"
   ]
  },
  {
   "cell_type": "code",
   "execution_count": 209,
   "id": "e86f47a9",
   "metadata": {
    "ExecuteTime": {
     "end_time": "2023-11-20T15:14:08.338949300Z",
     "start_time": "2023-11-20T15:14:01.703002200Z"
    }
   },
   "outputs": [
    {
     "name": "stdout",
     "output_type": "stream",
     "text": [
      "[[16. 16. 16. 16.]\n",
      " [16. 16. 16. 16.]\n",
      " [16. 16. 16. 16.]\n",
      " [16. 16. 16. 16.]]\n"
     ]
    }
   ],
   "source": [
    "Z = np.ones((16,16))\n",
    "k = 4\n",
    "S = np.add.reduceat(np.add.reduceat(Z, np.arange(0, Z.shape[0], k), axis=0),\n",
    "                                       np.arange(0, Z.shape[1], k), axis=1)\n",
    "print(S)"
   ]
  },
  {
   "cell_type": "markdown",
   "id": "6094d37c",
   "metadata": {},
   "source": [
    "#### 88. How to implement the Game of Life using numpy arrays? (★★★)"
   ]
  },
  {
   "cell_type": "code",
   "execution_count": 210,
   "id": "a93e715f",
   "metadata": {
    "ExecuteTime": {
     "end_time": "2023-11-20T15:14:08.387058200Z",
     "start_time": "2023-11-20T15:14:01.740293900Z"
    }
   },
   "outputs": [
    {
     "name": "stdout",
     "output_type": "stream",
     "text": [
      "[[0 0 0 0 0 0 0 0 0 0 0 0 0 0 0 0 0 0 0 0 0 0 0 0 0 0 0 0 0 0 0 0 0 0 0 0\n",
      "  0 0 0 0 0 0 0 0 0 0 0 0 0 0]\n",
      " [0 0 0 0 0 0 0 0 0 0 0 0 0 0 0 0 0 0 0 0 0 0 0 0 0 0 0 0 0 0 0 0 0 0 0 0\n",
      "  0 0 0 0 0 0 0 0 0 0 0 0 0 0]\n",
      " [0 0 0 0 0 0 0 0 0 0 0 0 0 0 0 0 0 0 0 0 0 0 0 0 0 0 0 0 0 0 0 0 0 0 1 0\n",
      "  0 0 0 0 0 0 0 0 0 0 0 0 0 0]\n",
      " [0 0 0 0 0 0 0 0 0 0 0 0 0 0 0 0 0 0 0 0 0 0 0 0 0 0 0 0 0 0 0 0 0 1 0 1\n",
      "  0 0 0 0 0 0 0 0 0 0 0 0 0 0]\n",
      " [0 0 0 0 0 0 0 0 0 0 0 0 0 0 0 0 0 0 0 0 0 0 0 0 0 0 0 0 0 0 0 0 0 1 0 0\n",
      "  1 0 0 0 0 0 0 0 0 0 1 1 1 0]\n",
      " [0 0 0 0 0 0 0 0 0 0 0 0 0 0 0 0 0 0 0 0 0 0 0 0 0 0 0 0 0 0 0 0 0 0 1 1\n",
      "  1 0 0 0 0 0 0 0 0 0 0 0 1 0]\n",
      " [0 0 0 0 0 0 0 0 0 0 0 0 0 0 0 0 0 0 0 0 0 0 0 0 0 0 0 0 0 0 0 0 0 0 1 1\n",
      "  0 0 0 0 0 0 0 0 0 0 1 0 1 0]\n",
      " [0 0 0 0 0 0 0 0 0 0 0 0 0 0 0 0 0 0 0 0 0 0 0 0 0 0 0 0 0 0 0 0 0 0 0 0\n",
      "  1 0 0 1 1 0 1 1 0 0 0 0 0 0]\n",
      " [0 0 0 0 0 0 0 0 0 0 0 0 1 0 0 0 0 0 0 0 0 0 0 0 0 0 0 0 0 0 0 0 0 0 0 0\n",
      "  1 1 0 1 0 0 0 1 0 0 1 0 0 0]\n",
      " [0 0 0 0 0 0 0 0 0 0 0 0 1 0 0 0 0 0 0 0 0 0 0 0 0 0 0 0 0 0 0 0 0 0 0 0\n",
      "  1 0 0 1 0 0 0 1 0 0 1 0 0 0]\n",
      " [0 0 0 0 0 0 0 0 0 0 0 1 1 0 1 0 0 0 0 0 0 0 0 0 0 0 0 0 0 0 0 0 0 0 0 0\n",
      "  0 1 1 1 0 0 0 1 1 1 0 0 0 0]\n",
      " [0 0 0 0 0 0 0 0 0 1 1 0 0 0 1 1 0 0 0 0 0 0 0 0 0 0 0 0 0 0 0 0 0 0 0 0\n",
      "  0 0 0 0 0 0 0 0 0 0 0 0 0 0]\n",
      " [0 0 0 0 0 0 0 0 1 0 0 1 0 0 1 0 0 1 0 0 0 0 0 0 0 0 0 0 0 0 0 0 0 0 0 0\n",
      "  0 0 0 0 0 0 0 0 0 0 0 0 0 0]\n",
      " [0 0 1 1 0 0 0 1 1 1 0 1 1 1 0 0 0 1 0 0 0 0 1 1 0 0 0 0 0 0 0 0 0 0 0 0\n",
      "  0 0 0 0 0 0 0 0 0 0 0 0 0 0]\n",
      " [0 0 1 0 1 0 0 0 1 0 0 0 1 1 0 0 0 0 0 0 0 1 0 0 1 0 0 0 0 0 0 0 0 0 0 0\n",
      "  0 0 0 0 0 0 0 0 0 0 0 0 0 0]\n",
      " [0 0 0 1 0 0 0 0 0 1 0 0 0 0 0 1 0 0 0 0 0 1 0 0 1 0 0 0 0 0 0 0 0 0 0 0\n",
      "  0 0 0 0 0 0 0 0 0 0 0 0 0 0]\n",
      " [0 0 0 0 0 0 0 0 0 1 0 1 0 0 1 1 0 0 0 0 0 0 0 0 1 0 0 0 0 0 0 0 0 0 0 0\n",
      "  0 0 1 1 1 0 0 0 0 0 0 0 0 0]\n",
      " [0 0 0 0 0 0 0 0 0 0 0 0 0 0 0 0 0 0 0 0 0 0 0 0 0 0 0 0 0 0 0 0 0 0 0 0\n",
      "  0 0 0 0 0 0 0 0 0 0 0 0 0 0]\n",
      " [0 0 0 0 0 0 0 0 0 0 0 0 0 0 0 0 0 0 0 0 0 1 1 0 0 1 0 0 0 0 0 0 0 0 0 0\n",
      "  0 0 0 0 0 0 0 0 0 0 0 0 0 0]\n",
      " [0 0 0 0 0 0 0 0 0 0 0 0 0 0 0 0 0 0 0 0 0 0 0 0 0 0 1 0 1 1 0 0 0 0 0 0\n",
      "  0 0 1 0 0 0 0 0 0 0 0 0 0 0]\n",
      " [0 0 0 0 0 0 0 0 0 0 0 0 0 0 0 0 0 0 0 0 0 0 0 0 0 1 0 0 1 1 0 0 0 0 0 0\n",
      "  0 0 1 0 0 0 0 0 0 0 0 0 0 0]\n",
      " [0 0 0 0 0 0 0 0 0 0 0 0 0 0 1 1 0 0 0 0 0 1 0 0 0 1 0 0 0 0 0 0 0 1 1 1\n",
      "  0 0 1 0 0 0 0 0 0 0 0 0 0 0]\n",
      " [0 0 0 0 0 0 0 0 0 0 0 0 0 1 0 0 1 0 0 0 0 0 1 1 1 0 0 0 0 0 0 0 0 0 0 0\n",
      "  0 0 0 0 0 0 0 0 0 0 0 0 0 0]\n",
      " [0 0 0 0 0 0 0 0 0 0 0 0 0 0 1 0 1 0 0 0 0 0 0 0 0 0 0 0 0 0 0 0 1 0 0 0\n",
      "  1 1 0 0 1 1 1 0 0 0 0 0 0 0]\n",
      " [0 0 0 0 0 0 0 0 0 0 0 0 0 0 0 1 0 0 0 0 0 0 0 0 0 0 0 0 0 0 0 0 0 0 1 0\n",
      "  0 1 0 0 0 0 0 0 0 0 0 0 0 0]\n",
      " [0 0 0 0 0 0 0 0 0 0 0 0 0 0 0 0 0 0 0 0 0 0 0 0 0 0 0 0 0 0 0 0 0 1 1 1\n",
      "  0 0 0 0 0 0 0 0 0 0 0 0 0 0]\n",
      " [0 0 0 0 0 0 0 0 0 0 0 0 0 0 0 0 0 0 0 0 0 0 0 0 0 0 0 0 0 0 0 0 0 1 0 1\n",
      "  1 1 1 0 0 0 0 0 0 0 0 0 0 0]\n",
      " [0 0 0 0 0 0 0 0 0 0 0 0 0 0 0 0 0 0 0 1 1 0 0 0 0 0 0 0 0 0 0 0 0 1 1 0\n",
      "  0 0 1 0 0 0 0 0 0 0 0 0 0 0]\n",
      " [0 0 0 0 0 1 1 1 0 0 0 0 0 0 0 0 0 0 0 1 1 0 0 0 0 0 0 0 0 0 0 1 0 0 0 0\n",
      "  0 0 0 0 0 0 0 0 0 0 0 0 0 0]\n",
      " [0 0 0 0 0 0 0 0 0 0 0 0 0 0 0 0 0 0 0 0 0 0 0 0 0 0 0 0 0 0 0 0 1 1 1 0\n",
      "  0 0 0 0 0 0 0 0 0 0 0 0 0 0]\n",
      " [0 0 0 0 0 0 0 0 0 0 0 0 0 0 0 0 0 0 0 0 0 0 0 0 0 0 0 0 1 1 0 0 0 0 0 0\n",
      "  0 0 0 0 0 0 0 0 0 0 0 1 1 0]\n",
      " [0 0 0 0 0 0 0 0 0 0 0 0 0 0 0 0 0 0 0 0 0 0 0 0 0 0 0 0 1 1 0 0 0 0 0 0\n",
      "  0 0 0 0 0 0 0 0 0 0 0 1 1 0]\n",
      " [0 0 0 0 0 0 0 0 0 0 0 0 0 0 0 0 0 0 0 0 0 0 0 0 0 0 0 0 0 0 0 0 0 0 0 0\n",
      "  0 0 0 0 0 0 0 0 0 0 0 0 0 0]\n",
      " [0 0 0 0 0 0 0 0 0 0 0 0 0 0 0 0 0 0 0 0 0 0 0 0 0 0 0 0 0 0 0 0 0 0 0 0\n",
      "  0 0 0 0 0 0 0 0 0 0 0 0 0 0]\n",
      " [0 0 0 0 0 0 0 0 0 0 0 0 0 0 0 0 0 0 0 0 0 0 0 0 0 0 0 0 1 1 0 0 0 1 1 0\n",
      "  0 0 0 0 0 0 0 0 0 0 0 1 1 0]\n",
      " [0 0 0 0 0 0 0 0 0 0 0 0 0 0 0 0 0 0 0 0 0 0 0 0 0 0 0 0 1 1 1 1 0 1 1 0\n",
      "  0 0 0 0 0 0 0 0 0 0 0 1 1 0]\n",
      " [0 0 0 0 0 0 0 0 0 0 0 0 0 0 1 1 0 0 0 0 0 0 0 0 0 0 0 0 0 1 0 0 0 1 0 0\n",
      "  0 0 0 0 0 0 0 0 0 0 0 0 0 0]\n",
      " [0 0 0 0 0 0 0 0 0 0 0 0 0 0 1 1 0 0 0 0 0 0 0 0 0 0 0 0 0 0 0 1 1 1 0 0\n",
      "  0 0 0 0 0 0 0 0 0 0 0 0 0 0]\n",
      " [0 0 1 1 1 0 0 0 0 0 0 0 0 0 0 0 0 0 0 0 0 0 0 0 0 0 0 0 0 0 1 0 1 1 0 1\n",
      "  1 0 0 1 1 0 0 0 0 0 0 0 0 0]\n",
      " [0 0 0 0 0 0 0 0 0 0 0 0 0 0 0 0 0 0 0 0 0 0 0 0 0 0 0 0 0 1 1 0 1 0 0 0\n",
      "  0 1 0 1 1 0 0 0 0 0 0 0 0 0]\n",
      " [0 0 0 0 0 0 0 0 0 0 0 0 0 0 0 0 0 0 0 0 0 0 0 0 0 0 0 0 1 1 0 0 0 0 0 1\n",
      "  1 0 0 0 0 0 0 0 0 0 0 0 0 0]\n",
      " [0 0 0 0 0 0 0 0 0 0 0 0 0 0 0 0 0 0 0 0 0 0 0 0 0 0 0 0 0 1 0 0 0 0 0 1\n",
      "  0 1 0 0 0 0 0 0 0 0 0 0 0 0]\n",
      " [0 0 0 0 0 0 0 0 0 0 0 0 0 0 0 0 0 0 0 0 0 0 0 0 0 0 0 0 0 0 1 0 0 0 0 0\n",
      "  1 1 0 0 0 0 0 0 0 0 0 0 0 0]\n",
      " [0 0 0 0 0 0 0 0 0 0 0 0 0 0 0 0 0 0 0 0 0 0 0 0 0 0 0 0 0 0 0 0 0 0 0 0\n",
      "  1 1 0 0 0 0 0 0 0 0 0 0 0 0]\n",
      " [0 0 0 0 0 0 0 0 0 0 0 0 0 0 0 0 0 0 0 0 0 0 0 0 0 0 0 0 0 0 0 0 0 0 0 0\n",
      "  0 0 0 0 0 0 1 1 0 0 0 0 0 0]\n",
      " [0 0 0 0 0 0 0 0 0 0 0 0 0 0 0 0 0 0 0 0 0 1 1 0 0 0 0 0 0 0 0 0 0 0 0 0\n",
      "  0 0 0 0 0 0 1 1 0 0 0 0 0 0]\n",
      " [0 0 0 0 0 0 0 0 0 0 0 0 0 0 0 0 0 0 0 0 1 0 0 1 0 0 0 0 0 0 0 0 0 0 0 0\n",
      "  0 0 0 0 0 0 0 0 0 0 0 0 0 0]\n",
      " [0 0 0 0 0 0 0 0 0 0 0 0 0 0 0 0 0 0 0 0 0 1 1 0 0 0 0 0 0 0 0 0 0 0 0 0\n",
      "  0 0 0 0 0 0 0 0 0 0 0 0 0 0]\n",
      " [0 0 0 0 0 0 0 0 0 0 0 0 0 0 0 0 0 0 0 0 0 0 0 0 0 0 0 0 0 0 0 0 0 0 0 0\n",
      "  0 0 0 0 0 0 0 0 0 0 0 0 0 0]\n",
      " [0 0 0 0 0 0 0 0 0 0 0 0 0 0 0 0 0 0 0 0 0 0 0 0 0 0 0 0 0 0 0 0 0 0 0 0\n",
      "  0 0 0 0 0 0 0 0 0 0 0 0 0 0]]\n"
     ]
    }
   ],
   "source": [
    "def iterate(Z):\n",
    "    N = (Z[0:-2,0:-2] + Z[0:-2,1:-1] + Z[0:-2,2:] +\n",
    "         Z[1:-1,0:-2]                + Z[1:-1,2:] +\n",
    "         Z[2:  ,0:-2] + Z[2:  ,1:-1] + Z[2:  ,2:])\n",
    "\n",
    "    birth = (N==3) & (Z[1:-1,1:-1]==0)\n",
    "    survive = ((N==2) | (N==3)) & (Z[1:-1,1:-1]==1)\n",
    "    Z[...] = 0\n",
    "    Z[1:-1,1:-1][birth | survive] = 1\n",
    "    return Z\n",
    "\n",
    "Z = np.random.randint(0,2,(50,50))\n",
    "for i in range(100): Z = iterate(Z)\n",
    "print(Z)"
   ]
  },
  {
   "cell_type": "markdown",
   "id": "a173cf96",
   "metadata": {},
   "source": [
    "#### 89. How to get the n largest values of an array (★★★)"
   ]
  },
  {
   "cell_type": "code",
   "execution_count": 211,
   "id": "b7c2ff35",
   "metadata": {
    "ExecuteTime": {
     "end_time": "2023-11-20T15:14:08.387058200Z",
     "start_time": "2023-11-20T15:14:01.790599800Z"
    }
   },
   "outputs": [
    {
     "name": "stdout",
     "output_type": "stream",
     "text": [
      "[9995 9996 9997 9998 9999]\n"
     ]
    }
   ],
   "source": [
    "Z = np.arange(10000)\n",
    "np.random.shuffle(Z)\n",
    "n = 5\n",
    "\n",
    "print (Z[np.argsort(Z)[-n:]])\n"
   ]
  },
  {
   "cell_type": "markdown",
   "id": "15db2d01",
   "metadata": {},
   "source": [
    "#### 90. Given an arbitrary number of vectors, build the cartesian product (every combinations of every item) (★★★)"
   ]
  },
  {
   "cell_type": "code",
   "execution_count": 212,
   "id": "a9a4633d",
   "metadata": {
    "ExecuteTime": {
     "end_time": "2023-11-20T15:14:08.453520900Z",
     "start_time": "2023-11-20T15:14:01.809497Z"
    }
   },
   "outputs": [
    {
     "name": "stdout",
     "output_type": "stream",
     "text": [
      "[[1 4 6]\n",
      " [1 4 7]\n",
      " [1 5 6]\n",
      " [1 5 7]\n",
      " [2 4 6]\n",
      " [2 4 7]\n",
      " [2 5 6]\n",
      " [2 5 7]\n",
      " [3 4 6]\n",
      " [3 4 7]\n",
      " [3 5 6]\n",
      " [3 5 7]]\n"
     ]
    }
   ],
   "source": [
    "def cartesian(arrays):\n",
    "    arrays = [np.asarray(a) for a in arrays]\n",
    "    shape = (len(x) for x in arrays)\n",
    "\n",
    "    ix = np.indices(shape, dtype=int)\n",
    "    ix = ix.reshape(len(arrays), -1).T\n",
    "\n",
    "    for n, arr in enumerate(arrays):\n",
    "        ix[:, n] = arrays[n][ix[:, n]]\n",
    "\n",
    "    return ix\n",
    "\n",
    "print (cartesian(([1, 2, 3], [4, 5], [6, 7])))"
   ]
  },
  {
   "cell_type": "markdown",
   "id": "5d94d1ef",
   "metadata": {},
   "source": [
    "#### 91. How to create a record array from a regular array? (★★★)"
   ]
  },
  {
   "cell_type": "code",
   "execution_count": 213,
   "id": "b1dae380",
   "metadata": {
    "ExecuteTime": {
     "end_time": "2023-11-20T15:14:08.495868200Z",
     "start_time": "2023-11-20T15:14:01.838678400Z"
    }
   },
   "outputs": [
    {
     "name": "stdout",
     "output_type": "stream",
     "text": [
      "[(b'Hello', 2.5, 3) (b'World', 3.6, 2)]\n"
     ]
    }
   ],
   "source": [
    "Z = np.array([(\"Hello\", 2.5, 3),\n",
    "              (\"World\", 3.6, 2)])\n",
    "R = np.core.records.fromarrays(Z.T,\n",
    "                               names='col1, col2, col3',\n",
    "                               formats = 'S8, f8, i8')\n",
    "print(R)"
   ]
  },
  {
   "cell_type": "markdown",
   "id": "114ccc36",
   "metadata": {},
   "source": [
    "#### 92. Consider a large vector Z, compute Z to the power of 3 using 3 different methods (★★★)"
   ]
  },
  {
   "cell_type": "code",
   "execution_count": 214,
   "id": "877c65d6",
   "metadata": {
    "ExecuteTime": {
     "end_time": "2023-11-20T15:14:28.290060100Z",
     "start_time": "2023-11-20T15:14:01.896693400Z"
    }
   },
   "outputs": [
    {
     "name": "stdout",
     "output_type": "stream",
     "text": [
      "2.44 s ± 553 ms per loop (mean ± std. dev. of 7 runs, 1 loop each)\n",
      "550 ms ± 48.8 ms per loop (mean ± std. dev. of 7 runs, 1 loop each)\n",
      "313 ms ± 35 ms per loop (mean ± std. dev. of 7 runs, 1 loop each)\n"
     ]
    }
   ],
   "source": [
    "x = np.random.rand(int(5e7))\n",
    "\n",
    "%timeit np.power(x,3)\n",
    "%timeit x*x*x\n",
    "%timeit np.einsum('i,i,i->i',x,x,x)"
   ]
  },
  {
   "cell_type": "markdown",
   "id": "d614fee4",
   "metadata": {},
   "source": [
    "#### 93. Consider two arrays A and B of shape (8,3) and (2,2). How to find rows of A that contain elements of each row of B regardless of the order of the elements in B? (★★★)"
   ]
  },
  {
   "cell_type": "code",
   "execution_count": 215,
   "id": "e6807a84",
   "metadata": {
    "ExecuteTime": {
     "end_time": "2023-11-20T15:14:28.406064Z",
     "start_time": "2023-11-20T15:14:28.284300Z"
    }
   },
   "outputs": [
    {
     "name": "stdout",
     "output_type": "stream",
     "text": [
      "[2 6 7]\n"
     ]
    }
   ],
   "source": [
    "A = np.random.randint(0,5,(8,3))\n",
    "B = np.random.randint(0,5,(2,2))\n",
    "\n",
    "C = (A[..., np.newaxis, np.newaxis] == B)\n",
    "rows = np.where(C.any((3,1)).all(1))[0]\n",
    "print(rows)"
   ]
  },
  {
   "cell_type": "markdown",
   "id": "b0eedca6",
   "metadata": {},
   "source": [
    "#### 94. Considering a 10x3 matrix, extract rows with unequal values (e.g. [2,2,3]) (★★★)"
   ]
  },
  {
   "cell_type": "code",
   "execution_count": 216,
   "id": "fc136ce2",
   "metadata": {
    "ExecuteTime": {
     "end_time": "2023-11-20T15:14:28.408065400Z",
     "start_time": "2023-11-20T15:14:28.299252800Z"
    }
   },
   "outputs": [
    {
     "name": "stdout",
     "output_type": "stream",
     "text": [
      "[[0 3 3]\n",
      " [2 0 4]\n",
      " [1 0 4]\n",
      " [3 4 0]\n",
      " [2 0 1]\n",
      " [2 1 1]\n",
      " [1 4 4]\n",
      " [2 2 0]\n",
      " [2 0 2]\n",
      " [0 3 4]]\n",
      "[[0 3 3]\n",
      " [2 0 4]\n",
      " [1 0 4]\n",
      " [3 4 0]\n",
      " [2 0 1]\n",
      " [2 1 1]\n",
      " [1 4 4]\n",
      " [2 2 0]\n",
      " [2 0 2]\n",
      " [0 3 4]]\n"
     ]
    }
   ],
   "source": [
    "Z = np.random.randint(0, 5, (10, 3))\n",
    "print(Z)\n",
    "E = np.all(Z[:,1:] == Z[:,:-1], axis = 1)\n",
    "U = Z[~E]\n",
    "print(U)\n"
   ]
  },
  {
   "cell_type": "markdown",
   "id": "a65ec1cf",
   "metadata": {},
   "source": [
    "#### 95. Convert a vector of ints into a matrix binary representation (★★★)"
   ]
  },
  {
   "cell_type": "code",
   "execution_count": 217,
   "id": "323cdf4c",
   "metadata": {
    "ExecuteTime": {
     "end_time": "2023-11-20T15:14:28.408065400Z",
     "start_time": "2023-11-20T15:14:28.313083900Z"
    }
   },
   "outputs": [
    {
     "name": "stdout",
     "output_type": "stream",
     "text": [
      "[[0 0 0 0 0 0 0 0]\n",
      " [0 0 0 0 0 0 0 1]\n",
      " [0 0 0 0 0 0 1 0]\n",
      " [0 0 0 0 0 0 1 1]\n",
      " [0 0 0 0 1 1 1 1]\n",
      " [0 0 0 1 0 0 0 0]\n",
      " [0 0 1 0 0 0 0 0]\n",
      " [0 1 0 0 0 0 0 0]\n",
      " [1 0 0 0 0 0 0 0]]\n"
     ]
    }
   ],
   "source": [
    "I = np.array([0, 1, 2, 3, 15, 16, 32, 64, 128])\n",
    "B = ((I.reshape(-1,1) & (2**np.arange(8))) != 0).astype(int)\n",
    "print(B[:,::-1])"
   ]
  },
  {
   "cell_type": "markdown",
   "id": "75b9397f",
   "metadata": {},
   "source": [
    "#### 96. Given a two dimensional array, how to extract unique rows? (★★★)"
   ]
  },
  {
   "cell_type": "code",
   "execution_count": 218,
   "id": "9bb56a47",
   "metadata": {
    "ExecuteTime": {
     "end_time": "2023-11-20T15:14:28.408065400Z",
     "start_time": "2023-11-20T15:14:28.335113400Z"
    }
   },
   "outputs": [
    {
     "name": "stdout",
     "output_type": "stream",
     "text": [
      "[[0 0 0]\n",
      " [0 0 1]\n",
      " [0 1 0]\n",
      " [1 0 0]\n",
      " [1 1 1]]\n"
     ]
    }
   ],
   "source": [
    "Z = np.random.randint(0,2,(6,3))\n",
    "T = np.ascontiguousarray(Z).view(np.dtype((np.void, Z.dtype.itemsize * Z.shape[1])))\n",
    "_, idx = np.unique(T, return_index = True)\n",
    "uZ = Z[idx]\n",
    "print(uZ)"
   ]
  },
  {
   "cell_type": "markdown",
   "id": "82aaf21b",
   "metadata": {},
   "source": [
    "#### 97. Considering 2 vectors A & B, write the einsum equivalent of inner, outer, sum, and mul function (★★★)"
   ]
  },
  {
   "cell_type": "code",
   "execution_count": 219,
   "id": "cedcefd9",
   "metadata": {
    "ExecuteTime": {
     "end_time": "2023-11-20T15:14:28.408065400Z",
     "start_time": "2023-11-20T15:14:28.346091700Z"
    }
   },
   "outputs": [
    {
     "data": {
      "text/plain": "array([[2.16662000e-01, 6.34434623e-02, 1.02407997e-01, 1.67193512e-01,\n        3.05558061e-02, 6.89064149e-02, 1.68514206e-01, 3.02591749e-01,\n        1.15462251e-02, 2.13858480e-01],\n       [2.25536451e-01, 6.60420993e-02, 1.06602617e-01, 1.74041740e-01,\n        3.18073685e-02, 7.17288139e-02, 1.75416529e-01, 3.14985873e-01,\n        1.20191572e-02, 2.22618099e-01],\n       [1.65675311e-01, 4.85134234e-02, 7.83085021e-02, 1.27848156e-01,\n        2.33651618e-02, 5.26907890e-02, 1.28858053e-01, 2.31383363e-01,\n        8.82907217e-03, 1.63531538e-01],\n       [1.01577970e-02, 2.97442934e-03, 4.80120943e-03, 7.83855846e-03,\n        1.43255243e-03, 3.23054977e-03, 7.90047677e-03, 1.41864543e-02,\n        5.41323400e-04, 1.00263591e-02],\n       [1.37018205e-01, 4.01219841e-02, 6.47633636e-02, 1.05734069e-01,\n        1.93236549e-02, 4.35767846e-02, 1.06569284e-01, 1.91360637e-01,\n        7.30189437e-03, 1.35245244e-01],\n       [4.44024445e-01, 1.30020253e-01, 2.09873692e-01, 3.42644333e-01,\n        6.26206943e-02, 1.41215962e-01, 3.45350948e-01, 6.20127819e-01,\n        2.36626921e-02, 4.38278945e-01],\n       [2.74679733e-01, 8.04323475e-02, 1.29830802e-01, 2.11964578e-01,\n        3.87380375e-02, 8.73581693e-02, 2.13638927e-01, 3.83619744e-01,\n        1.46380723e-02, 2.71125486e-01],\n       [3.19764889e-02, 9.36342860e-03, 1.51140863e-02, 2.46755845e-02,\n        4.50963896e-03, 1.01696893e-02, 2.48705018e-02, 4.46586006e-02,\n        1.70407242e-03, 3.15627258e-02],\n       [1.64693028e-01, 4.82257890e-02, 7.78442138e-02, 1.27090149e-01,\n        2.32266306e-02, 5.23783872e-02, 1.28094059e-01, 2.30011499e-01,\n        8.77672491e-03, 1.62561965e-01],\n       [4.10274832e-01, 1.20137615e-01, 1.93921517e-01, 3.16600466e-01,\n        5.78609920e-02, 1.30482354e-01, 3.19101355e-01, 5.72992861e-01,\n        2.18641274e-02, 4.04966039e-01]])"
     },
     "execution_count": 219,
     "metadata": {},
     "output_type": "execute_result"
    }
   ],
   "source": [
    "A = np.random.uniform(0,1,10)\n",
    "B = np.random.uniform(0,1,10)\n",
    "\n",
    "np.einsum('i->', A)       # np.sum(A)\n",
    "np.einsum('i,i->i', A, B) # A * B\n",
    "np.einsum('i,i', A, B)    # np.inner(A, B)\n",
    "np.einsum('i,j->ij', A, B)    # np.outer(A, B)"
   ]
  },
  {
   "cell_type": "markdown",
   "id": "7741e17f",
   "metadata": {},
   "source": [
    "#### 98. Considering a path described by two vectors (X,Y), how to sample it using equidistant samples (★★★)?"
   ]
  },
  {
   "cell_type": "code",
   "execution_count": 220,
   "id": "0b2432fe",
   "metadata": {
    "ExecuteTime": {
     "end_time": "2023-11-20T15:14:28.821959900Z",
     "start_time": "2023-11-20T15:14:28.384029700Z"
    }
   },
   "outputs": [],
   "source": [
    "phi = np.arange(0, 10 * np.pi, 0.1)\n",
    "a = 1\n",
    "x = a*phi*np.cos(phi)\n",
    "y = a*phi*np.sin(phi)\n",
    "\n",
    "dr = (np.diff(x) ** 2 + np.diff(y) ** 2) ** .5 \n",
    "r = np.zeros_like(x)\n",
    "r[1:] = np.cumsum(dr) \n",
    "r_int = np.linspace(0, r.max(), 200) \n",
    "x_int = np.interp(r_int, r, x)     \n",
    "y_int = np.interp(r_int, r, y)"
   ]
  },
  {
   "cell_type": "markdown",
   "id": "340d6f36",
   "metadata": {},
   "source": [
    "#### 99. Given an integer n and a 2D array X, select from X the rows which can be interpreted as draws from a multinomial distribution with n degrees, i.e., the rows which only contain integers and which sum to n. (★★★)"
   ]
  },
  {
   "cell_type": "code",
   "execution_count": 221,
   "id": "a75323ae",
   "metadata": {
    "ExecuteTime": {
     "end_time": "2023-11-20T15:14:28.822957600Z",
     "start_time": "2023-11-20T15:14:28.448180300Z"
    }
   },
   "outputs": [
    {
     "name": "stdout",
     "output_type": "stream",
     "text": [
      "[[2. 0. 1. 1.]]\n"
     ]
    }
   ],
   "source": [
    "X = np.asarray([[1.0, 0.0, 3.0, 8.0],\n",
    "                [2.0, 0.0, 1.0, 1.0],\n",
    "                [1.5, 2.5, 1.0, 0.0]])\n",
    "n = 4\n",
    "M = np.logical_and.reduce(np.mod(X, 1) == 0, axis=-1)\n",
    "M &= (X.sum(axis=-1) == n)\n",
    "print(X[M])"
   ]
  },
  {
   "cell_type": "markdown",
   "id": "19721849",
   "metadata": {},
   "source": [
    "#### 100. Compute bootstrapped 95% confidence intervals for the mean of a 1D array X (i.e., resample the elements of an array with replacement N times, compute the mean of each sample, and then compute percentiles over the means). (★★★)"
   ]
  },
  {
   "cell_type": "code",
   "execution_count": 222,
   "id": "87309c6f",
   "metadata": {
    "ExecuteTime": {
     "end_time": "2023-11-20T15:14:28.823989400Z",
     "start_time": "2023-11-20T15:14:28.471265600Z"
    }
   },
   "outputs": [
    {
     "name": "stdout",
     "output_type": "stream",
     "text": [
      "[-0.14434483  0.27656873]\n"
     ]
    }
   ],
   "source": [
    "X = np.random.randn(100) # random 1D array\n",
    "N = 1000 # number of bootstrap samples\n",
    "idx = np.random.randint(0, X.size, (N, X.size))\n",
    "means = X[idx].mean(axis=1)\n",
    "confint = np.percentile(means, [2.5, 97.5])\n",
    "print(confint)"
   ]
  },
  {
   "cell_type": "code",
   "execution_count": 222,
   "outputs": [],
   "source": [],
   "metadata": {
    "collapsed": false,
    "ExecuteTime": {
     "end_time": "2023-11-20T15:14:28.823989400Z",
     "start_time": "2023-11-20T15:14:28.487002100Z"
    }
   },
   "id": "41b1e2f844161838"
  }
 ],
 "metadata": {
  "kernelspec": {
   "name": "python3",
   "language": "python",
   "display_name": "Python 3 (ipykernel)"
  }
 },
 "nbformat": 4,
 "nbformat_minor": 5
}
