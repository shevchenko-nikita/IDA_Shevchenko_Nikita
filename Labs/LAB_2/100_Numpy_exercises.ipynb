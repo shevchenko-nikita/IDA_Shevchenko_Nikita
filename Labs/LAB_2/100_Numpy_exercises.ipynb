{
 "cells": [
  {
   "cell_type": "markdown",
   "id": "f44a2f2b",
   "metadata": {},
   "source": [
    "# 100 numpy exercises\n",
    "\n",
    "This is a collection of exercises that have been collected in the numpy mailing list, on stack overflow\n",
    "and in the numpy documentation. The goal of this collection is to offer a quick reference for both old\n",
    "and new users but also to provide a set of exercises for those who teach."
   ]
  },
  {
   "cell_type": "markdown",
   "id": "96443564",
   "metadata": {},
   "source": [
    "#### 1. Import the numpy package under the name `np` (★☆☆)"
   ]
  },
  {
   "cell_type": "code",
   "execution_count": 223,
   "id": "ffe1047e",
   "metadata": {
    "ExecuteTime": {
     "end_time": "2023-11-20T15:21:28.346709400Z",
     "start_time": "2023-11-20T15:21:21.715603100Z"
    }
   },
   "outputs": [],
   "source": [
    "import numpy as np"
   ]
  },
  {
   "cell_type": "markdown",
   "id": "c807bf1d",
   "metadata": {},
   "source": [
    "#### 2. Print the numpy version and the configuration (★☆☆)"
   ]
  },
  {
   "cell_type": "code",
   "execution_count": 224,
   "id": "f396b717",
   "metadata": {
    "ExecuteTime": {
     "end_time": "2023-11-20T15:21:28.398671500Z",
     "start_time": "2023-11-20T15:21:21.761814600Z"
    }
   },
   "outputs": [
    {
     "name": "stdout",
     "output_type": "stream",
     "text": [
      "Version -  1.26.0\n",
      "Build Dependencies:\n",
      "  blas:\n",
      "    detection method: pkgconfig\n",
      "    found: true\n",
      "    include directory: C:/Users/Shevchenko/.conda/envs/Labs/Library/include\n",
      "    lib directory: C:/Users/Shevchenko/.conda/envs/Labs/Library/lib\n",
      "    name: mkl-sdl\n",
      "    pc file directory: C:\\b\\abs_9fu2cs2527\\croot\\numpy_and_numpy_base_1695830496596\\_h_env\\Library\\lib\\pkgconfig\n",
      "    version: '2023.1'\n",
      "  lapack:\n",
      "    detection method: pkgconfig\n",
      "    found: true\n",
      "    include directory: C:/Users/Shevchenko/.conda/envs/Labs/Library/include\n",
      "    lib directory: C:/Users/Shevchenko/.conda/envs/Labs/Library/lib\n",
      "    name: mkl-sdl\n",
      "    pc file directory: C:\\b\\abs_9fu2cs2527\\croot\\numpy_and_numpy_base_1695830496596\\_h_env\\Library\\lib\\pkgconfig\n",
      "    version: '2023.1'\n",
      "Compilers:\n",
      "  c:\n",
      "    commands: cl.exe\n",
      "    linker: link\n",
      "    name: msvc\n",
      "    version: 19.29.30152\n",
      "  c++:\n",
      "    commands: cl.exe\n",
      "    linker: link\n",
      "    name: msvc\n",
      "    version: 19.29.30152\n",
      "  cython:\n",
      "    commands: cython\n",
      "    linker: cython\n",
      "    name: cython\n",
      "    version: 3.0.0\n",
      "Machine Information:\n",
      "  build:\n",
      "    cpu: x86_64\n",
      "    endian: little\n",
      "    family: x86_64\n",
      "    system: windows\n",
      "  host:\n",
      "    cpu: x86_64\n",
      "    endian: little\n",
      "    family: x86_64\n",
      "    system: windows\n",
      "Python Information:\n",
      "  path: C:\\b\\abs_9fu2cs2527\\croot\\numpy_and_numpy_base_1695830496596\\_h_env\\python.exe\n",
      "  version: '3.10'\n",
      "SIMD Extensions:\n",
      "  baseline:\n",
      "  - SSE\n",
      "  - SSE2\n",
      "  - SSE3\n",
      "  found:\n",
      "  - SSSE3\n",
      "  - SSE41\n",
      "  - POPCNT\n",
      "  - SSE42\n",
      "  - AVX\n",
      "  - F16C\n",
      "  - FMA3\n",
      "  - AVX2\n",
      "  not found:\n",
      "  - AVX512F\n",
      "  - AVX512CD\n",
      "  - AVX512_SKX\n",
      "  - AVX512_CLX\n",
      "  - AVX512_CNL\n",
      "  - AVX512_ICL\n"
     ]
    }
   ],
   "source": [
    "print('Version - ', np.__version__)\n",
    "np.show_config()"
   ]
  },
  {
   "cell_type": "markdown",
   "id": "572c1bdb",
   "metadata": {},
   "source": [
    "#### 3. Create a null vector of size 10 (★☆☆)"
   ]
  },
  {
   "cell_type": "code",
   "execution_count": 225,
   "id": "31c9f6a5",
   "metadata": {
    "ExecuteTime": {
     "end_time": "2023-11-20T15:21:28.460229800Z",
     "start_time": "2023-11-20T15:21:21.902838900Z"
    }
   },
   "outputs": [
    {
     "name": "stdout",
     "output_type": "stream",
     "text": [
      "[0. 0. 0. 0. 0. 0. 0. 0. 0. 0.]\n"
     ]
    }
   ],
   "source": [
    "_vec = np.zeros(10)\n",
    "print(_vec)"
   ]
  },
  {
   "cell_type": "markdown",
   "id": "337e6e36",
   "metadata": {},
   "source": [
    "#### 4. How to find the memory size of any array (★☆☆)"
   ]
  },
  {
   "cell_type": "code",
   "execution_count": 226,
   "id": "31e8ec2e",
   "metadata": {
    "ExecuteTime": {
     "end_time": "2023-11-20T15:21:28.482223200Z",
     "start_time": "2023-11-20T15:21:21.972236Z"
    }
   },
   "outputs": [
    {
     "name": "stdout",
     "output_type": "stream",
     "text": [
      "80\n"
     ]
    }
   ],
   "source": [
    "print(_vec.size * _vec.itemsize)"
   ]
  },
  {
   "cell_type": "markdown",
   "id": "166079c8",
   "metadata": {},
   "source": [
    "#### 5. How to get the documentation of the numpy add function from the command line? (★☆☆)"
   ]
  },
  {
   "cell_type": "code",
   "execution_count": 227,
   "id": "593cd80f",
   "metadata": {
    "ExecuteTime": {
     "end_time": "2023-11-20T15:21:28.546668300Z",
     "start_time": "2023-11-20T15:21:22.039784500Z"
    }
   },
   "outputs": [
    {
     "name": "stdout",
     "output_type": "stream",
     "text": [
      "add(x1, x2, /, out=None, *, where=True, casting='same_kind', order='K', dtype=None, subok=True[, signature, extobj])\n",
      "\n",
      "Add arguments element-wise.\n",
      "\n",
      "Parameters\n",
      "----------\n",
      "x1, x2 : array_like\n",
      "    The arrays to be added.\n",
      "    If ``x1.shape != x2.shape``, they must be broadcastable to a common\n",
      "    shape (which becomes the shape of the output).\n",
      "out : ndarray, None, or tuple of ndarray and None, optional\n",
      "    A location into which the result is stored. If provided, it must have\n",
      "    a shape that the inputs broadcast to. If not provided or None,\n",
      "    a freshly-allocated array is returned. A tuple (possible only as a\n",
      "    keyword argument) must have length equal to the number of outputs.\n",
      "where : array_like, optional\n",
      "    This condition is broadcast over the input. At locations where the\n",
      "    condition is True, the `out` array will be set to the ufunc result.\n",
      "    Elsewhere, the `out` array will retain its original value.\n",
      "    Note that if an uninitialized `out` array is created via the default\n",
      "    ``out=None``, locations within it where the condition is False will\n",
      "    remain uninitialized.\n",
      "**kwargs\n",
      "    For other keyword-only arguments, see the\n",
      "    :ref:`ufunc docs <ufuncs.kwargs>`.\n",
      "\n",
      "Returns\n",
      "-------\n",
      "add : ndarray or scalar\n",
      "    The sum of `x1` and `x2`, element-wise.\n",
      "    This is a scalar if both `x1` and `x2` are scalars.\n",
      "\n",
      "Notes\n",
      "-----\n",
      "Equivalent to `x1` + `x2` in terms of array broadcasting.\n",
      "\n",
      "Examples\n",
      "--------\n",
      ">>> np.add(1.0, 4.0)\n",
      "5.0\n",
      ">>> x1 = np.arange(9.0).reshape((3, 3))\n",
      ">>> x2 = np.arange(3.0)\n",
      ">>> np.add(x1, x2)\n",
      "array([[  0.,   2.,   4.],\n",
      "       [  3.,   5.,   7.],\n",
      "       [  6.,   8.,  10.]])\n",
      "\n",
      "The ``+`` operator can be used as a shorthand for ``np.add`` on ndarrays.\n",
      "\n",
      ">>> x1 = np.arange(9.0).reshape((3, 3))\n",
      ">>> x2 = np.arange(3.0)\n",
      ">>> x1 + x2\n",
      "array([[ 0.,  2.,  4.],\n",
      "       [ 3.,  5.,  7.],\n",
      "       [ 6.,  8., 10.]])\n"
     ]
    }
   ],
   "source": [
    "np.info(np.add)\n",
    "# python -c \"import numpy as np; help(np.add)\""
   ]
  },
  {
   "cell_type": "markdown",
   "id": "3add7101",
   "metadata": {},
   "source": [
    "#### 6. Create a null vector of size 10 but the fifth value which is 1 (★☆☆)"
   ]
  },
  {
   "cell_type": "code",
   "execution_count": 228,
   "id": "2edf3c42",
   "metadata": {
    "ExecuteTime": {
     "end_time": "2023-11-20T15:21:28.585106Z",
     "start_time": "2023-11-20T15:21:22.093923800Z"
    }
   },
   "outputs": [
    {
     "name": "stdout",
     "output_type": "stream",
     "text": [
      "[0. 0. 0. 0. 1. 0. 0. 0. 0. 0.]\n"
     ]
    }
   ],
   "source": [
    "_vec = np.zeros(10)\n",
    "_vec[4] = 1\n",
    "print(_vec)"
   ]
  },
  {
   "cell_type": "markdown",
   "id": "cfc46304",
   "metadata": {},
   "source": [
    "#### 7. Create a vector with values ranging from 10 to 49 (★☆☆)"
   ]
  },
  {
   "cell_type": "code",
   "execution_count": 229,
   "id": "d8b86640",
   "metadata": {
    "ExecuteTime": {
     "end_time": "2023-11-20T15:21:28.617579300Z",
     "start_time": "2023-11-20T15:21:22.149852100Z"
    }
   },
   "outputs": [
    {
     "name": "stdout",
     "output_type": "stream",
     "text": [
      "[10 11 12 13 14 15 16 17 18 19 20 21 22 23 24 25 26 27 28 29 30 31 32 33\n",
      " 34 35 36 37 38 39 40 41 42 43 44 45 46 47 48 49]\n"
     ]
    }
   ],
   "source": [
    "_vec = np.arange(10,50)\n",
    "print(_vec)"
   ]
  },
  {
   "cell_type": "markdown",
   "id": "0cc200be",
   "metadata": {},
   "source": [
    "#### 8. Reverse a vector (first element becomes last) (★☆☆)"
   ]
  },
  {
   "cell_type": "code",
   "execution_count": 230,
   "id": "ec044bb5",
   "metadata": {
    "ExecuteTime": {
     "end_time": "2023-11-20T15:21:28.667747700Z",
     "start_time": "2023-11-20T15:21:22.202004500Z"
    }
   },
   "outputs": [
    {
     "name": "stdout",
     "output_type": "stream",
     "text": [
      "[9 8 7 6 5 4 3 2 1 0]\n"
     ]
    }
   ],
   "source": [
    "_vec = np.arange(0, 10)\n",
    "_vec = _vec[::-1]\n",
    "print(_vec)"
   ]
  },
  {
   "cell_type": "markdown",
   "id": "29d9ede4",
   "metadata": {},
   "source": [
    "#### 9. Create a 3x3 matrix with values ranging from 0 to 8 (★☆☆)"
   ]
  },
  {
   "cell_type": "code",
   "execution_count": 231,
   "id": "d9e39043",
   "metadata": {
    "ExecuteTime": {
     "end_time": "2023-11-20T15:21:28.715493900Z",
     "start_time": "2023-11-20T15:21:22.255102500Z"
    }
   },
   "outputs": [
    {
     "name": "stdout",
     "output_type": "stream",
     "text": [
      "[[0 1 2]\n",
      " [3 4 5]\n",
      " [6 7 8]]\n"
     ]
    }
   ],
   "source": [
    "_vec = np.arange(9).reshape(3, 3)\n",
    "print(_vec)"
   ]
  },
  {
   "cell_type": "markdown",
   "id": "88905ceb",
   "metadata": {},
   "source": [
    "#### 10. Find indices of non-zero elements from [1,2,0,0,4,0] (★☆☆)"
   ]
  },
  {
   "cell_type": "code",
   "execution_count": 232,
   "id": "b2f3c90a",
   "metadata": {
    "ExecuteTime": {
     "end_time": "2023-11-20T15:21:28.780461100Z",
     "start_time": "2023-11-20T15:21:22.319335200Z"
    }
   },
   "outputs": [
    {
     "name": "stdout",
     "output_type": "stream",
     "text": [
      "(array([0, 1, 4], dtype=int64),)\n"
     ]
    }
   ],
   "source": [
    "nonzero_indices = np.nonzero([1,2,0,0,4,0])\n",
    "print(nonzero_indices)"
   ]
  },
  {
   "cell_type": "markdown",
   "id": "49603e91",
   "metadata": {},
   "source": [
    "#### 11. Create a 3x3 identity matrix (★☆☆)"
   ]
  },
  {
   "cell_type": "code",
   "execution_count": 233,
   "id": "5b607b5c",
   "metadata": {
    "ExecuteTime": {
     "end_time": "2023-11-20T15:21:28.849960200Z",
     "start_time": "2023-11-20T15:21:22.368253800Z"
    }
   },
   "outputs": [
    {
     "name": "stdout",
     "output_type": "stream",
     "text": [
      "[[1. 0. 0.]\n",
      " [0. 1. 0.]\n",
      " [0. 0. 1.]]\n"
     ]
    }
   ],
   "source": [
    "_matrix = np.eye(3)\n",
    "print(_matrix)"
   ]
  },
  {
   "cell_type": "markdown",
   "id": "e15c249a",
   "metadata": {},
   "source": [
    "#### 12. Create a 3x3x3 array with random values (★☆☆)"
   ]
  },
  {
   "cell_type": "code",
   "execution_count": 234,
   "id": "ab21ed50",
   "metadata": {
    "ExecuteTime": {
     "end_time": "2023-11-20T15:21:28.957630900Z",
     "start_time": "2023-11-20T15:21:22.418078900Z"
    }
   },
   "outputs": [
    {
     "name": "stdout",
     "output_type": "stream",
     "text": [
      "[[[0.91654936 0.51709253 0.38420534]\n",
      "  [0.22229865 0.53713354 0.05007132]\n",
      "  [0.71623833 0.68931169 0.44993464]]\n",
      "\n",
      " [[0.04162685 0.28041001 0.93793332]\n",
      "  [0.89727216 0.71055398 0.71274589]\n",
      "  [0.12972599 0.83107318 0.25247192]]\n",
      "\n",
      " [[0.21509709 0.11599044 0.17304646]\n",
      "  [0.78570287 0.4043457  0.68222709]\n",
      "  [0.88519314 0.68940158 0.71581599]]]\n"
     ]
    }
   ],
   "source": [
    "_arr = np.random.random((3,3,3))\n",
    "print(_arr)"
   ]
  },
  {
   "cell_type": "markdown",
   "id": "157a129c",
   "metadata": {},
   "source": [
    "#### 13. Create a 10x10 array with random values and find the minimum and maximum values (★☆☆)"
   ]
  },
  {
   "cell_type": "code",
   "execution_count": 235,
   "id": "c0066de5",
   "metadata": {
    "ExecuteTime": {
     "end_time": "2023-11-20T15:21:29.058905700Z",
     "start_time": "2023-11-20T15:21:22.458331700Z"
    }
   },
   "outputs": [
    {
     "name": "stdout",
     "output_type": "stream",
     "text": [
      "0.0022934339358087197 0.9958178752755764\n"
     ]
    }
   ],
   "source": [
    "Arr = np.random.random((10,10))\n",
    "Arrmin, Arrmax = Arr.min(), Arr.max()\n",
    "print(Arrmin, Arrmax)"
   ]
  },
  {
   "cell_type": "markdown",
   "id": "d92d7b32",
   "metadata": {},
   "source": [
    "#### 14. Create a random vector of size 30 and find the mean value (★☆☆)"
   ]
  },
  {
   "cell_type": "code",
   "execution_count": 236,
   "id": "9672d023",
   "metadata": {
    "ExecuteTime": {
     "end_time": "2023-11-20T15:21:29.163434400Z",
     "start_time": "2023-11-20T15:21:22.517726200Z"
    }
   },
   "outputs": [
    {
     "name": "stdout",
     "output_type": "stream",
     "text": [
      "0.5542987721517598\n"
     ]
    }
   ],
   "source": [
    "_vec = np.random.random(30)\n",
    "_mean = _vec.mean()\n",
    "print(_mean)"
   ]
  },
  {
   "cell_type": "markdown",
   "id": "f361efc0",
   "metadata": {},
   "source": [
    "#### 15. Create a 2d array with 1 on the border and 0 inside (★☆☆)"
   ]
  },
  {
   "cell_type": "code",
   "execution_count": 237,
   "id": "a55b6666",
   "metadata": {
    "ExecuteTime": {
     "end_time": "2023-11-20T15:21:29.271364500Z",
     "start_time": "2023-11-20T15:21:22.581361800Z"
    }
   },
   "outputs": [
    {
     "name": "stdout",
     "output_type": "stream",
     "text": [
      "[[1. 1. 1. 1. 1. 1. 1. 1. 1. 1.]\n",
      " [1. 0. 0. 0. 0. 0. 0. 0. 0. 1.]\n",
      " [1. 0. 0. 0. 0. 0. 0. 0. 0. 1.]\n",
      " [1. 0. 0. 0. 0. 0. 0. 0. 0. 1.]\n",
      " [1. 0. 0. 0. 0. 0. 0. 0. 0. 1.]\n",
      " [1. 0. 0. 0. 0. 0. 0. 0. 0. 1.]\n",
      " [1. 0. 0. 0. 0. 0. 0. 0. 0. 1.]\n",
      " [1. 0. 0. 0. 0. 0. 0. 0. 0. 1.]\n",
      " [1. 0. 0. 0. 0. 0. 0. 0. 0. 1.]\n",
      " [1. 1. 1. 1. 1. 1. 1. 1. 1. 1.]]\n"
     ]
    }
   ],
   "source": [
    "_arr = np.ones((10,10))\n",
    "_arr[1:-1,1:-1] = 0\n",
    "print(_arr)"
   ]
  },
  {
   "cell_type": "markdown",
   "id": "475808cb",
   "metadata": {},
   "source": [
    "#### 16. How to add a border (filled with 0's) around an existing array? (★☆☆)"
   ]
  },
  {
   "cell_type": "code",
   "execution_count": 238,
   "id": "b2df3a8a",
   "metadata": {
    "ExecuteTime": {
     "end_time": "2023-11-20T15:21:29.349156900Z",
     "start_time": "2023-11-20T15:21:22.645597100Z"
    }
   },
   "outputs": [
    {
     "name": "stdout",
     "output_type": "stream",
     "text": [
      "[[0. 0. 0. 0. 0. 0. 0.]\n",
      " [0. 1. 1. 1. 1. 1. 0.]\n",
      " [0. 1. 1. 1. 1. 1. 0.]\n",
      " [0. 1. 1. 1. 1. 1. 0.]\n",
      " [0. 1. 1. 1. 1. 1. 0.]\n",
      " [0. 1. 1. 1. 1. 1. 0.]\n",
      " [0. 0. 0. 0. 0. 0. 0.]]\n"
     ]
    }
   ],
   "source": [
    "_arr = np.ones((5, 5))\n",
    "_arr = np.pad(_arr, pad_width = 1, mode = 'constant', constant_values = 0)\n",
    "print(_arr)"
   ]
  },
  {
   "cell_type": "markdown",
   "id": "1af07d85",
   "metadata": {},
   "source": [
    "#### 17. What is the result of the following expression? (★☆☆)\n",
    "```python\n",
    "0 * np.nan\n",
    "np.nan == np.nan\n",
    "np.inf > np.nan\n",
    "np.nan - np.nan\n",
    "np.nan in set([np.nan])\n",
    "0.3 == 3 * 0.1\n",
    "```"
   ]
  },
  {
   "cell_type": "code",
   "execution_count": 239,
   "id": "109cf327",
   "metadata": {
    "ExecuteTime": {
     "end_time": "2023-11-20T15:21:30.148655300Z",
     "start_time": "2023-11-20T15:21:22.712006Z"
    }
   },
   "outputs": [
    {
     "name": "stdout",
     "output_type": "stream",
     "text": [
      "nan\n",
      "False\n",
      "False\n",
      "nan\n",
      "True\n",
      "False\n"
     ]
    }
   ],
   "source": [
    "print(0 * np.nan)\n",
    "print(np.nan == np.nan)\n",
    "print(np.inf > np.nan)\n",
    "print(np.nan - np.nan)\n",
    "print(np.nan in set([np.nan]))\n",
    "print(0.3 == 3 * 0.1)"
   ]
  },
  {
   "cell_type": "markdown",
   "id": "6a235316",
   "metadata": {},
   "source": [
    "#### 18. Create a 5x5 matrix with values 1,2,3,4 just below the diagonal (★☆☆)"
   ]
  },
  {
   "cell_type": "code",
   "execution_count": 240,
   "id": "f2e6cfa6",
   "metadata": {
    "ExecuteTime": {
     "end_time": "2023-11-20T15:21:30.251126200Z",
     "start_time": "2023-11-20T15:21:22.768595700Z"
    }
   },
   "outputs": [
    {
     "name": "stdout",
     "output_type": "stream",
     "text": [
      "[[0 0 0 0 0]\n",
      " [1 0 0 0 0]\n",
      " [0 2 0 0 0]\n",
      " [0 0 3 0 0]\n",
      " [0 0 0 4 0]]\n"
     ]
    }
   ],
   "source": [
    "_matrix = np.diag(1 + np.arange(4),k = -1)\n",
    "print(_matrix)"
   ]
  },
  {
   "cell_type": "markdown",
   "id": "25362e98",
   "metadata": {},
   "source": [
    "#### 19. Create a 8x8 matrix and fill it with a checkerboard pattern (★☆☆)"
   ]
  },
  {
   "cell_type": "code",
   "execution_count": 241,
   "id": "cabdf298",
   "metadata": {
    "ExecuteTime": {
     "end_time": "2023-11-20T15:21:30.282978700Z",
     "start_time": "2023-11-20T15:21:22.812492600Z"
    }
   },
   "outputs": [
    {
     "name": "stdout",
     "output_type": "stream",
     "text": [
      "[[0 1 0 1 0 1 0 1]\n",
      " [1 0 1 0 1 0 1 0]\n",
      " [0 1 0 1 0 1 0 1]\n",
      " [1 0 1 0 1 0 1 0]\n",
      " [0 1 0 1 0 1 0 1]\n",
      " [1 0 1 0 1 0 1 0]\n",
      " [0 1 0 1 0 1 0 1]\n",
      " [1 0 1 0 1 0 1 0]]\n"
     ]
    }
   ],
   "source": [
    "_matrix = np.zeros((8, 8), dtype = int)\n",
    "_matrix[1::2,::2] = 1\n",
    "_matrix[::2,1::2] = 1\n",
    "print(_matrix)"
   ]
  },
  {
   "cell_type": "markdown",
   "id": "6431e977",
   "metadata": {},
   "source": [
    "#### 20. Consider a (6,7,8) shape array, what is the index (x,y,z) of the 100th element? (★☆☆)"
   ]
  },
  {
   "cell_type": "code",
   "execution_count": 242,
   "id": "de8b0245",
   "metadata": {
    "ExecuteTime": {
     "end_time": "2023-11-20T15:21:30.297669700Z",
     "start_time": "2023-11-20T15:21:22.858817500Z"
    }
   },
   "outputs": [
    {
     "name": "stdout",
     "output_type": "stream",
     "text": [
      "(1, 5, 3)\n"
     ]
    }
   ],
   "source": [
    "print(np.unravel_index(99,(6,7,8)))"
   ]
  },
  {
   "cell_type": "markdown",
   "id": "31abe6fe",
   "metadata": {},
   "source": [
    "#### 21. Create a checkerboard 8x8 matrix using the tile function (★☆☆)"
   ]
  },
  {
   "cell_type": "code",
   "execution_count": 243,
   "id": "6da26fd3",
   "metadata": {
    "ExecuteTime": {
     "end_time": "2023-11-20T15:21:30.365994100Z",
     "start_time": "2023-11-20T15:21:22.909350300Z"
    }
   },
   "outputs": [
    {
     "name": "stdout",
     "output_type": "stream",
     "text": [
      "[[0 1 0 1 0 1 0 1]\n",
      " [1 0 1 0 1 0 1 0]\n",
      " [0 1 0 1 0 1 0 1]\n",
      " [1 0 1 0 1 0 1 0]\n",
      " [0 1 0 1 0 1 0 1]\n",
      " [1 0 1 0 1 0 1 0]\n",
      " [0 1 0 1 0 1 0 1]\n",
      " [1 0 1 0 1 0 1 0]]\n"
     ]
    }
   ],
   "source": [
    "_arr = np.tile( np.array([[0,1],[1,0]]), (4,4))\n",
    "print(_arr)"
   ]
  },
  {
   "cell_type": "markdown",
   "id": "fd88b3f4",
   "metadata": {},
   "source": [
    "#### 22. Normalize a 5x5 random matrix (★☆☆)"
   ]
  },
  {
   "cell_type": "code",
   "execution_count": 244,
   "id": "ee6ced60",
   "metadata": {
    "ExecuteTime": {
     "end_time": "2023-11-20T15:21:30.405010Z",
     "start_time": "2023-11-20T15:21:22.955464700Z"
    }
   },
   "outputs": [
    {
     "name": "stdout",
     "output_type": "stream",
     "text": [
      "[[-1.65266069  0.30016094 -0.96649553 -1.2547215   0.31219333]\n",
      " [-0.05013683  1.65100642  1.4376492   0.95357416 -0.98222696]\n",
      " [ 1.03928223 -1.62686494 -0.45695701 -0.13108326 -0.51298495]\n",
      " [-1.2616789   0.06417946  0.71730978 -0.04510177  0.92421708]\n",
      " [-0.74773938  1.62883086  0.79107578 -1.03346946  0.90264194]]\n"
     ]
    }
   ],
   "source": [
    "_matrix = np.random.random((5,5))\n",
    "_matrix = (_matrix - np.mean(_matrix)) / (np.std(_matrix))\n",
    "print(_matrix)"
   ]
  },
  {
   "cell_type": "markdown",
   "id": "464d8590",
   "metadata": {},
   "source": [
    "#### 23. Create a custom dtype that describes a color as four unsigned bytes (RGBA) (★☆☆)"
   ]
  },
  {
   "cell_type": "code",
   "execution_count": 245,
   "id": "e2f9cfc6",
   "metadata": {
    "ExecuteTime": {
     "end_time": "2023-11-20T15:21:30.444108400Z",
     "start_time": "2023-11-20T15:21:23.013098500Z"
    }
   },
   "outputs": [],
   "source": [
    "_color = np.dtype([(\"r\", np.ubyte), (\"g\", np.ubyte), (\"b\", np.ubyte), (\"a\", np.ubyte)])"
   ]
  },
  {
   "cell_type": "markdown",
   "id": "06c63bb3",
   "metadata": {},
   "source": [
    "#### 24. Multiply a 5x3 matrix by a 3x2 matrix (real matrix product) (★☆☆)"
   ]
  },
  {
   "cell_type": "code",
   "execution_count": 246,
   "id": "9fc0d553",
   "metadata": {
    "ExecuteTime": {
     "end_time": "2023-11-20T15:21:30.479975900Z",
     "start_time": "2023-11-20T15:21:23.068030500Z"
    }
   },
   "outputs": [
    {
     "name": "stdout",
     "output_type": "stream",
     "text": [
      "[[3. 3.]\n",
      " [3. 3.]\n",
      " [3. 3.]\n",
      " [3. 3.]\n",
      " [3. 3.]]\n"
     ]
    }
   ],
   "source": [
    "_matrix = np.dot(np.ones((5,3)), np.ones((3,2)))\n",
    "print(_matrix)"
   ]
  },
  {
   "cell_type": "markdown",
   "id": "76fa6285",
   "metadata": {},
   "source": [
    "#### 25. Given a 1D array, negate all elements which are between 3 and 8, in place. (★☆☆)"
   ]
  },
  {
   "cell_type": "code",
   "execution_count": 247,
   "id": "0e25eca7",
   "metadata": {
    "ExecuteTime": {
     "end_time": "2023-11-20T15:21:30.516690900Z",
     "start_time": "2023-11-20T15:21:23.105007700Z"
    }
   },
   "outputs": [
    {
     "name": "stdout",
     "output_type": "stream",
     "text": [
      "[ 0  1  2  3 -4 -5 -6 -7  8  9 10]\n"
     ]
    }
   ],
   "source": [
    "_arr = np.arange(11)\n",
    "_arr[(3 < _arr) & (_arr < 8)] *= -1\n",
    "print(_arr)"
   ]
  },
  {
   "cell_type": "markdown",
   "id": "930ed8bb",
   "metadata": {},
   "source": [
    "#### 26. What is the output of the following script? (★☆☆)\n",
    "```python\n",
    "# Author: Jake VanderPlas\n",
    "\n",
    "print(sum(range(5),-1))\n",
    "from numpy import *\n",
    "print(sum(range(5),-1))\n",
    "```"
   ]
  },
  {
   "cell_type": "code",
   "execution_count": 248,
   "id": "f02eedba",
   "metadata": {
    "ExecuteTime": {
     "end_time": "2023-11-20T15:21:30.534219800Z",
     "start_time": "2023-11-20T15:21:23.153570300Z"
    }
   },
   "outputs": [
    {
     "ename": "TypeError",
     "evalue": "'numpy.ndarray' object is not callable",
     "output_type": "error",
     "traceback": [
      "\u001B[1;31m---------------------------------------------------------------------------\u001B[0m",
      "\u001B[1;31mTypeError\u001B[0m                                 Traceback (most recent call last)",
      "Cell \u001B[1;32mIn[248], line 1\u001B[0m\n\u001B[1;32m----> 1\u001B[0m \u001B[38;5;28mprint\u001B[39m(\u001B[38;5;28;43msum\u001B[39;49m\u001B[43m(\u001B[49m\u001B[38;5;28;43mrange\u001B[39;49m\u001B[43m(\u001B[49m\u001B[38;5;241;43m5\u001B[39;49m\u001B[43m)\u001B[49m\u001B[43m,\u001B[49m\u001B[38;5;241;43m-\u001B[39;49m\u001B[38;5;241;43m1\u001B[39;49m\u001B[43m)\u001B[49m)\n\u001B[0;32m      2\u001B[0m \u001B[38;5;28;01mfrom\u001B[39;00m \u001B[38;5;21;01mnumpy\u001B[39;00m \u001B[38;5;28;01mimport\u001B[39;00m \u001B[38;5;241m*\u001B[39m\n\u001B[0;32m      3\u001B[0m \u001B[38;5;28mprint\u001B[39m(\u001B[38;5;28msum\u001B[39m(\u001B[38;5;28mrange\u001B[39m(\u001B[38;5;241m5\u001B[39m),\u001B[38;5;241m-\u001B[39m\u001B[38;5;241m1\u001B[39m))\n",
      "\u001B[1;31mTypeError\u001B[0m: 'numpy.ndarray' object is not callable"
     ]
    }
   ],
   "source": [
    "print(sum(range(5),-1))\n",
    "from numpy import *\n",
    "print(sum(range(5),-1))"
   ]
  },
  {
   "cell_type": "markdown",
   "id": "177120e7",
   "metadata": {},
   "source": [
    "#### 27. Consider an integer vector Z, which of these expressions are legal? (★☆☆)\n",
    "```python\n",
    "Z**Z\n",
    "2 << Z >> 2\n",
    "Z <- Z\n",
    "1j*Z\n",
    "Z/1/1\n",
    "Z<Z>Z\n",
    "```"
   ]
  },
  {
   "cell_type": "code",
   "execution_count": 248,
   "id": "86d6cbef",
   "metadata": {
    "ExecuteTime": {
     "end_time": "2023-11-20T15:21:30.597528Z",
     "start_time": "2023-11-20T15:21:23.210079Z"
    }
   },
   "outputs": [],
   "source": []
  },
  {
   "cell_type": "markdown",
   "id": "a6eaf0e8",
   "metadata": {},
   "source": [
    "#### 28. What are the result of the following expressions? (★☆☆)\n",
    "```python\n",
    "np.array(0) / np.array(0)\n",
    "np.array(0) // np.array(0)\n",
    "np.array([np.nan]).astype(int).astype(float)\n",
    "```"
   ]
  },
  {
   "cell_type": "code",
   "execution_count": 249,
   "id": "93684068",
   "metadata": {
    "ExecuteTime": {
     "end_time": "2023-11-20T15:21:30.661788200Z",
     "start_time": "2023-11-20T15:21:23.250767300Z"
    }
   },
   "outputs": [
    {
     "name": "stdout",
     "output_type": "stream",
     "text": [
      "nan\n",
      "0\n",
      "[-2.14748365e+09]\n"
     ]
    }
   ],
   "source": [
    "print(np.array(0) / np.array(0))\n",
    "print(np.array(0) // np.array(0))\n",
    "print(np.array([np.nan]).astype(int).astype(float))"
   ]
  },
  {
   "cell_type": "markdown",
   "id": "524b65f8",
   "metadata": {},
   "source": [
    "#### 29. How to round away from zero a float array ? (★☆☆)"
   ]
  },
  {
   "cell_type": "code",
   "execution_count": 250,
   "id": "61fbb78e",
   "metadata": {
    "ExecuteTime": {
     "end_time": "2023-11-20T15:21:30.755359700Z",
     "start_time": "2023-11-20T15:21:23.301216800Z"
    }
   },
   "outputs": [
    {
     "name": "stdout",
     "output_type": "stream",
     "text": [
      "[-6. -7. -9.  2. -6. -6. 10. -1.  8. -5.]\n"
     ]
    }
   ],
   "source": [
    "Z = np.random.uniform(-10,+10,10)\n",
    "print(np.copysign(np.ceil(np.abs(Z)), Z))"
   ]
  },
  {
   "cell_type": "markdown",
   "id": "8dc40752",
   "metadata": {},
   "source": [
    "#### 30. How to find common values between two arrays? (★☆☆)"
   ]
  },
  {
   "cell_type": "code",
   "execution_count": 251,
   "id": "54399cbe",
   "metadata": {
    "ExecuteTime": {
     "end_time": "2023-11-20T15:21:30.816573900Z",
     "start_time": "2023-11-20T15:21:23.345492300Z"
    }
   },
   "outputs": [
    {
     "name": "stdout",
     "output_type": "stream",
     "text": [
      "[0 1 4 5 6 9]\n"
     ]
    }
   ],
   "source": [
    "Z1 = np.random.randint(0,10,10)\n",
    "Z2 = np.random.randint(0,10,10)\n",
    "print(np.intersect1d(Z1,Z2))"
   ]
  },
  {
   "cell_type": "markdown",
   "id": "b7f38e21",
   "metadata": {},
   "source": [
    "#### 31. How to ignore all numpy warnings (not recommended)? (★☆☆)"
   ]
  },
  {
   "cell_type": "code",
   "execution_count": 252,
   "id": "2ca3289c",
   "metadata": {
    "ExecuteTime": {
     "end_time": "2023-11-20T15:21:30.848800500Z",
     "start_time": "2023-11-20T15:21:23.400678800Z"
    }
   },
   "outputs": [],
   "source": [
    "defaults = np.seterr(all = \"ignore\")\n",
    "Z = np.ones(1) / 0"
   ]
  },
  {
   "cell_type": "markdown",
   "id": "2d850aab",
   "metadata": {},
   "source": [
    "#### 32. Is the following expressions true? (★☆☆)\n",
    "```python\n",
    "np.sqrt(-1) == np.emath.sqrt(-1)\n",
    "```"
   ]
  },
  {
   "cell_type": "code",
   "execution_count": 253,
   "id": "5c83ffce",
   "metadata": {
    "ExecuteTime": {
     "end_time": "2023-11-20T15:21:30.912778300Z",
     "start_time": "2023-11-20T15:21:23.451317500Z"
    }
   },
   "outputs": [
    {
     "name": "stdout",
     "output_type": "stream",
     "text": [
      "False\n"
     ]
    }
   ],
   "source": [
    "print(np.sqrt(-1) == np.emath.sqrt(-1))"
   ]
  },
  {
   "cell_type": "markdown",
   "id": "5c4a556f",
   "metadata": {},
   "source": [
    "#### 33. How to get the dates of yesterday, today and tomorrow? (★☆☆)"
   ]
  },
  {
   "cell_type": "code",
   "execution_count": 254,
   "id": "c3b683a0",
   "metadata": {
    "ExecuteTime": {
     "end_time": "2023-11-20T15:21:30.967844100Z",
     "start_time": "2023-11-20T15:21:23.503539Z"
    }
   },
   "outputs": [],
   "source": [
    "yesterday = np.datetime64('today') - np.timedelta64(1)\n",
    "today = np.datetime64('today')\n",
    "tomorrow = np.datetime64('today') + np.timedelta64(1)"
   ]
  },
  {
   "cell_type": "markdown",
   "id": "453cdd64",
   "metadata": {},
   "source": [
    "#### 34. How to get all the dates corresponding to the month of July 2016? (★★☆)"
   ]
  },
  {
   "cell_type": "code",
   "execution_count": 255,
   "id": "4ba4d37c",
   "metadata": {
    "ExecuteTime": {
     "end_time": "2023-11-20T15:21:31.024397500Z",
     "start_time": "2023-11-20T15:21:23.548993Z"
    }
   },
   "outputs": [
    {
     "name": "stdout",
     "output_type": "stream",
     "text": [
      "['2016-07-01' '2016-07-02' '2016-07-03' '2016-07-04' '2016-07-05'\n",
      " '2016-07-06' '2016-07-07' '2016-07-08' '2016-07-09' '2016-07-10'\n",
      " '2016-07-11' '2016-07-12' '2016-07-13' '2016-07-14' '2016-07-15'\n",
      " '2016-07-16' '2016-07-17' '2016-07-18' '2016-07-19' '2016-07-20'\n",
      " '2016-07-21' '2016-07-22' '2016-07-23' '2016-07-24' '2016-07-25'\n",
      " '2016-07-26' '2016-07-27' '2016-07-28' '2016-07-29' '2016-07-30'\n",
      " '2016-07-31']\n"
     ]
    }
   ],
   "source": [
    "_dates = np.arange('2016-07', '2016-08', dtype = 'datetime64[D]')\n",
    "print(_dates)"
   ]
  },
  {
   "cell_type": "markdown",
   "id": "52667b6e",
   "metadata": {},
   "source": [
    "#### 35. How to compute ((A+B)*(-A/2)) in place (without copy)? (★★☆)"
   ]
  },
  {
   "cell_type": "code",
   "execution_count": 256,
   "id": "e6e7c030",
   "metadata": {
    "ExecuteTime": {
     "end_time": "2023-11-20T15:21:31.092954900Z",
     "start_time": "2023-11-20T15:21:23.593768300Z"
    }
   },
   "outputs": [
    {
     "name": "stdout",
     "output_type": "stream",
     "text": [
      "[-1.5]\n"
     ]
    }
   ],
   "source": [
    "A = np.ones(1) * 1\n",
    "B = np.ones(1) * 2\n",
    "np.add(A, B, out = B)\n",
    "np.divide(A, 2, out = A)\n",
    "np.negative(A, out = A)\n",
    "np.multiply(A, B, out = A)\n",
    "\n",
    "print(A)"
   ]
  },
  {
   "cell_type": "markdown",
   "id": "9a8f3738",
   "metadata": {},
   "source": [
    "#### 36. Extract the integer part of a random array of positive numbers using 4 different methods (★★☆)"
   ]
  },
  {
   "cell_type": "code",
   "execution_count": 257,
   "id": "368a801a",
   "metadata": {
    "ExecuteTime": {
     "end_time": "2023-11-20T15:21:31.164608200Z",
     "start_time": "2023-11-20T15:21:23.645085600Z"
    }
   },
   "outputs": [
    {
     "name": "stdout",
     "output_type": "stream",
     "text": [
      "[7. 2. 2. 3. 2. 4. 1. 5. 4. 0.]\n",
      "[7. 2. 2. 3. 2. 4. 1. 5. 4. 0.]\n",
      "[7. 2. 2. 3. 2. 4. 1. 5. 4. 0.]\n",
      "[7 2 2 3 2 4 1 5 4 0]\n",
      "[7. 2. 2. 3. 2. 4. 1. 5. 4. 0.]\n"
     ]
    }
   ],
   "source": [
    "_arr = np.random.uniform(0,10,10)\n",
    "\n",
    "print(np.floor(_arr))\n",
    "print(_arr - _arr % 1)\n",
    "print(np.trunc(_arr))\n",
    "print(_arr.astype(int))\n",
    "print(_arr // 1)"
   ]
  },
  {
   "cell_type": "markdown",
   "id": "cab1eed1",
   "metadata": {},
   "source": [
    "#### 37. Create a 5x5 matrix with row values ranging from 0 to 4 (★★☆)"
   ]
  },
  {
   "cell_type": "code",
   "execution_count": 258,
   "id": "f1b579ba",
   "metadata": {
    "ExecuteTime": {
     "end_time": "2023-11-20T15:21:31.229790600Z",
     "start_time": "2023-11-20T15:21:23.701149Z"
    }
   },
   "outputs": [
    {
     "name": "stdout",
     "output_type": "stream",
     "text": [
      "[[0. 1. 2. 3. 4.]\n",
      " [0. 1. 2. 3. 4.]\n",
      " [0. 1. 2. 3. 4.]\n",
      " [0. 1. 2. 3. 4.]\n",
      " [0. 1. 2. 3. 4.]]\n"
     ]
    }
   ],
   "source": [
    "_matrix = np.zeros((5,5))\n",
    "_matrix += np.arange(5)\n",
    "print(_matrix)"
   ]
  },
  {
   "cell_type": "markdown",
   "id": "cd0ce6b1",
   "metadata": {},
   "source": [
    "#### 38. Consider a generator function that generates 10 integers and use it to build an array (★☆☆)"
   ]
  },
  {
   "cell_type": "code",
   "execution_count": 259,
   "id": "aab193a6",
   "metadata": {
    "ExecuteTime": {
     "end_time": "2023-11-20T15:21:31.305573600Z",
     "start_time": "2023-11-20T15:21:23.756444300Z"
    }
   },
   "outputs": [
    {
     "name": "stdout",
     "output_type": "stream",
     "text": [
      "[0. 1. 2. 3. 4. 5. 6. 7. 8. 9.]\n"
     ]
    }
   ],
   "source": [
    "def generate():\n",
    "    for x in range(10):\n",
    "        yield x\n",
    "_arr = np.fromiter(generate(),dtype = float,count = -1)\n",
    "print(_arr)"
   ]
  },
  {
   "cell_type": "markdown",
   "id": "c4c942d1",
   "metadata": {},
   "source": [
    "#### 39. Create a vector of size 10 with values ranging from 0 to 1, both excluded (★★☆)"
   ]
  },
  {
   "cell_type": "code",
   "execution_count": 260,
   "id": "e42eaa4b",
   "metadata": {
    "ExecuteTime": {
     "end_time": "2023-11-20T15:21:31.380749400Z",
     "start_time": "2023-11-20T15:21:23.811833500Z"
    }
   },
   "outputs": [
    {
     "name": "stdout",
     "output_type": "stream",
     "text": [
      "[0.09090909 0.18181818 0.27272727 0.36363636 0.45454545 0.54545455\n",
      " 0.63636364 0.72727273 0.81818182 0.90909091]\n"
     ]
    }
   ],
   "source": [
    "_vec = np.linspace(0, 1, 11,endpoint = False)[1:]\n",
    "print(_vec)"
   ]
  },
  {
   "cell_type": "markdown",
   "id": "9b3cb8d2",
   "metadata": {},
   "source": [
    "#### 40. Create a random vector of size 10 and sort it (★★☆)"
   ]
  },
  {
   "cell_type": "code",
   "execution_count": 261,
   "id": "37d2b341",
   "metadata": {
    "ExecuteTime": {
     "end_time": "2023-11-20T15:21:31.418343900Z",
     "start_time": "2023-11-20T15:21:23.861601800Z"
    }
   },
   "outputs": [
    {
     "name": "stdout",
     "output_type": "stream",
     "text": [
      "[0.07450424 0.15538099 0.18099001 0.26663224 0.36786717 0.39089259\n",
      " 0.44687374 0.58152075 0.58609988 0.64991853]\n"
     ]
    }
   ],
   "source": [
    "_vec = np.random.random(10)\n",
    "_vec.sort()\n",
    "print(_vec)"
   ]
  },
  {
   "cell_type": "markdown",
   "id": "2facfddc",
   "metadata": {},
   "source": [
    "#### 41. How to sum a small array faster than np.sum? (★★☆)"
   ]
  },
  {
   "cell_type": "code",
   "execution_count": 262,
   "id": "4bb8864f",
   "metadata": {
    "ExecuteTime": {
     "end_time": "2023-11-20T15:21:31.478890300Z",
     "start_time": "2023-11-20T15:21:23.907082800Z"
    }
   },
   "outputs": [
    {
     "data": {
      "text/plain": "45"
     },
     "execution_count": 262,
     "metadata": {},
     "output_type": "execute_result"
    }
   ],
   "source": [
    "_arr = np.arange(10)\n",
    "np.add.reduce(_arr)"
   ]
  },
  {
   "cell_type": "markdown",
   "id": "539cd2a5",
   "metadata": {},
   "source": [
    "#### 42. Consider two random array A and B, check if they are equal (★★☆)"
   ]
  },
  {
   "cell_type": "code",
   "execution_count": 263,
   "id": "5246d7bf",
   "metadata": {
    "ExecuteTime": {
     "end_time": "2023-11-20T15:21:31.478890300Z",
     "start_time": "2023-11-20T15:21:23.935243300Z"
    }
   },
   "outputs": [
    {
     "name": "stdout",
     "output_type": "stream",
     "text": [
      "False\n"
     ]
    }
   ],
   "source": [
    "A = np.random.randint(0, 2, 5)\n",
    "B = np.random.randint(0, 2, 5)\n",
    "\n",
    "equal = np.array_equal(A, B)\n",
    "print(equal)"
   ]
  },
  {
   "cell_type": "markdown",
   "id": "448f8274",
   "metadata": {},
   "source": [
    "#### 43. Make an array immutable (read-only) (★★☆)"
   ]
  },
  {
   "cell_type": "code",
   "execution_count": 264,
   "id": "7cf2b3dd",
   "metadata": {
    "ExecuteTime": {
     "end_time": "2023-11-20T15:21:31.538142100Z",
     "start_time": "2023-11-20T15:21:23.962253700Z"
    }
   },
   "outputs": [
    {
     "name": "stdout",
     "output_type": "stream",
     "text": [
      "[0. 0. 0. 0. 0. 0. 0. 0. 0. 0.]\n"
     ]
    }
   ],
   "source": [
    "_arr = np.zeros(10)\n",
    "_arr.flags.writeable = False\n",
    "#_arr[0] = 1 # will be an error\n",
    "print(_arr)"
   ]
  },
  {
   "cell_type": "markdown",
   "id": "d7b7aaf3",
   "metadata": {},
   "source": [
    "#### 44. Consider a random 10x2 matrix representing cartesian coordinates, convert them to polar coordinates (★★☆)"
   ]
  },
  {
   "cell_type": "code",
   "execution_count": 265,
   "id": "e2337585",
   "metadata": {
    "ExecuteTime": {
     "end_time": "2023-11-20T15:21:31.582078400Z",
     "start_time": "2023-11-20T15:21:23.987187700Z"
    }
   },
   "outputs": [
    {
     "name": "stdout",
     "output_type": "stream",
     "text": [
      "[0.89292665 0.7772815  0.83504011 0.48030877 1.20440835 1.00577441\n",
      " 0.90054484 0.57978435 0.47992618 0.93216013]\n",
      "[0.44948599 0.4785709  0.08667386 0.42374007 0.83766154 1.20142317\n",
      " 0.2577257  1.39518878 1.25984693 1.53013069]\n"
     ]
    }
   ],
   "source": [
    "_matrix = np.random.random((10,2))\n",
    "X,Y = _matrix[:,0], _matrix[:,1]\n",
    "R = np.sqrt(X ** 2 + Y ** 2)\n",
    "T = np.arctan2(Y, X)\n",
    "print(R)\n",
    "print(T)"
   ]
  },
  {
   "cell_type": "markdown",
   "id": "a556027a",
   "metadata": {},
   "source": [
    "#### 45. Create random vector of size 10 and replace the maximum value by 0 (★★☆)"
   ]
  },
  {
   "cell_type": "code",
   "execution_count": 266,
   "id": "9e07cb87",
   "metadata": {
    "ExecuteTime": {
     "end_time": "2023-11-20T15:21:31.613354800Z",
     "start_time": "2023-11-20T15:21:24.011725300Z"
    }
   },
   "outputs": [
    {
     "name": "stdout",
     "output_type": "stream",
     "text": [
      "[0.13307789 0.28316337 0.77305018 0.33679617 0.6197918  0.50039496\n",
      " 0.82873721 0.         0.15856063 0.13689406]\n"
     ]
    }
   ],
   "source": [
    "_vec = np.random.random(10)\n",
    "_vec[_vec.argmax()] = 0\n",
    "print(_vec)"
   ]
  },
  {
   "cell_type": "markdown",
   "id": "004f3da1",
   "metadata": {},
   "source": [
    "#### 46. Create a structured array with `x` and `y` coordinates covering the [0,1]x[0,1] area (★★☆)"
   ]
  },
  {
   "cell_type": "code",
   "execution_count": 267,
   "id": "b3824741",
   "metadata": {
    "ExecuteTime": {
     "end_time": "2023-11-20T15:21:31.638504200Z",
     "start_time": "2023-11-20T15:21:24.045036500Z"
    }
   },
   "outputs": [
    {
     "name": "stdout",
     "output_type": "stream",
     "text": [
      "[[(0.  , 0.  ) (0.25, 0.  ) (0.5 , 0.  ) (0.75, 0.  ) (1.  , 0.  )]\n",
      " [(0.  , 0.25) (0.25, 0.25) (0.5 , 0.25) (0.75, 0.25) (1.  , 0.25)]\n",
      " [(0.  , 0.5 ) (0.25, 0.5 ) (0.5 , 0.5 ) (0.75, 0.5 ) (1.  , 0.5 )]\n",
      " [(0.  , 0.75) (0.25, 0.75) (0.5 , 0.75) (0.75, 0.75) (1.  , 0.75)]\n",
      " [(0.  , 1.  ) (0.25, 1.  ) (0.5 , 1.  ) (0.75, 1.  ) (1.  , 1.  )]]\n"
     ]
    }
   ],
   "source": [
    "_arr = np.zeros((5,5), [('x', float), ('y', float)])\n",
    "_arr['x'], _arr['y'] = np.meshgrid(np.linspace(0, 1, 5), np.linspace(0, 1, 5))\n",
    "print(_arr)"
   ]
  },
  {
   "cell_type": "markdown",
   "id": "1c0adc0d",
   "metadata": {},
   "source": [
    "#### 47. Given two arrays, X and Y, construct the Cauchy matrix C (Cij =1/(xi - yj)) (★★☆)"
   ]
  },
  {
   "cell_type": "code",
   "execution_count": 268,
   "id": "01b3bbb7",
   "metadata": {
    "ExecuteTime": {
     "end_time": "2023-11-20T15:21:31.704779200Z",
     "start_time": "2023-11-20T15:21:24.070673400Z"
    }
   },
   "outputs": [
    {
     "name": "stdout",
     "output_type": "stream",
     "text": [
      "3638.1636371179666\n"
     ]
    }
   ],
   "source": [
    "X = np.arange(8)\n",
    "Y = X + 0.5\n",
    "C = 1.0 / np.subtract.outer(X, Y)\n",
    "print(np.linalg.det(C))"
   ]
  },
  {
   "cell_type": "markdown",
   "id": "c8a2f65a",
   "metadata": {},
   "source": [
    "#### 48. Print the minimum and maximum representable value for each numpy scalar type (★★☆)"
   ]
  },
  {
   "cell_type": "code",
   "execution_count": 269,
   "id": "35d844d6",
   "metadata": {
    "ExecuteTime": {
     "end_time": "2023-11-20T15:21:31.763993400Z",
     "start_time": "2023-11-20T15:21:24.097196200Z"
    }
   },
   "outputs": [
    {
     "name": "stdout",
     "output_type": "stream",
     "text": [
      "-128\n",
      "127\n",
      "-2147483648\n",
      "2147483647\n",
      "-9223372036854775808\n",
      "9223372036854775807\n",
      "-3.4028235e+38\n",
      "3.4028235e+38\n",
      "1.1920929e-07\n",
      "-1.7976931348623157e+308\n",
      "1.7976931348623157e+308\n",
      "2.220446049250313e-16\n"
     ]
    }
   ],
   "source": [
    "for dtype in [np.int8, np.int32, np.int64]:\n",
    "   print(np.iinfo(dtype).min)\n",
    "   print(np.iinfo(dtype).max)\n",
    "   \n",
    "for dtype in [np.float32, np.float64]:\n",
    "   print(np.finfo(dtype).min)\n",
    "   print(np.finfo(dtype).max)\n",
    "   print(np.finfo(dtype).eps)"
   ]
  },
  {
   "cell_type": "markdown",
   "id": "11727a69",
   "metadata": {},
   "source": [
    "#### 49. How to print all the values of an array? (★★☆)"
   ]
  },
  {
   "cell_type": "code",
   "execution_count": 270,
   "id": "47e98473",
   "metadata": {
    "ExecuteTime": {
     "end_time": "2023-11-20T15:21:31.819907900Z",
     "start_time": "2023-11-20T15:21:24.145831700Z"
    }
   },
   "outputs": [
    {
     "name": "stdout",
     "output_type": "stream",
     "text": [
      "[[0. 0. 0. 0. 0. 0. 0. 0. 0. 0. 0. 0. 0. 0. 0. 0. 0. 0. 0. 0. 0. 0. 0. 0.\n",
      "  0. 0. 0. 0. 0. 0. 0. 0. 0. 0. 0. 0. 0. 0. 0. 0.]\n",
      " [0. 0. 0. 0. 0. 0. 0. 0. 0. 0. 0. 0. 0. 0. 0. 0. 0. 0. 0. 0. 0. 0. 0. 0.\n",
      "  0. 0. 0. 0. 0. 0. 0. 0. 0. 0. 0. 0. 0. 0. 0. 0.]\n",
      " [0. 0. 0. 0. 0. 0. 0. 0. 0. 0. 0. 0. 0. 0. 0. 0. 0. 0. 0. 0. 0. 0. 0. 0.\n",
      "  0. 0. 0. 0. 0. 0. 0. 0. 0. 0. 0. 0. 0. 0. 0. 0.]\n",
      " [0. 0. 0. 0. 0. 0. 0. 0. 0. 0. 0. 0. 0. 0. 0. 0. 0. 0. 0. 0. 0. 0. 0. 0.\n",
      "  0. 0. 0. 0. 0. 0. 0. 0. 0. 0. 0. 0. 0. 0. 0. 0.]\n",
      " [0. 0. 0. 0. 0. 0. 0. 0. 0. 0. 0. 0. 0. 0. 0. 0. 0. 0. 0. 0. 0. 0. 0. 0.\n",
      "  0. 0. 0. 0. 0. 0. 0. 0. 0. 0. 0. 0. 0. 0. 0. 0.]\n",
      " [0. 0. 0. 0. 0. 0. 0. 0. 0. 0. 0. 0. 0. 0. 0. 0. 0. 0. 0. 0. 0. 0. 0. 0.\n",
      "  0. 0. 0. 0. 0. 0. 0. 0. 0. 0. 0. 0. 0. 0. 0. 0.]\n",
      " [0. 0. 0. 0. 0. 0. 0. 0. 0. 0. 0. 0. 0. 0. 0. 0. 0. 0. 0. 0. 0. 0. 0. 0.\n",
      "  0. 0. 0. 0. 0. 0. 0. 0. 0. 0. 0. 0. 0. 0. 0. 0.]\n",
      " [0. 0. 0. 0. 0. 0. 0. 0. 0. 0. 0. 0. 0. 0. 0. 0. 0. 0. 0. 0. 0. 0. 0. 0.\n",
      "  0. 0. 0. 0. 0. 0. 0. 0. 0. 0. 0. 0. 0. 0. 0. 0.]\n",
      " [0. 0. 0. 0. 0. 0. 0. 0. 0. 0. 0. 0. 0. 0. 0. 0. 0. 0. 0. 0. 0. 0. 0. 0.\n",
      "  0. 0. 0. 0. 0. 0. 0. 0. 0. 0. 0. 0. 0. 0. 0. 0.]\n",
      " [0. 0. 0. 0. 0. 0. 0. 0. 0. 0. 0. 0. 0. 0. 0. 0. 0. 0. 0. 0. 0. 0. 0. 0.\n",
      "  0. 0. 0. 0. 0. 0. 0. 0. 0. 0. 0. 0. 0. 0. 0. 0.]\n",
      " [0. 0. 0. 0. 0. 0. 0. 0. 0. 0. 0. 0. 0. 0. 0. 0. 0. 0. 0. 0. 0. 0. 0. 0.\n",
      "  0. 0. 0. 0. 0. 0. 0. 0. 0. 0. 0. 0. 0. 0. 0. 0.]\n",
      " [0. 0. 0. 0. 0. 0. 0. 0. 0. 0. 0. 0. 0. 0. 0. 0. 0. 0. 0. 0. 0. 0. 0. 0.\n",
      "  0. 0. 0. 0. 0. 0. 0. 0. 0. 0. 0. 0. 0. 0. 0. 0.]\n",
      " [0. 0. 0. 0. 0. 0. 0. 0. 0. 0. 0. 0. 0. 0. 0. 0. 0. 0. 0. 0. 0. 0. 0. 0.\n",
      "  0. 0. 0. 0. 0. 0. 0. 0. 0. 0. 0. 0. 0. 0. 0. 0.]\n",
      " [0. 0. 0. 0. 0. 0. 0. 0. 0. 0. 0. 0. 0. 0. 0. 0. 0. 0. 0. 0. 0. 0. 0. 0.\n",
      "  0. 0. 0. 0. 0. 0. 0. 0. 0. 0. 0. 0. 0. 0. 0. 0.]\n",
      " [0. 0. 0. 0. 0. 0. 0. 0. 0. 0. 0. 0. 0. 0. 0. 0. 0. 0. 0. 0. 0. 0. 0. 0.\n",
      "  0. 0. 0. 0. 0. 0. 0. 0. 0. 0. 0. 0. 0. 0. 0. 0.]\n",
      " [0. 0. 0. 0. 0. 0. 0. 0. 0. 0. 0. 0. 0. 0. 0. 0. 0. 0. 0. 0. 0. 0. 0. 0.\n",
      "  0. 0. 0. 0. 0. 0. 0. 0. 0. 0. 0. 0. 0. 0. 0. 0.]\n",
      " [0. 0. 0. 0. 0. 0. 0. 0. 0. 0. 0. 0. 0. 0. 0. 0. 0. 0. 0. 0. 0. 0. 0. 0.\n",
      "  0. 0. 0. 0. 0. 0. 0. 0. 0. 0. 0. 0. 0. 0. 0. 0.]\n",
      " [0. 0. 0. 0. 0. 0. 0. 0. 0. 0. 0. 0. 0. 0. 0. 0. 0. 0. 0. 0. 0. 0. 0. 0.\n",
      "  0. 0. 0. 0. 0. 0. 0. 0. 0. 0. 0. 0. 0. 0. 0. 0.]\n",
      " [0. 0. 0. 0. 0. 0. 0. 0. 0. 0. 0. 0. 0. 0. 0. 0. 0. 0. 0. 0. 0. 0. 0. 0.\n",
      "  0. 0. 0. 0. 0. 0. 0. 0. 0. 0. 0. 0. 0. 0. 0. 0.]\n",
      " [0. 0. 0. 0. 0. 0. 0. 0. 0. 0. 0. 0. 0. 0. 0. 0. 0. 0. 0. 0. 0. 0. 0. 0.\n",
      "  0. 0. 0. 0. 0. 0. 0. 0. 0. 0. 0. 0. 0. 0. 0. 0.]\n",
      " [0. 0. 0. 0. 0. 0. 0. 0. 0. 0. 0. 0. 0. 0. 0. 0. 0. 0. 0. 0. 0. 0. 0. 0.\n",
      "  0. 0. 0. 0. 0. 0. 0. 0. 0. 0. 0. 0. 0. 0. 0. 0.]\n",
      " [0. 0. 0. 0. 0. 0. 0. 0. 0. 0. 0. 0. 0. 0. 0. 0. 0. 0. 0. 0. 0. 0. 0. 0.\n",
      "  0. 0. 0. 0. 0. 0. 0. 0. 0. 0. 0. 0. 0. 0. 0. 0.]\n",
      " [0. 0. 0. 0. 0. 0. 0. 0. 0. 0. 0. 0. 0. 0. 0. 0. 0. 0. 0. 0. 0. 0. 0. 0.\n",
      "  0. 0. 0. 0. 0. 0. 0. 0. 0. 0. 0. 0. 0. 0. 0. 0.]\n",
      " [0. 0. 0. 0. 0. 0. 0. 0. 0. 0. 0. 0. 0. 0. 0. 0. 0. 0. 0. 0. 0. 0. 0. 0.\n",
      "  0. 0. 0. 0. 0. 0. 0. 0. 0. 0. 0. 0. 0. 0. 0. 0.]\n",
      " [0. 0. 0. 0. 0. 0. 0. 0. 0. 0. 0. 0. 0. 0. 0. 0. 0. 0. 0. 0. 0. 0. 0. 0.\n",
      "  0. 0. 0. 0. 0. 0. 0. 0. 0. 0. 0. 0. 0. 0. 0. 0.]\n",
      " [0. 0. 0. 0. 0. 0. 0. 0. 0. 0. 0. 0. 0. 0. 0. 0. 0. 0. 0. 0. 0. 0. 0. 0.\n",
      "  0. 0. 0. 0. 0. 0. 0. 0. 0. 0. 0. 0. 0. 0. 0. 0.]\n",
      " [0. 0. 0. 0. 0. 0. 0. 0. 0. 0. 0. 0. 0. 0. 0. 0. 0. 0. 0. 0. 0. 0. 0. 0.\n",
      "  0. 0. 0. 0. 0. 0. 0. 0. 0. 0. 0. 0. 0. 0. 0. 0.]\n",
      " [0. 0. 0. 0. 0. 0. 0. 0. 0. 0. 0. 0. 0. 0. 0. 0. 0. 0. 0. 0. 0. 0. 0. 0.\n",
      "  0. 0. 0. 0. 0. 0. 0. 0. 0. 0. 0. 0. 0. 0. 0. 0.]\n",
      " [0. 0. 0. 0. 0. 0. 0. 0. 0. 0. 0. 0. 0. 0. 0. 0. 0. 0. 0. 0. 0. 0. 0. 0.\n",
      "  0. 0. 0. 0. 0. 0. 0. 0. 0. 0. 0. 0. 0. 0. 0. 0.]\n",
      " [0. 0. 0. 0. 0. 0. 0. 0. 0. 0. 0. 0. 0. 0. 0. 0. 0. 0. 0. 0. 0. 0. 0. 0.\n",
      "  0. 0. 0. 0. 0. 0. 0. 0. 0. 0. 0. 0. 0. 0. 0. 0.]\n",
      " [0. 0. 0. 0. 0. 0. 0. 0. 0. 0. 0. 0. 0. 0. 0. 0. 0. 0. 0. 0. 0. 0. 0. 0.\n",
      "  0. 0. 0. 0. 0. 0. 0. 0. 0. 0. 0. 0. 0. 0. 0. 0.]\n",
      " [0. 0. 0. 0. 0. 0. 0. 0. 0. 0. 0. 0. 0. 0. 0. 0. 0. 0. 0. 0. 0. 0. 0. 0.\n",
      "  0. 0. 0. 0. 0. 0. 0. 0. 0. 0. 0. 0. 0. 0. 0. 0.]\n",
      " [0. 0. 0. 0. 0. 0. 0. 0. 0. 0. 0. 0. 0. 0. 0. 0. 0. 0. 0. 0. 0. 0. 0. 0.\n",
      "  0. 0. 0. 0. 0. 0. 0. 0. 0. 0. 0. 0. 0. 0. 0. 0.]\n",
      " [0. 0. 0. 0. 0. 0. 0. 0. 0. 0. 0. 0. 0. 0. 0. 0. 0. 0. 0. 0. 0. 0. 0. 0.\n",
      "  0. 0. 0. 0. 0. 0. 0. 0. 0. 0. 0. 0. 0. 0. 0. 0.]\n",
      " [0. 0. 0. 0. 0. 0. 0. 0. 0. 0. 0. 0. 0. 0. 0. 0. 0. 0. 0. 0. 0. 0. 0. 0.\n",
      "  0. 0. 0. 0. 0. 0. 0. 0. 0. 0. 0. 0. 0. 0. 0. 0.]\n",
      " [0. 0. 0. 0. 0. 0. 0. 0. 0. 0. 0. 0. 0. 0. 0. 0. 0. 0. 0. 0. 0. 0. 0. 0.\n",
      "  0. 0. 0. 0. 0. 0. 0. 0. 0. 0. 0. 0. 0. 0. 0. 0.]\n",
      " [0. 0. 0. 0. 0. 0. 0. 0. 0. 0. 0. 0. 0. 0. 0. 0. 0. 0. 0. 0. 0. 0. 0. 0.\n",
      "  0. 0. 0. 0. 0. 0. 0. 0. 0. 0. 0. 0. 0. 0. 0. 0.]\n",
      " [0. 0. 0. 0. 0. 0. 0. 0. 0. 0. 0. 0. 0. 0. 0. 0. 0. 0. 0. 0. 0. 0. 0. 0.\n",
      "  0. 0. 0. 0. 0. 0. 0. 0. 0. 0. 0. 0. 0. 0. 0. 0.]\n",
      " [0. 0. 0. 0. 0. 0. 0. 0. 0. 0. 0. 0. 0. 0. 0. 0. 0. 0. 0. 0. 0. 0. 0. 0.\n",
      "  0. 0. 0. 0. 0. 0. 0. 0. 0. 0. 0. 0. 0. 0. 0. 0.]\n",
      " [0. 0. 0. 0. 0. 0. 0. 0. 0. 0. 0. 0. 0. 0. 0. 0. 0. 0. 0. 0. 0. 0. 0. 0.\n",
      "  0. 0. 0. 0. 0. 0. 0. 0. 0. 0. 0. 0. 0. 0. 0. 0.]]\n"
     ]
    }
   ],
   "source": [
    "np.set_printoptions(threshold = float(\"inf\"))\n",
    "_arr = np.zeros((40, 40))\n",
    "print(_arr)"
   ]
  },
  {
   "cell_type": "markdown",
   "id": "e0e7d741",
   "metadata": {},
   "source": [
    "#### 50. How to find the closest value (to a given scalar) in a vector? (★★☆)"
   ]
  },
  {
   "cell_type": "code",
   "execution_count": 271,
   "id": "62cabf6f",
   "metadata": {
    "ExecuteTime": {
     "end_time": "2023-11-20T15:21:31.861877500Z",
     "start_time": "2023-11-20T15:21:24.175546Z"
    }
   },
   "outputs": [
    {
     "name": "stdout",
     "output_type": "stream",
     "text": [
      "41\n"
     ]
    }
   ],
   "source": [
    "_vec = np.arange(100)\n",
    "v = np.random.uniform(0,100)\n",
    "index = (np.abs(_vec - v)).argmin()\n",
    "print(_vec[index])"
   ]
  },
  {
   "cell_type": "markdown",
   "id": "c5611b9e",
   "metadata": {},
   "source": [
    "#### 51. Create a structured array representing a position (x,y) and a color (r,g,b) (★★☆)"
   ]
  },
  {
   "cell_type": "code",
   "execution_count": 272,
   "id": "f622939d",
   "metadata": {
    "ExecuteTime": {
     "end_time": "2023-11-20T15:21:31.953795400Z",
     "start_time": "2023-11-20T15:21:24.205277600Z"
    }
   },
   "outputs": [
    {
     "name": "stdout",
     "output_type": "stream",
     "text": [
      "[((0., 0.), (0., 0., 0.)) ((0., 0.), (0., 0., 0.))\n",
      " ((0., 0.), (0., 0., 0.)) ((0., 0.), (0., 0., 0.))\n",
      " ((0., 0.), (0., 0., 0.))]\n"
     ]
    },
    {
     "name": "stderr",
     "output_type": "stream",
     "text": [
      "C:\\Users\\Shevchenko\\AppData\\Local\\Temp\\ipykernel_8580\\1932118594.py:1: FutureWarning: Passing (type, 1) or '1type' as a synonym of type is deprecated; in a future version of numpy, it will be understood as (type, (1,)) / '(1,)type'.\n",
      "  _arr = np.zeros(5, [ ('position', [ ('x', float, 1),\n"
     ]
    }
   ],
   "source": [
    "_arr = np.zeros(5, [ ('position', [ ('x', float, 1),\n",
    "                                  ('y', float, 1)]),\n",
    "                   ('color',    [ ('r', float, 1),\n",
    "                                  ('g', float, 1),\n",
    "                                  ('b', float, 1)])])\n",
    "print(_arr)"
   ]
  },
  {
   "cell_type": "markdown",
   "id": "d22b8574",
   "metadata": {},
   "source": [
    "#### 52. Consider a random vector with shape (100,2) representing coordinates, find point by point distances (★★☆)"
   ]
  },
  {
   "cell_type": "code",
   "execution_count": 273,
   "id": "d5c9cdf8",
   "metadata": {
    "ExecuteTime": {
     "end_time": "2023-11-20T15:21:32.006398500Z",
     "start_time": "2023-11-20T15:21:24.232999300Z"
    }
   },
   "outputs": [
    {
     "name": "stdout",
     "output_type": "stream",
     "text": [
      "[[0.         0.59249639 0.88626697 0.85115429 0.86823072 0.39732283\n",
      "  0.54487476 0.73464719 0.69043149 0.18885925]\n",
      " [0.59249639 0.         0.36844571 0.46197388 0.76995861 0.57741129\n",
      "  0.66066659 0.63554705 0.4691664  0.44454036]\n",
      " [0.88626697 0.36844571 0.         0.20890494 0.63612897 0.70355524\n",
      "  0.71008704 0.55125717 0.38411527 0.70519655]\n",
      " [0.85115429 0.46197388 0.20890494 0.         0.42912742 0.5839934\n",
      "  0.55389722 0.35811735 0.21571989 0.66233663]\n",
      " [0.86823072 0.76995861 0.63612897 0.42912742 0.         0.47791354\n",
      "  0.3479953  0.14559728 0.30170835 0.70672332]\n",
      " [0.39732283 0.57741129 0.70355524 0.5839934  0.47791354 0.\n",
      "  0.14925616 0.35607655 0.37649352 0.2679276 ]\n",
      " [0.54487476 0.66066659 0.71008704 0.55389722 0.3479953  0.14925616\n",
      "  0.         0.25075726 0.33841725 0.4142529 ]\n",
      " [0.73464719 0.63554705 0.55125717 0.35811735 0.14559728 0.35607655\n",
      "  0.25075726 0.         0.17862903 0.56676567]\n",
      " [0.69043149 0.4691664  0.38411527 0.21571989 0.30170835 0.37649352\n",
      "  0.33841725 0.17862903 0.         0.50528228]\n",
      " [0.18885925 0.44454036 0.70519655 0.66233663 0.70672332 0.2679276\n",
      "  0.4142529  0.56676567 0.50528228 0.        ]]\n"
     ]
    }
   ],
   "source": [
    "_vec = np.random.random((10, 2))\n",
    "X,Y = np.atleast_2d(_vec[:,0], _vec[:,1])\n",
    "D = np.sqrt( (X - X.T) ** 2 + (Y - Y.T) ** 2)\n",
    "print(D)"
   ]
  },
  {
   "cell_type": "markdown",
   "id": "f5c164f2",
   "metadata": {},
   "source": [
    "#### 53. How to convert a float (32 bits) array into an integer (32 bits) in place?"
   ]
  },
  {
   "cell_type": "code",
   "execution_count": 274,
   "id": "ea262de8",
   "metadata": {
    "ExecuteTime": {
     "end_time": "2023-11-20T15:21:32.061733Z",
     "start_time": "2023-11-20T15:21:24.259562800Z"
    }
   },
   "outputs": [
    {
     "name": "stdout",
     "output_type": "stream",
     "text": [
      "[27 91 75 62 52 56 81 38 43 82]\n"
     ]
    }
   ],
   "source": [
    "_arr = (np.random.rand(10)*100).astype(np.float32)\n",
    "Y = _arr.view(np.int32)\n",
    "Y[:] = _arr\n",
    "print(Y)"
   ]
  },
  {
   "cell_type": "markdown",
   "id": "a8b7e6f5",
   "metadata": {},
   "source": [
    "#### 54. How to read the following file? (★★☆)\n",
    "```\n",
    "1, 2, 3, 4, 5\n",
    "6,  ,  , 7, 8\n",
    " ,  , 9,10,11\n",
    "```"
   ]
  },
  {
   "cell_type": "code",
   "execution_count": 275,
   "id": "bde0538a",
   "metadata": {
    "ExecuteTime": {
     "end_time": "2023-11-20T15:21:32.061733Z",
     "start_time": "2023-11-20T15:21:24.285525500Z"
    }
   },
   "outputs": [
    {
     "name": "stdout",
     "output_type": "stream",
     "text": [
      "[[ 1.  2.  3.  4.  5.]\n",
      " [ 6. nan nan  7.  8.]\n",
      " [nan nan  9. 10. 11.]]\n"
     ]
    }
   ],
   "source": [
    "from io import StringIO\n",
    "\n",
    "s = StringIO('''1, 2, 3, 4, 5\n",
    "                6,  ,  , 7, 8\n",
    "                 ,  , 9,10,11''')\n",
    "\n",
    "_file = np.genfromtxt(s, delimiter = \",\")\n",
    "print(_file)"
   ]
  },
  {
   "cell_type": "markdown",
   "id": "c6b32834",
   "metadata": {},
   "source": [
    "#### 55. What is the equivalent of enumerate for numpy arrays? (★★☆)"
   ]
  },
  {
   "cell_type": "code",
   "execution_count": 276,
   "id": "ab02472a",
   "metadata": {
    "ExecuteTime": {
     "end_time": "2023-11-20T15:21:32.111929Z",
     "start_time": "2023-11-20T15:21:24.311590900Z"
    }
   },
   "outputs": [
    {
     "name": "stdout",
     "output_type": "stream",
     "text": [
      "(0, 0) 0\n",
      "(0, 1) 1\n",
      "(0, 2) 2\n",
      "(1, 0) 3\n",
      "(1, 1) 4\n",
      "(1, 2) 5\n",
      "(2, 0) 6\n",
      "(2, 1) 7\n",
      "(2, 2) 8\n",
      "(0, 0) 0\n",
      "(0, 1) 1\n",
      "(0, 2) 2\n",
      "(1, 0) 3\n",
      "(1, 1) 4\n",
      "(1, 2) 5\n",
      "(2, 0) 6\n",
      "(2, 1) 7\n",
      "(2, 2) 8\n"
     ]
    }
   ],
   "source": [
    "_arr = np.arange(9).reshape(3,3)\n",
    "for index, value in np.ndenumerate(_arr):\n",
    "    print(index, value)\n",
    "for index in np.ndindex(_arr.shape):\n",
    "    print(index, _arr[index])"
   ]
  },
  {
   "cell_type": "markdown",
   "id": "a2121a05",
   "metadata": {},
   "source": [
    "#### 56. Generate a generic 2D Gaussian-like array (★★☆)"
   ]
  },
  {
   "cell_type": "code",
   "execution_count": 277,
   "id": "18507102",
   "metadata": {
    "ExecuteTime": {
     "end_time": "2023-11-20T15:21:32.111929Z",
     "start_time": "2023-11-20T15:21:24.342955800Z"
    }
   },
   "outputs": [
    {
     "name": "stdout",
     "output_type": "stream",
     "text": [
      "[[0.36787944 0.44822088 0.51979489 0.57375342 0.60279818 0.60279818\n",
      "  0.57375342 0.51979489 0.44822088 0.36787944]\n",
      " [0.44822088 0.54610814 0.63331324 0.69905581 0.73444367 0.73444367\n",
      "  0.69905581 0.63331324 0.54610814 0.44822088]\n",
      " [0.51979489 0.63331324 0.73444367 0.81068432 0.85172308 0.85172308\n",
      "  0.81068432 0.73444367 0.63331324 0.51979489]\n",
      " [0.57375342 0.69905581 0.81068432 0.89483932 0.9401382  0.9401382\n",
      "  0.89483932 0.81068432 0.69905581 0.57375342]\n",
      " [0.60279818 0.73444367 0.85172308 0.9401382  0.98773022 0.98773022\n",
      "  0.9401382  0.85172308 0.73444367 0.60279818]\n",
      " [0.60279818 0.73444367 0.85172308 0.9401382  0.98773022 0.98773022\n",
      "  0.9401382  0.85172308 0.73444367 0.60279818]\n",
      " [0.57375342 0.69905581 0.81068432 0.89483932 0.9401382  0.9401382\n",
      "  0.89483932 0.81068432 0.69905581 0.57375342]\n",
      " [0.51979489 0.63331324 0.73444367 0.81068432 0.85172308 0.85172308\n",
      "  0.81068432 0.73444367 0.63331324 0.51979489]\n",
      " [0.44822088 0.54610814 0.63331324 0.69905581 0.73444367 0.73444367\n",
      "  0.69905581 0.63331324 0.54610814 0.44822088]\n",
      " [0.36787944 0.44822088 0.51979489 0.57375342 0.60279818 0.60279818\n",
      "  0.57375342 0.51979489 0.44822088 0.36787944]]\n"
     ]
    }
   ],
   "source": [
    "X, Y = np.meshgrid(np.linspace(-1, 1, 10), np.linspace(-1, 1, 10))\n",
    "D = np.sqrt(X * X + Y * Y)\n",
    "sigma, mu = 1.0, 0.0\n",
    "G = np.exp(-((D - mu) ** 2 / (2.0 * sigma ** 2)))\n",
    "print(G)"
   ]
  },
  {
   "cell_type": "markdown",
   "id": "97055efa",
   "metadata": {},
   "source": [
    "#### 57. How to randomly place p elements in a 2D array? (★★☆)"
   ]
  },
  {
   "cell_type": "code",
   "execution_count": 278,
   "id": "292e842f",
   "metadata": {
    "ExecuteTime": {
     "end_time": "2023-11-20T15:21:32.202565300Z",
     "start_time": "2023-11-20T15:21:24.366512200Z"
    }
   },
   "outputs": [
    {
     "name": "stdout",
     "output_type": "stream",
     "text": [
      "[[0. 0. 0. 0. 0. 0. 0. 0. 0. 0.]\n",
      " [0. 0. 0. 0. 0. 1. 0. 0. 0. 0.]\n",
      " [0. 0. 0. 0. 0. 0. 0. 0. 0. 0.]\n",
      " [0. 0. 0. 0. 0. 0. 0. 0. 0. 1.]\n",
      " [0. 0. 0. 0. 1. 0. 0. 0. 0. 0.]\n",
      " [0. 0. 0. 0. 0. 0. 0. 0. 0. 0.]\n",
      " [0. 0. 0. 0. 0. 0. 0. 0. 0. 0.]\n",
      " [0. 0. 0. 0. 0. 0. 0. 0. 0. 0.]\n",
      " [0. 0. 0. 0. 0. 0. 0. 0. 0. 0.]\n",
      " [0. 0. 0. 0. 0. 0. 0. 0. 0. 0.]]\n"
     ]
    }
   ],
   "source": [
    "n = 10\n",
    "p = 3\n",
    "_arr = np.zeros((n,n))\n",
    "np.put(_arr, np.random.choice(range(n * n), p, replace = False), 1)\n",
    "print(_arr)"
   ]
  },
  {
   "cell_type": "markdown",
   "id": "bfd2513c",
   "metadata": {},
   "source": [
    "#### 58. Subtract the mean of each row of a matrix (★★☆)"
   ]
  },
  {
   "cell_type": "code",
   "execution_count": 279,
   "id": "f306ab72",
   "metadata": {
    "ExecuteTime": {
     "end_time": "2023-11-20T15:21:32.217214300Z",
     "start_time": "2023-11-20T15:21:24.395821600Z"
    }
   },
   "outputs": [
    {
     "name": "stdout",
     "output_type": "stream",
     "text": [
      "[[ 0.23464743  0.49872831  0.18090682 -0.3253686   0.16962097 -0.25204442\n",
      "   0.35880496 -0.19143298 -0.21785797 -0.45600453]\n",
      " [-0.28892679 -0.1267674  -0.17578453 -0.37584437  0.44136115  0.21081117\n",
      "   0.26182606  0.27415385 -0.18832826 -0.03250087]\n",
      " [-0.28067384  0.30310419  0.01307958  0.34030537  0.3224204  -0.12280923\n",
      "  -0.00265757 -0.34021276  0.22288671 -0.45544285]\n",
      " [ 0.17423902 -0.14555592 -0.31699085  0.01227922  0.44262997  0.48894252\n",
      "  -0.07937352  0.15072394 -0.29397032 -0.43292406]\n",
      " [-0.09407594 -0.23140634  0.31899535 -0.29023327  0.20629377 -0.33539221\n",
      "  -0.28161141  0.54613925 -0.20465872  0.36594951]]\n"
     ]
    }
   ],
   "source": [
    "X = np.random.rand(5, 10)\n",
    "\n",
    "Y = X - X.mean(axis = 1, keepdims = True)\n",
    "\n",
    "Y = X - X.mean(axis = 1).reshape(-1, 1)\n",
    "\n",
    "print(Y)"
   ]
  },
  {
   "cell_type": "markdown",
   "id": "da9f2f9b",
   "metadata": {},
   "source": [
    "#### 59. How to sort an array by the nth column? (★★☆)"
   ]
  },
  {
   "cell_type": "code",
   "execution_count": 280,
   "id": "68cde57f",
   "metadata": {
    "ExecuteTime": {
     "end_time": "2023-11-20T15:21:32.249086600Z",
     "start_time": "2023-11-20T15:21:24.425897800Z"
    }
   },
   "outputs": [
    {
     "name": "stdout",
     "output_type": "stream",
     "text": [
      "[[0 3 0]\n",
      " [3 6 4]\n",
      " [0 0 1]]\n",
      "[[0 0 1]\n",
      " [0 3 0]\n",
      " [3 6 4]]\n"
     ]
    }
   ],
   "source": [
    "_arr = np.random.randint(0,10,(3,3))\n",
    "print(_arr)\n",
    "print(_arr[_arr[:,1].argsort()])"
   ]
  },
  {
   "cell_type": "markdown",
   "id": "5b7be45c",
   "metadata": {},
   "source": [
    "#### 60. How to tell if a given 2D array has null columns? (★★☆)"
   ]
  },
  {
   "cell_type": "code",
   "execution_count": 281,
   "id": "7dbe2c27",
   "metadata": {
    "ExecuteTime": {
     "end_time": "2023-11-20T15:21:32.286291800Z",
     "start_time": "2023-11-20T15:21:24.460821100Z"
    }
   },
   "outputs": [
    {
     "name": "stdout",
     "output_type": "stream",
     "text": [
      "False\n",
      "[False False  True]\n"
     ]
    }
   ],
   "source": [
    "_arr = np.random.randint(0, 3, (3, 10))\n",
    "print((~_arr.any(axis = 0)).any())\n",
    "\n",
    "# null : np.nan\n",
    "_arr = np.array([\n",
    "    [0, 1, np.nan],\n",
    "    [1, 2, np.nan],\n",
    "    [4, 5, np.nan]\n",
    "])\n",
    "print(np.isnan(_arr).all(axis = 0))"
   ]
  },
  {
   "cell_type": "markdown",
   "id": "7c18c02e",
   "metadata": {},
   "source": [
    "#### 61. Find the nearest value from a given value in an array (★★☆)"
   ]
  },
  {
   "cell_type": "code",
   "execution_count": 282,
   "id": "b78ae9c4",
   "metadata": {
    "ExecuteTime": {
     "end_time": "2023-11-20T15:21:32.355170500Z",
     "start_time": "2023-11-20T15:21:24.492129Z"
    }
   },
   "outputs": [
    {
     "name": "stdout",
     "output_type": "stream",
     "text": [
      "inf\n"
     ]
    }
   ],
   "source": [
    "_arr = np.random.uniform(0,1,10)\n",
    "z = 0.5\n",
    "m = Z.flat[np.abs(Z - z).argmin()]\n",
    "print(m)"
   ]
  },
  {
   "cell_type": "markdown",
   "id": "8174ba2c",
   "metadata": {},
   "source": [
    "#### 62. Considering two arrays with shape (1,3) and (3,1), how to compute their sum using an iterator? (★★☆)"
   ]
  },
  {
   "cell_type": "code",
   "execution_count": 283,
   "id": "8a18fe57",
   "metadata": {
    "ExecuteTime": {
     "end_time": "2023-11-20T15:21:32.410014600Z",
     "start_time": "2023-11-20T15:21:24.536209400Z"
    }
   },
   "outputs": [
    {
     "name": "stdout",
     "output_type": "stream",
     "text": [
      "[[0 1 2]\n",
      " [1 2 3]\n",
      " [2 3 4]]\n"
     ]
    }
   ],
   "source": [
    "A = np.arange(3).reshape(3, 1)\n",
    "B = np.arange(3).reshape(1, 3)\n",
    "\n",
    "it = np.nditer([A,B,None])\n",
    "\n",
    "for x,y,z in it: z[...] = x + y\n",
    "\n",
    "print(it.operands[2])"
   ]
  },
  {
   "cell_type": "markdown",
   "id": "9189bd7c",
   "metadata": {},
   "source": [
    "#### 63. Create an array class that has a name attribute (★★☆)"
   ]
  },
  {
   "cell_type": "code",
   "execution_count": 284,
   "id": "1c01ed42",
   "metadata": {
    "ExecuteTime": {
     "end_time": "2023-11-20T15:21:32.429347800Z",
     "start_time": "2023-11-20T15:21:24.577726Z"
    }
   },
   "outputs": [
    {
     "name": "stdout",
     "output_type": "stream",
     "text": [
      "range_10\n"
     ]
    }
   ],
   "source": [
    "class NamedArray(np.ndarray):\n",
    "    def __new__(cls, array, name = \"no name\"):\n",
    "        obj = np.asarray(array).view(cls)\n",
    "        obj.name = name\n",
    "        return obj\n",
    "    def __array_finalize__(self, obj):\n",
    "        if obj is None: return\n",
    "        self.name = getattr(obj, 'name', \"no name\")\n",
    "\n",
    "Z = NamedArray(np.arange(10), \"range_10\")\n",
    "\n",
    "print (Z.name)"
   ]
  },
  {
   "cell_type": "markdown",
   "id": "f30162d2",
   "metadata": {},
   "source": [
    "#### 64. Consider a given vector, how to add 1 to each element indexed by a second vector (be careful with repeated indices)? (★★★)"
   ]
  },
  {
   "cell_type": "code",
   "execution_count": 285,
   "id": "093ba36f",
   "metadata": {
    "ExecuteTime": {
     "end_time": "2023-11-20T15:21:32.465592600Z",
     "start_time": "2023-11-20T15:21:24.616356400Z"
    }
   },
   "outputs": [
    {
     "name": "stdout",
     "output_type": "stream",
     "text": [
      "[2. 1. 4. 3. 3. 4. 3. 1. 6. 3.]\n"
     ]
    }
   ],
   "source": [
    "_vec = np.ones(10)\n",
    "I = np.random.randint(0, len(_vec), 20)\n",
    "_vec += np.bincount(I, minlength = len(_vec))\n",
    "print(_vec)\n"
   ]
  },
  {
   "cell_type": "markdown",
   "id": "f5b1c584",
   "metadata": {},
   "source": [
    "#### 65. How to accumulate elements of a vector (X) to an array (F) based on an index list (I)? (★★★)"
   ]
  },
  {
   "cell_type": "code",
   "execution_count": 286,
   "id": "c9d92a75",
   "metadata": {
    "ExecuteTime": {
     "end_time": "2023-11-20T15:21:32.514006500Z",
     "start_time": "2023-11-20T15:21:24.663524600Z"
    }
   },
   "outputs": [
    {
     "name": "stdout",
     "output_type": "stream",
     "text": [
      "[0. 7. 0. 6. 5. 0. 0. 0. 0. 3.]\n"
     ]
    }
   ],
   "source": [
    "X = [1,2,3,4,5,6]\n",
    "I = [1,3,9,3,4,1]\n",
    "\n",
    "F = np.bincount(I, X)\n",
    "print(F)"
   ]
  },
  {
   "cell_type": "markdown",
   "id": "994c452d",
   "metadata": {},
   "source": [
    "#### 66. Considering a (w,h,3) image of (dtype=ubyte), compute the number of unique colors (★★☆)"
   ]
  },
  {
   "cell_type": "code",
   "execution_count": 287,
   "id": "269cdaea",
   "metadata": {
    "ExecuteTime": {
     "end_time": "2023-11-20T15:21:32.678619200Z",
     "start_time": "2023-11-20T15:21:24.715226900Z"
    }
   },
   "outputs": [
    {
     "name": "stdout",
     "output_type": "stream",
     "text": [
      "64\n"
     ]
    }
   ],
   "source": [
    "w, h = 256, 256\n",
    "I = np.random.randint(0, 4, (h, w, 3)).astype(np.ubyte)\n",
    "colors = np.unique(I.reshape(-1, 3), axis = 0)\n",
    "n = len(colors)\n",
    "print(n)"
   ]
  },
  {
   "cell_type": "markdown",
   "id": "4bddeb31",
   "metadata": {},
   "source": [
    "#### 67. Considering a four dimensions array, how to get sum over the last two axis at once? (★★★)"
   ]
  },
  {
   "cell_type": "code",
   "execution_count": 288,
   "id": "32af15f5",
   "metadata": {
    "ExecuteTime": {
     "end_time": "2023-11-20T15:21:32.718473800Z",
     "start_time": "2023-11-20T15:21:24.842384500Z"
    }
   },
   "outputs": [
    {
     "name": "stdout",
     "output_type": "stream",
     "text": [
      "[[52 49 58 37]\n",
      " [63 59 50 48]\n",
      " [55 38 42 53]]\n"
     ]
    }
   ],
   "source": [
    "A = np.random.randint(0,10,(3,4,3,4))\n",
    "sum = A.sum(axis=(-2,-1))\n",
    "print(sum)"
   ]
  },
  {
   "cell_type": "markdown",
   "id": "c4cf083c",
   "metadata": {},
   "source": [
    "#### 68. Considering a one-dimensional vector D, how to compute means of subsets of D using a vector S of same size describing subset  indices? (★★★)"
   ]
  },
  {
   "cell_type": "code",
   "execution_count": 289,
   "id": "9600a2dd",
   "metadata": {
    "ExecuteTime": {
     "end_time": "2023-11-20T15:21:32.718473800Z",
     "start_time": "2023-11-20T15:21:24.869732200Z"
    }
   },
   "outputs": [
    {
     "name": "stdout",
     "output_type": "stream",
     "text": [
      "[0.64569677 0.38982889 0.51605993 0.48915553 0.53357045 0.3957797\n",
      " 0.36511935 0.57103295 0.60358723 0.48610557]\n"
     ]
    }
   ],
   "source": [
    "D = np.random.uniform(0,1,100)\n",
    "S = np.random.randint(0,10,100)\n",
    "D_sums = np.bincount(S, weights=D)\n",
    "D_counts = np.bincount(S)\n",
    "D_means = D_sums / D_counts\n",
    "print(D_means)"
   ]
  },
  {
   "cell_type": "markdown",
   "id": "a5e316db",
   "metadata": {},
   "source": [
    "#### 69. How to get the diagonal of a dot product? (★★★)"
   ]
  },
  {
   "cell_type": "code",
   "execution_count": 290,
   "id": "94735dbd",
   "metadata": {
    "ExecuteTime": {
     "end_time": "2023-11-20T15:21:32.719471Z",
     "start_time": "2023-11-20T15:21:24.890229500Z"
    }
   },
   "outputs": [
    {
     "data": {
      "text/plain": "array([1.51109572, 2.02444879, 2.17738794, 1.18017818, 0.92239344])"
     },
     "execution_count": 290,
     "metadata": {},
     "output_type": "execute_result"
    }
   ],
   "source": [
    "A = np.random.uniform(0, 1, (5, 5))\n",
    "B = np.random.uniform(0, 1, (5, 5))\n",
    "np.sum(A * B.T, axis = 1)"
   ]
  },
  {
   "cell_type": "markdown",
   "id": "de727a7b",
   "metadata": {},
   "source": [
    "#### 70. Consider the vector [1, 2, 3, 4, 5], how to build a new vector with 3 consecutive zeros interleaved between each value? (★★★)"
   ]
  },
  {
   "cell_type": "code",
   "execution_count": 291,
   "id": "982be812",
   "metadata": {
    "ExecuteTime": {
     "end_time": "2023-11-20T15:21:32.729464400Z",
     "start_time": "2023-11-20T15:21:24.902581600Z"
    }
   },
   "outputs": [
    {
     "name": "stdout",
     "output_type": "stream",
     "text": [
      "[1. 0. 0. 0. 2. 0. 0. 0. 3. 0. 0. 0. 4. 0. 0. 0. 5.]\n"
     ]
    }
   ],
   "source": [
    "Z = np.array([1,2,3,4,5])\n",
    "nz = 3\n",
    "Z0 = np.zeros(len(Z) + (len(Z) - 1) * (nz))\n",
    "Z0[::nz + 1] = Z\n",
    "print(Z0)"
   ]
  },
  {
   "cell_type": "markdown",
   "id": "a9a73d6b",
   "metadata": {},
   "source": [
    "#### 71. Consider an array of dimension (5,5,3), how to mulitply it by an array with dimensions (5,5)? (★★★)"
   ]
  },
  {
   "cell_type": "code",
   "execution_count": 292,
   "id": "282a90cc",
   "metadata": {
    "ExecuteTime": {
     "end_time": "2023-11-20T15:21:32.764265400Z",
     "start_time": "2023-11-20T15:21:24.924335400Z"
    }
   },
   "outputs": [
    {
     "name": "stdout",
     "output_type": "stream",
     "text": [
      "[[[2. 2. 2.]\n",
      "  [2. 2. 2.]\n",
      "  [2. 2. 2.]\n",
      "  [2. 2. 2.]\n",
      "  [2. 2. 2.]]\n",
      "\n",
      " [[2. 2. 2.]\n",
      "  [2. 2. 2.]\n",
      "  [2. 2. 2.]\n",
      "  [2. 2. 2.]\n",
      "  [2. 2. 2.]]\n",
      "\n",
      " [[2. 2. 2.]\n",
      "  [2. 2. 2.]\n",
      "  [2. 2. 2.]\n",
      "  [2. 2. 2.]\n",
      "  [2. 2. 2.]]\n",
      "\n",
      " [[2. 2. 2.]\n",
      "  [2. 2. 2.]\n",
      "  [2. 2. 2.]\n",
      "  [2. 2. 2.]\n",
      "  [2. 2. 2.]]\n",
      "\n",
      " [[2. 2. 2.]\n",
      "  [2. 2. 2.]\n",
      "  [2. 2. 2.]\n",
      "  [2. 2. 2.]\n",
      "  [2. 2. 2.]]]\n"
     ]
    }
   ],
   "source": [
    "A = np.ones((5, 5, 3))\n",
    "B = 2 * np.ones((5, 5))\n",
    "print(A * B[:,:,None])"
   ]
  },
  {
   "cell_type": "markdown",
   "id": "a951c78f",
   "metadata": {},
   "source": [
    "#### 72. How to swap two rows of an array? (★★★)"
   ]
  },
  {
   "cell_type": "code",
   "execution_count": 293,
   "id": "e29b3fde",
   "metadata": {
    "ExecuteTime": {
     "end_time": "2023-11-20T15:21:32.764265400Z",
     "start_time": "2023-11-20T15:21:24.943711100Z"
    }
   },
   "outputs": [
    {
     "name": "stdout",
     "output_type": "stream",
     "text": [
      "[[ 5  6  7  8  9]\n",
      " [ 0  1  2  3  4]\n",
      " [10 11 12 13 14]\n",
      " [15 16 17 18 19]\n",
      " [20 21 22 23 24]]\n"
     ]
    }
   ],
   "source": [
    "A = np.arange(25).reshape(5, 5)\n",
    "A[[0, 1]] = A[[1, 0]]\n",
    "print(A)"
   ]
  },
  {
   "cell_type": "markdown",
   "id": "43b639e8",
   "metadata": {},
   "source": [
    "#### 73. Consider a set of 10 triplets describing 10 triangles (with shared vertices), find the set of unique line segments composing all the  triangles (★★★)"
   ]
  },
  {
   "cell_type": "code",
   "execution_count": 294,
   "id": "147e1034",
   "metadata": {
    "ExecuteTime": {
     "end_time": "2023-11-20T15:21:32.813834400Z",
     "start_time": "2023-11-20T15:21:24.965787300Z"
    }
   },
   "outputs": [
    {
     "name": "stdout",
     "output_type": "stream",
     "text": [
      "[(10, 38) (10, 77) (11, 42) (11, 92) (17, 60) (17, 95) (18, 38) (18, 63)\n",
      " (20, 38) (20, 74) (25, 56) (25, 96) (38, 63) (38, 74) (38, 77) (42, 92)\n",
      " (43, 45) (43, 71) (45, 71) (48, 65) (48, 67) (50, 68) (50, 96) (56, 96)\n",
      " (60, 95) (62, 63) (62, 75) (63, 75) (65, 67) (68, 96)]\n"
     ]
    }
   ],
   "source": [
    "faces = np.random.randint(0, 100, (10, 3))\n",
    "F = np.roll(faces.repeat(2 ,axis = 1), -1, axis = 1)\n",
    "F = F.reshape(len(F) * 3, 2)\n",
    "F = np.sort(F, axis = 1)\n",
    "G = F.view(dtype = [('p0', F.dtype), ('p1', F.dtype)])\n",
    "G = np.unique(G)\n",
    "print(G)"
   ]
  },
  {
   "cell_type": "markdown",
   "id": "d41de585",
   "metadata": {},
   "source": [
    "#### 74. Given a sorted array C that corresponds to a bincount, how to produce an array A such that np.bincount(A) == C? (★★★)"
   ]
  },
  {
   "cell_type": "code",
   "execution_count": 295,
   "id": "5f5d6e36",
   "metadata": {
    "ExecuteTime": {
     "end_time": "2023-11-20T15:21:32.813834400Z",
     "start_time": "2023-11-20T15:21:24.982764400Z"
    }
   },
   "outputs": [
    {
     "name": "stdout",
     "output_type": "stream",
     "text": [
      "[1 1 2 3 4 4 6]\n"
     ]
    }
   ],
   "source": [
    "C = np.bincount([1,1,2,3,4,4,6])\n",
    "A = np.repeat(np.arange(len(C)), C)\n",
    "print(A)"
   ]
  },
  {
   "cell_type": "markdown",
   "id": "b50adf7c",
   "metadata": {},
   "source": [
    "#### 75. How to compute averages using a sliding window over an array? (★★★)"
   ]
  },
  {
   "cell_type": "code",
   "execution_count": 296,
   "id": "e631a9d2",
   "metadata": {
    "ExecuteTime": {
     "end_time": "2023-11-20T15:21:32.849746500Z",
     "start_time": "2023-11-20T15:21:25.009581900Z"
    }
   },
   "outputs": [
    {
     "name": "stdout",
     "output_type": "stream",
     "text": [
      "[ 1.  2.  3.  4.  5.  6.  7.  8.  9. 10. 11. 12. 13. 14. 15. 16. 17. 18.]\n"
     ]
    }
   ],
   "source": [
    "def moving_average(a, n=3) :\n",
    "    ret = np.cumsum(a, dtype=float)\n",
    "    ret[n:] = ret[n:] - ret[:-n]\n",
    "    return ret[n - 1:] / n\n",
    "Z = np.arange(20)\n",
    "print(moving_average(Z, n=3))"
   ]
  },
  {
   "cell_type": "markdown",
   "id": "1ab4c50d",
   "metadata": {},
   "source": [
    "#### 76. Consider a one-dimensional array Z, build a two-dimensional array whose first row is (Z[0],Z[1],Z[2]) and each subsequent row is  shifted by 1 (last row should be (Z[-3],Z[-2],Z[-1]) (★★★)"
   ]
  },
  {
   "cell_type": "code",
   "execution_count": 297,
   "id": "3ccfe2c0",
   "metadata": {
    "ExecuteTime": {
     "end_time": "2023-11-20T15:21:32.910126400Z",
     "start_time": "2023-11-20T15:21:25.045629500Z"
    }
   },
   "outputs": [
    {
     "name": "stdout",
     "output_type": "stream",
     "text": [
      "[[0 1 2]\n",
      " [1 2 3]\n",
      " [2 3 4]\n",
      " [3 4 5]\n",
      " [4 5 6]\n",
      " [5 6 7]\n",
      " [6 7 8]\n",
      " [7 8 9]]\n"
     ]
    }
   ],
   "source": [
    "from numpy.lib import stride_tricks\n",
    "\n",
    "def rolling(a, window):\n",
    "    shape = (a.size - window + 1, window)\n",
    "    strides = (a.strides[0], a.strides[0])\n",
    "    return stride_tricks.as_strided(a, shape=shape, strides=strides)\n",
    "Z = rolling(np.arange(10), 3)\n",
    "print(Z)\n"
   ]
  },
  {
   "cell_type": "markdown",
   "id": "5b4fe59d",
   "metadata": {},
   "source": [
    "#### 77. How to negate a boolean, or to change the sign of a float inplace? (★★★)"
   ]
  },
  {
   "cell_type": "code",
   "execution_count": 298,
   "id": "3c2373ff",
   "metadata": {
    "ExecuteTime": {
     "end_time": "2023-11-20T15:21:32.931767400Z",
     "start_time": "2023-11-20T15:21:25.074354100Z"
    }
   },
   "outputs": [
    {
     "data": {
      "text/plain": "array([-0.1810737 ,  0.25737338, -0.12729353, -0.78670486, -0.29741777,\n       -0.97779601,  0.34392803,  0.63636844, -0.51919278,  0.02395263,\n        0.93941194, -0.99831188, -0.7149498 ,  0.13170297, -0.36161395,\n       -0.14530156,  0.9026196 , -0.22820229,  0.17902037, -0.44220783,\n       -0.49979871,  0.54211107, -0.8997687 , -0.43968625,  0.36424449,\n        0.40556921, -0.96995615,  0.70467204,  0.56728005, -0.85940891,\n       -0.85798664,  0.90688328, -0.92223961, -0.80935828, -0.6736127 ,\n       -0.57516923, -0.68367256,  0.46014322,  0.43772304, -0.26286016,\n        0.19007306,  0.1031247 , -0.74808779, -0.54122218, -0.93398201,\n       -0.84274961,  0.39898093,  0.60046271,  0.70292445,  0.41170655,\n       -0.91671967,  0.31442358, -0.20711017, -0.35137746, -0.16125929,\n        0.79198007, -0.43881693, -0.47349569,  0.92248315,  0.13882088,\n        0.11016049,  0.13730645, -0.5858138 , -0.82226219, -0.29756463,\n        0.06955561,  0.66316467,  0.31449355, -0.25518093,  0.2392849 ,\n       -0.88285472, -0.14864951,  0.01751151,  0.71681915,  0.156237  ,\n        0.13312995,  0.4041881 , -0.48338316,  0.86382289, -0.55586972,\n        0.3339742 , -0.89218112,  0.3120305 , -0.29051597, -0.22096135,\n        0.38017236, -0.49757822,  0.56483008, -0.92170802,  0.52713317,\n        0.00683755,  0.03325357, -0.87631278,  0.91548674,  0.42257242,\n       -0.83835249,  0.80200011, -0.41594547, -0.64467651, -0.7541143 ])"
     },
     "execution_count": 298,
     "metadata": {},
     "output_type": "execute_result"
    }
   ],
   "source": [
    "Z = np.random.randint(0, 2, 100)\n",
    "np.logical_not(Z, out = Z)\n",
    "\n",
    "Z = np.random.uniform(-1.0, 1.0, 100)\n",
    "np.negative(Z, out = Z)"
   ]
  },
  {
   "cell_type": "markdown",
   "id": "119ab5af",
   "metadata": {},
   "source": [
    "#### 78. Consider 2 sets of points P0,P1 describing lines (2d) and a point p, how to compute distance from p to each line i (P0[i],P1[i])? (★★★)"
   ]
  },
  {
   "cell_type": "code",
   "execution_count": 299,
   "id": "1d8d06dc",
   "metadata": {
    "ExecuteTime": {
     "end_time": "2023-11-20T15:21:32.969963700Z",
     "start_time": "2023-11-20T15:21:25.109641300Z"
    }
   },
   "outputs": [
    {
     "name": "stdout",
     "output_type": "stream",
     "text": [
      "[ 6.70656602  0.81202196  0.12394462  8.62867072  9.33757584  6.84678457\n",
      " 12.28140464  3.8073282   3.82128462  3.96444602]\n"
     ]
    }
   ],
   "source": [
    "def distance(P0, P1, p):\n",
    "    T = P1 - P0\n",
    "    L = (T**2).sum(axis=1)\n",
    "    U = -((P0[:,0]-p[...,0])*T[:,0] + (P0[:,1]-p[...,1])*T[:,1]) / L\n",
    "    U = U.reshape(len(U),1)\n",
    "    D = P0 + U*T - p\n",
    "    return np.sqrt((D**2).sum(axis=1))\n",
    "\n",
    "P0 = np.random.uniform(-10,10,(10,2))\n",
    "P1 = np.random.uniform(-10,10,(10,2))\n",
    "p  = np.random.uniform(-10,10,( 1,2))\n",
    "print(distance(P0, P1, p))"
   ]
  },
  {
   "cell_type": "markdown",
   "id": "e5e7f323",
   "metadata": {},
   "source": [
    "#### 79. Consider 2 sets of points P0,P1 describing lines (2d) and a set of points P, how to compute distance from each point j (P[j]) to each line i (P0[i],P1[i])? (★★★)"
   ]
  },
  {
   "cell_type": "code",
   "execution_count": 300,
   "id": "d0ce77e2",
   "metadata": {
    "ExecuteTime": {
     "end_time": "2023-11-20T15:21:33.004377700Z",
     "start_time": "2023-11-20T15:21:25.160782300Z"
    }
   },
   "outputs": [
    {
     "name": "stdout",
     "output_type": "stream",
     "text": [
      "[[ 7.36135368  0.33120213  2.78875344  5.66690308  5.67694121  3.45391935\n",
      "   8.25609517  7.47630145  1.85989396  0.92108819]\n",
      " [ 6.04498306  2.23739139  5.74221907 11.51117151 10.47331012  5.60152089\n",
      "   6.54937487  6.87407007  7.25300387  5.78824443]\n",
      " [ 8.92211131  0.49937931  3.32664841 13.63218132 13.16529675  2.93025623\n",
      "   9.33667856  9.88579853  9.67076795  8.45267287]\n",
      " [11.16701819  3.41588052  0.76549718  7.14839397  8.06652146  0.25924377\n",
      "  12.02677226 11.30928982  3.79518708  3.26291281]\n",
      " [ 8.84922507  1.74732742  0.33471595  0.14685696  0.95618844  1.13406233\n",
      "  10.13503485  8.24713806  3.48057928  3.87291351]\n",
      " [ 5.51139241  2.24846717  4.78717205  5.94472233  5.39812846  5.39443879\n",
      "   6.35995795  5.72665915  1.87092988  0.67400982]\n",
      " [ 1.56901482  4.77116899  4.62867371  9.74989875  9.60264044  7.31810895\n",
      "   3.35030693  0.14414047 13.63847343 14.39817442]\n",
      " [ 4.24748776 11.27012859 12.2425288   3.97045152  6.13963496 14.08555405\n",
      "   2.92198049  4.79849828  8.92487325 10.79350895]\n",
      " [ 4.9149731   1.73494837  2.2335099   5.7567298   5.12167119  4.41886037\n",
      "   6.4951565   3.82039951  9.3708423   9.93622155]\n",
      " [ 0.97820806  8.97617092 11.80321881  6.94018282  4.43853273 12.20454967\n",
      "   0.29294811  0.40864901  1.9295573   0.17408456]]\n"
     ]
    }
   ],
   "source": [
    "P0 = np.random.uniform(-10, 10, (10,2))\n",
    "P1 = np.random.uniform(-10,10,(10,2))\n",
    "p = np.random.uniform(-10, 10, (10,2))\n",
    "print(np.array([distance(P0,P1,p_i) for p_i in p]))"
   ]
  },
  {
   "cell_type": "markdown",
   "id": "9b9d03eb",
   "metadata": {},
   "source": [
    "#### 80. Consider an arbitrary array, write a function that extract a subpart with a fixed shape and centered on a given element (pad with a `fill` value when necessary) (★★★)"
   ]
  },
  {
   "cell_type": "code",
   "execution_count": 301,
   "id": "ec2b7ae3",
   "metadata": {
    "ExecuteTime": {
     "end_time": "2023-11-20T15:21:33.047613400Z",
     "start_time": "2023-11-20T15:21:25.211279Z"
    }
   },
   "outputs": [],
   "source": [
    "#---"
   ]
  },
  {
   "cell_type": "markdown",
   "id": "27794913",
   "metadata": {},
   "source": [
    "#### 81. Consider an array Z = [1,2,3,4,5,6,7,8,9,10,11,12,13,14], how to generate an array R = [[1,2,3,4], [2,3,4,5], [3,4,5,6], ..., [11,12,13,14]]? (★★★)"
   ]
  },
  {
   "cell_type": "code",
   "execution_count": 302,
   "id": "f3e7878b",
   "metadata": {
    "ExecuteTime": {
     "end_time": "2023-11-20T15:21:33.114935500Z",
     "start_time": "2023-11-20T15:21:25.260660300Z"
    }
   },
   "outputs": [
    {
     "name": "stdout",
     "output_type": "stream",
     "text": [
      "[[ 1  2  3  4]\n",
      " [ 2  3  4  5]\n",
      " [ 3  4  5  6]\n",
      " [ 4  5  6  7]\n",
      " [ 5  6  7  8]\n",
      " [ 6  7  8  9]\n",
      " [ 7  8  9 10]\n",
      " [ 8  9 10 11]\n",
      " [ 9 10 11 12]\n",
      " [10 11 12 13]\n",
      " [11 12 13 14]]\n"
     ]
    }
   ],
   "source": [
    "Z = np.arange(1,15,dtype = np.uint32)\n",
    "R = stride_tricks.as_strided(Z, (11, 4), (4, 4))\n",
    "print(R)"
   ]
  },
  {
   "cell_type": "markdown",
   "id": "fae786f5",
   "metadata": {},
   "source": [
    "#### 82. Compute a matrix rank (★★★)"
   ]
  },
  {
   "cell_type": "code",
   "execution_count": 303,
   "id": "64b9615b",
   "metadata": {
    "ExecuteTime": {
     "end_time": "2023-11-20T15:21:33.181048500Z",
     "start_time": "2023-11-20T15:21:25.317178600Z"
    }
   },
   "outputs": [
    {
     "name": "stdout",
     "output_type": "stream",
     "text": [
      "10\n"
     ]
    }
   ],
   "source": [
    "Z = np.random.uniform(0,1,(10,10))\n",
    "U, S, V = np.linalg.svd(Z)  \n",
    "rank = np.sum(S > 1e-10)\n",
    "print(rank)"
   ]
  },
  {
   "cell_type": "markdown",
   "id": "c85aa0b9",
   "metadata": {},
   "source": [
    "#### 83. How to find the most frequent value in an array?"
   ]
  },
  {
   "cell_type": "code",
   "execution_count": 304,
   "id": "056be85b",
   "metadata": {
    "ExecuteTime": {
     "end_time": "2023-11-20T15:21:33.227108100Z",
     "start_time": "2023-11-20T15:21:25.366726Z"
    }
   },
   "outputs": [
    {
     "name": "stdout",
     "output_type": "stream",
     "text": [
      "1\n"
     ]
    }
   ],
   "source": [
    "Z = np.random.randint(0,10,50)\n",
    "print(np.bincount(Z).argmax())"
   ]
  },
  {
   "cell_type": "markdown",
   "id": "0ff2344d",
   "metadata": {},
   "source": [
    "#### 84. Extract all the contiguous 3x3 blocks from a random 10x10 matrix (★★★)"
   ]
  },
  {
   "cell_type": "code",
   "execution_count": 305,
   "id": "d58b1318",
   "metadata": {
    "ExecuteTime": {
     "end_time": "2023-11-20T15:21:33.274868300Z",
     "start_time": "2023-11-20T15:21:25.414854900Z"
    }
   },
   "outputs": [
    {
     "name": "stdout",
     "output_type": "stream",
     "text": [
      "[[[[1 4 0]\n",
      "   [3 4 3]\n",
      "   [4 2 3]]\n",
      "\n",
      "  [[4 0 2]\n",
      "   [4 3 1]\n",
      "   [2 3 2]]\n",
      "\n",
      "  [[0 2 3]\n",
      "   [3 1 4]\n",
      "   [3 2 0]]\n",
      "\n",
      "  [[2 3 0]\n",
      "   [1 4 2]\n",
      "   [2 0 0]]\n",
      "\n",
      "  [[3 0 3]\n",
      "   [4 2 1]\n",
      "   [0 0 2]]\n",
      "\n",
      "  [[0 3 2]\n",
      "   [2 1 3]\n",
      "   [0 2 2]]\n",
      "\n",
      "  [[3 2 1]\n",
      "   [1 3 4]\n",
      "   [2 2 2]]\n",
      "\n",
      "  [[2 1 4]\n",
      "   [3 4 2]\n",
      "   [2 2 4]]]\n",
      "\n",
      "\n",
      " [[[3 4 3]\n",
      "   [4 2 3]\n",
      "   [1 1 2]]\n",
      "\n",
      "  [[4 3 1]\n",
      "   [2 3 2]\n",
      "   [1 2 2]]\n",
      "\n",
      "  [[3 1 4]\n",
      "   [3 2 0]\n",
      "   [2 2 4]]\n",
      "\n",
      "  [[1 4 2]\n",
      "   [2 0 0]\n",
      "   [2 4 2]]\n",
      "\n",
      "  [[4 2 1]\n",
      "   [0 0 2]\n",
      "   [4 2 0]]\n",
      "\n",
      "  [[2 1 3]\n",
      "   [0 2 2]\n",
      "   [2 0 3]]\n",
      "\n",
      "  [[1 3 4]\n",
      "   [2 2 2]\n",
      "   [0 3 3]]\n",
      "\n",
      "  [[3 4 2]\n",
      "   [2 2 4]\n",
      "   [3 3 2]]]\n",
      "\n",
      "\n",
      " [[[4 2 3]\n",
      "   [1 1 2]\n",
      "   [1 1 4]]\n",
      "\n",
      "  [[2 3 2]\n",
      "   [1 2 2]\n",
      "   [1 4 1]]\n",
      "\n",
      "  [[3 2 0]\n",
      "   [2 2 4]\n",
      "   [4 1 3]]\n",
      "\n",
      "  [[2 0 0]\n",
      "   [2 4 2]\n",
      "   [1 3 4]]\n",
      "\n",
      "  [[0 0 2]\n",
      "   [4 2 0]\n",
      "   [3 4 2]]\n",
      "\n",
      "  [[0 2 2]\n",
      "   [2 0 3]\n",
      "   [4 2 0]]\n",
      "\n",
      "  [[2 2 2]\n",
      "   [0 3 3]\n",
      "   [2 0 4]]\n",
      "\n",
      "  [[2 2 4]\n",
      "   [3 3 2]\n",
      "   [0 4 3]]]\n",
      "\n",
      "\n",
      " [[[1 1 2]\n",
      "   [1 1 4]\n",
      "   [0 1 4]]\n",
      "\n",
      "  [[1 2 2]\n",
      "   [1 4 1]\n",
      "   [1 4 0]]\n",
      "\n",
      "  [[2 2 4]\n",
      "   [4 1 3]\n",
      "   [4 0 4]]\n",
      "\n",
      "  [[2 4 2]\n",
      "   [1 3 4]\n",
      "   [0 4 4]]\n",
      "\n",
      "  [[4 2 0]\n",
      "   [3 4 2]\n",
      "   [4 4 2]]\n",
      "\n",
      "  [[2 0 3]\n",
      "   [4 2 0]\n",
      "   [4 2 0]]\n",
      "\n",
      "  [[0 3 3]\n",
      "   [2 0 4]\n",
      "   [2 0 2]]\n",
      "\n",
      "  [[3 3 2]\n",
      "   [0 4 3]\n",
      "   [0 2 4]]]\n",
      "\n",
      "\n",
      " [[[1 1 4]\n",
      "   [0 1 4]\n",
      "   [0 1 2]]\n",
      "\n",
      "  [[1 4 1]\n",
      "   [1 4 0]\n",
      "   [1 2 0]]\n",
      "\n",
      "  [[4 1 3]\n",
      "   [4 0 4]\n",
      "   [2 0 4]]\n",
      "\n",
      "  [[1 3 4]\n",
      "   [0 4 4]\n",
      "   [0 4 3]]\n",
      "\n",
      "  [[3 4 2]\n",
      "   [4 4 2]\n",
      "   [4 3 1]]\n",
      "\n",
      "  [[4 2 0]\n",
      "   [4 2 0]\n",
      "   [3 1 0]]\n",
      "\n",
      "  [[2 0 4]\n",
      "   [2 0 2]\n",
      "   [1 0 0]]\n",
      "\n",
      "  [[0 4 3]\n",
      "   [0 2 4]\n",
      "   [0 0 1]]]\n",
      "\n",
      "\n",
      " [[[0 1 4]\n",
      "   [0 1 2]\n",
      "   [1 0 2]]\n",
      "\n",
      "  [[1 4 0]\n",
      "   [1 2 0]\n",
      "   [0 2 0]]\n",
      "\n",
      "  [[4 0 4]\n",
      "   [2 0 4]\n",
      "   [2 0 1]]\n",
      "\n",
      "  [[0 4 4]\n",
      "   [0 4 3]\n",
      "   [0 1 0]]\n",
      "\n",
      "  [[4 4 2]\n",
      "   [4 3 1]\n",
      "   [1 0 0]]\n",
      "\n",
      "  [[4 2 0]\n",
      "   [3 1 0]\n",
      "   [0 0 2]]\n",
      "\n",
      "  [[2 0 2]\n",
      "   [1 0 0]\n",
      "   [0 2 3]]\n",
      "\n",
      "  [[0 2 4]\n",
      "   [0 0 1]\n",
      "   [2 3 0]]]\n",
      "\n",
      "\n",
      " [[[0 1 2]\n",
      "   [1 0 2]\n",
      "   [1 1 3]]\n",
      "\n",
      "  [[1 2 0]\n",
      "   [0 2 0]\n",
      "   [1 3 0]]\n",
      "\n",
      "  [[2 0 4]\n",
      "   [2 0 1]\n",
      "   [3 0 2]]\n",
      "\n",
      "  [[0 4 3]\n",
      "   [0 1 0]\n",
      "   [0 2 0]]\n",
      "\n",
      "  [[4 3 1]\n",
      "   [1 0 0]\n",
      "   [2 0 1]]\n",
      "\n",
      "  [[3 1 0]\n",
      "   [0 0 2]\n",
      "   [0 1 2]]\n",
      "\n",
      "  [[1 0 0]\n",
      "   [0 2 3]\n",
      "   [1 2 1]]\n",
      "\n",
      "  [[0 0 1]\n",
      "   [2 3 0]\n",
      "   [2 1 1]]]\n",
      "\n",
      "\n",
      " [[[1 0 2]\n",
      "   [1 1 3]\n",
      "   [0 0 4]]\n",
      "\n",
      "  [[0 2 0]\n",
      "   [1 3 0]\n",
      "   [0 4 4]]\n",
      "\n",
      "  [[2 0 1]\n",
      "   [3 0 2]\n",
      "   [4 4 1]]\n",
      "\n",
      "  [[0 1 0]\n",
      "   [0 2 0]\n",
      "   [4 1 1]]\n",
      "\n",
      "  [[1 0 0]\n",
      "   [2 0 1]\n",
      "   [1 1 3]]\n",
      "\n",
      "  [[0 0 2]\n",
      "   [0 1 2]\n",
      "   [1 3 1]]\n",
      "\n",
      "  [[0 2 3]\n",
      "   [1 2 1]\n",
      "   [3 1 0]]\n",
      "\n",
      "  [[2 3 0]\n",
      "   [2 1 1]\n",
      "   [1 0 3]]]]\n"
     ]
    }
   ],
   "source": [
    "Z = np.random.randint(0,5,(10,10))\n",
    "n = 3\n",
    "i = 1 + (Z.shape[0]-3)\n",
    "j = 1 + (Z.shape[1]-3)\n",
    "C = stride_tricks.as_strided(Z, shape=(i, j, n, n), strides=Z.strides + Z.strides)\n",
    "print(C)\n"
   ]
  },
  {
   "cell_type": "markdown",
   "id": "1a18b263",
   "metadata": {},
   "source": [
    "#### 85. Create a 2D array subclass such that Z[i,j] == Z[j,i] (★★★)"
   ]
  },
  {
   "cell_type": "code",
   "execution_count": 306,
   "id": "87f17adc",
   "metadata": {
    "ExecuteTime": {
     "end_time": "2023-11-20T15:21:33.312431Z",
     "start_time": "2023-11-20T15:21:25.465833900Z"
    }
   },
   "outputs": [
    {
     "name": "stdout",
     "output_type": "stream",
     "text": [
      "[[ 9 12 11 10 12]\n",
      " [12  6  4 15  8]\n",
      " [11  4  8 42  6]\n",
      " [10 15 42  6 10]\n",
      " [12  8  6 10  0]]\n"
     ]
    }
   ],
   "source": [
    "class Symetric(np.ndarray):\n",
    "    def __setitem__(self, index, value):\n",
    "        i,j = index\n",
    "        super(Symetric, self).__setitem__((i,j), value)\n",
    "        super(Symetric, self).__setitem__((j,i), value)\n",
    "\n",
    "def symetric(Z):\n",
    "    return np.asarray(Z + Z.T - np.diag(Z.diagonal())).view(Symetric)\n",
    "\n",
    "S = symetric(np.random.randint(0,10,(5,5)))\n",
    "S[2,3] = 42\n",
    "print(S)"
   ]
  },
  {
   "cell_type": "markdown",
   "id": "f85f2cad",
   "metadata": {},
   "source": [
    "#### 86. Consider a set of p matrices wich shape (n,n) and a set of p vectors with shape (n,1). How to compute the sum of of the p matrix products at once? (result has shape (n,1)) (★★★)"
   ]
  },
  {
   "cell_type": "code",
   "execution_count": 307,
   "id": "8d230557",
   "metadata": {
    "ExecuteTime": {
     "end_time": "2023-11-20T15:21:33.330476600Z",
     "start_time": "2023-11-20T15:21:25.515632700Z"
    }
   },
   "outputs": [
    {
     "name": "stdout",
     "output_type": "stream",
     "text": [
      "[[200.]\n",
      " [200.]\n",
      " [200.]\n",
      " [200.]\n",
      " [200.]\n",
      " [200.]\n",
      " [200.]\n",
      " [200.]\n",
      " [200.]\n",
      " [200.]\n",
      " [200.]\n",
      " [200.]\n",
      " [200.]\n",
      " [200.]\n",
      " [200.]\n",
      " [200.]\n",
      " [200.]\n",
      " [200.]\n",
      " [200.]\n",
      " [200.]]\n"
     ]
    }
   ],
   "source": [
    "p, n = 10, 20\n",
    "M = np.ones((p,n,n))\n",
    "V = np.ones((p,n,1))\n",
    "S = np.tensordot(M, V, axes=[[0, 2], [0, 1]])\n",
    "print(S)"
   ]
  },
  {
   "cell_type": "markdown",
   "id": "5afb72c8",
   "metadata": {},
   "source": [
    "#### 87. Consider a 16x16 array, how to get the block-sum (block size is 4x4)? (★★★)"
   ]
  },
  {
   "cell_type": "code",
   "execution_count": 308,
   "id": "e86f47a9",
   "metadata": {
    "ExecuteTime": {
     "end_time": "2023-11-20T15:21:33.395172500Z",
     "start_time": "2023-11-20T15:21:25.552408200Z"
    }
   },
   "outputs": [
    {
     "name": "stdout",
     "output_type": "stream",
     "text": [
      "[[16. 16. 16. 16.]\n",
      " [16. 16. 16. 16.]\n",
      " [16. 16. 16. 16.]\n",
      " [16. 16. 16. 16.]]\n"
     ]
    }
   ],
   "source": [
    "Z = np.ones((16,16))\n",
    "k = 4\n",
    "S = np.add.reduceat(np.add.reduceat(Z, np.arange(0, Z.shape[0], k), axis=0),\n",
    "                                       np.arange(0, Z.shape[1], k), axis=1)\n",
    "print(S)"
   ]
  },
  {
   "cell_type": "markdown",
   "id": "6094d37c",
   "metadata": {},
   "source": [
    "#### 88. How to implement the Game of Life using numpy arrays? (★★★)"
   ]
  },
  {
   "cell_type": "code",
   "execution_count": 309,
   "id": "a93e715f",
   "metadata": {
    "ExecuteTime": {
     "end_time": "2023-11-20T15:21:33.446860100Z",
     "start_time": "2023-11-20T15:21:25.593040300Z"
    }
   },
   "outputs": [
    {
     "name": "stdout",
     "output_type": "stream",
     "text": [
      "[[0 0 0 0 0 0 0 0 0 0 0 0 0 0 0 0 0 0 0 0 0 0 0 0 0 0 0 0 0 0 0 0 0 0 0 0\n",
      "  0 0 0 0 0 0 0 0 0 0 0 0 0 0]\n",
      " [0 0 0 0 0 0 0 0 0 0 0 0 0 0 0 0 0 1 1 0 0 0 0 0 0 0 0 0 0 0 0 1 1 1 0 0\n",
      "  0 0 0 0 0 0 0 0 0 0 0 0 0 0]\n",
      " [0 0 0 0 0 0 0 0 0 0 0 0 0 0 0 0 0 1 1 0 0 0 0 0 0 0 0 0 0 0 0 1 0 0 1 0\n",
      "  0 0 0 0 0 0 0 0 0 0 0 0 0 0]\n",
      " [0 0 0 0 0 0 0 0 0 0 0 0 0 0 0 0 0 0 0 0 0 1 1 0 0 0 0 0 0 0 0 0 1 1 0 0\n",
      "  0 0 0 0 0 0 0 0 0 1 1 0 0 0]\n",
      " [0 0 0 0 0 0 0 0 0 0 0 1 0 0 0 0 0 0 0 0 0 1 1 0 0 0 0 0 0 0 0 0 0 0 0 0\n",
      "  0 0 0 0 0 0 0 0 1 0 0 1 0 0]\n",
      " [0 0 0 0 0 0 0 0 0 0 1 1 0 0 0 0 0 0 0 0 0 0 0 0 0 0 0 0 0 0 0 0 0 0 0 0\n",
      "  0 0 0 0 0 0 0 0 1 0 1 0 0 0]\n",
      " [0 0 0 0 0 0 0 0 0 1 0 1 0 0 0 0 0 0 0 0 0 0 0 0 0 0 0 0 0 0 0 0 0 0 0 0\n",
      "  0 0 0 0 0 0 0 0 0 1 0 0 0 0]\n",
      " [0 0 0 0 0 0 0 0 0 0 0 0 0 0 0 0 0 0 0 0 0 0 0 0 0 0 0 0 0 0 0 0 0 0 0 0\n",
      "  0 0 0 0 0 0 0 0 0 0 0 0 0 0]\n",
      " [0 0 0 0 0 0 0 0 0 1 0 0 0 0 0 1 0 0 0 0 0 0 0 0 0 0 0 0 0 0 0 0 0 0 0 0\n",
      "  0 0 0 0 0 0 0 0 0 0 0 0 0 0]\n",
      " [0 0 0 0 0 0 0 0 0 1 1 0 0 0 0 1 0 0 0 0 0 0 0 0 0 0 0 0 0 0 0 0 0 0 0 0\n",
      "  0 0 0 0 0 0 0 0 0 0 0 0 0 0]\n",
      " [0 0 0 0 0 0 0 0 0 0 0 0 0 0 1 0 1 0 0 0 0 0 0 0 0 0 0 0 0 0 0 0 0 0 0 0\n",
      "  0 0 0 0 0 0 0 0 0 0 0 0 0 0]\n",
      " [0 0 0 0 0 0 0 0 0 0 0 0 0 1 0 1 0 0 0 0 0 0 0 0 0 0 0 0 0 0 0 0 0 0 0 0\n",
      "  0 0 0 0 0 0 0 0 0 0 0 0 0 0]\n",
      " [0 0 0 0 0 0 0 0 0 0 0 0 0 1 1 1 0 0 0 0 0 0 0 0 0 0 0 0 0 0 0 0 0 0 0 0\n",
      "  0 0 0 0 0 1 1 0 0 0 0 0 0 0]\n",
      " [0 0 0 0 0 0 0 0 0 0 0 1 0 1 1 0 0 0 0 0 0 0 0 0 0 0 0 0 0 0 0 0 0 0 0 0\n",
      "  0 0 0 0 1 0 1 0 0 0 0 0 0 0]\n",
      " [0 0 0 0 0 0 0 0 0 1 1 0 0 0 0 0 0 0 0 0 0 1 0 0 0 0 0 0 0 0 0 0 0 0 0 0\n",
      "  0 0 0 1 0 1 0 0 0 0 0 0 0 0]\n",
      " [0 0 0 0 0 0 0 0 0 0 0 0 1 0 0 0 0 0 0 0 1 0 1 0 0 0 0 0 0 0 0 0 0 0 0 0\n",
      "  0 0 0 0 1 0 0 0 0 0 0 0 0 0]\n",
      " [0 0 0 0 0 0 0 0 0 0 0 1 1 1 0 0 0 0 0 1 0 0 1 0 0 0 0 0 0 0 0 0 0 0 0 0\n",
      "  0 0 0 0 0 0 0 0 0 0 0 0 0 0]\n",
      " [0 0 0 0 0 0 0 0 0 0 0 0 0 0 0 0 0 0 0 1 0 1 0 0 0 1 1 0 0 0 0 0 0 0 0 0\n",
      "  0 0 0 0 0 0 0 0 0 0 0 0 0 0]\n",
      " [0 0 0 0 0 0 0 0 0 0 0 0 0 0 0 0 0 0 0 0 1 0 0 0 0 1 1 0 0 0 0 0 0 0 0 0\n",
      "  0 0 0 0 0 0 0 0 0 0 0 0 0 0]\n",
      " [0 0 0 0 0 1 1 1 0 0 0 0 0 0 0 0 0 0 0 0 0 0 0 0 0 0 0 0 0 0 0 0 0 0 0 0\n",
      "  0 0 0 0 0 1 1 0 0 0 0 0 0 0]\n",
      " [0 0 0 0 0 0 0 0 0 0 0 0 0 0 0 0 0 0 0 0 0 0 0 0 0 0 0 1 1 0 0 0 0 0 0 1\n",
      "  1 1 0 0 0 1 1 0 0 0 0 0 0 0]\n",
      " [0 0 0 1 0 0 0 0 0 1 0 0 0 0 0 0 0 0 0 0 0 0 0 0 0 0 1 0 0 0 1 0 0 0 0 0\n",
      "  1 1 0 0 0 0 0 0 0 0 0 0 0 0]\n",
      " [0 0 0 1 0 0 0 0 0 1 0 0 0 0 0 0 0 0 0 0 0 0 0 0 0 0 1 0 0 0 1 1 0 0 0 0\n",
      "  1 0 1 0 0 0 0 0 0 0 0 0 0 0]\n",
      " [0 0 0 1 0 0 0 0 0 1 0 0 0 0 0 0 0 0 0 0 0 0 1 1 1 0 0 1 1 0 1 1 1 0 0 0\n",
      "  0 1 1 1 0 0 0 0 0 0 0 0 0 0]\n",
      " [0 0 0 0 0 0 0 0 0 0 0 0 0 0 0 0 0 0 0 0 0 0 1 1 0 0 0 1 1 0 1 1 0 1 1 0\n",
      "  1 0 0 0 1 0 0 0 0 0 0 0 0 0]\n",
      " [0 0 0 0 0 1 1 1 0 0 0 0 0 0 1 1 0 0 1 0 0 0 0 0 1 0 0 1 0 1 0 1 1 1 1 0\n",
      "  1 0 1 1 0 0 0 0 0 1 0 0 0 0]\n",
      " [0 0 0 0 0 0 0 0 0 0 0 0 0 0 1 0 0 1 0 1 1 0 0 0 0 0 0 0 1 1 1 0 0 1 0 0\n",
      "  0 1 1 0 0 0 0 0 0 1 0 0 0 0]\n",
      " [0 0 0 0 0 0 0 0 0 0 0 0 0 0 1 1 1 0 0 1 0 0 0 0 0 0 0 0 0 1 0 0 0 1 1 1\n",
      "  1 0 0 0 0 0 0 0 0 1 0 0 0 0]\n",
      " [0 0 0 0 0 0 0 0 0 0 0 0 0 0 0 0 1 1 0 1 1 0 0 0 0 0 0 0 0 0 0 0 0 0 1 0\n",
      "  0 0 0 0 0 0 0 0 0 0 0 0 0 0]\n",
      " [0 0 0 0 0 0 0 0 0 0 0 0 0 0 0 0 0 1 0 0 0 0 0 0 0 0 0 0 0 0 0 0 0 0 0 0\n",
      "  0 0 0 0 0 0 0 0 0 0 0 0 0 0]\n",
      " [0 0 0 0 0 0 0 0 0 0 0 0 0 0 0 0 0 0 0 1 0 0 0 0 0 0 0 0 0 0 0 0 0 0 0 0\n",
      "  0 0 0 0 0 0 0 0 0 0 0 0 0 0]\n",
      " [0 0 0 0 0 0 0 0 0 0 0 0 0 0 0 0 0 1 0 1 0 0 0 0 0 0 0 0 0 0 0 0 0 0 0 0\n",
      "  0 0 0 0 0 0 0 0 0 0 0 0 0 0]\n",
      " [0 0 0 0 0 0 0 0 0 0 0 0 0 0 0 0 0 1 1 0 0 0 0 0 0 0 0 0 0 0 0 0 0 0 0 0\n",
      "  0 0 0 0 0 0 0 0 0 0 0 0 0 0]\n",
      " [0 0 0 0 0 0 0 0 1 0 0 0 0 0 0 0 0 0 0 0 0 0 0 0 0 0 0 0 0 0 0 0 0 0 0 0\n",
      "  0 0 0 0 0 0 0 0 0 0 0 0 0 0]\n",
      " [0 0 0 0 0 0 0 1 0 0 0 0 0 1 0 0 0 0 0 0 0 0 0 0 0 0 0 0 1 1 0 0 0 0 0 0\n",
      "  0 0 0 0 0 0 0 0 0 0 0 0 0 0]\n",
      " [0 0 0 0 0 0 0 1 0 0 0 0 0 1 0 0 0 0 0 0 0 0 0 0 0 0 0 0 1 1 0 0 0 0 0 0\n",
      "  0 0 0 0 0 0 0 0 0 0 0 0 0 0]\n",
      " [0 0 0 0 0 0 0 1 0 0 0 0 0 0 0 1 0 0 0 0 0 0 0 0 0 0 0 0 0 0 0 0 0 0 0 0\n",
      "  0 0 0 0 0 0 0 0 0 0 0 0 0 0]\n",
      " [0 0 0 0 0 0 0 0 0 0 1 0 1 0 0 0 1 0 0 0 0 0 0 0 0 0 0 0 0 0 0 0 0 0 0 0\n",
      "  0 0 0 0 0 0 0 0 0 0 0 0 0 0]\n",
      " [0 0 0 0 0 0 0 0 0 1 1 0 1 0 0 0 1 0 0 0 0 0 0 0 0 0 0 0 0 0 0 0 0 0 0 0\n",
      "  0 0 0 0 0 0 0 0 0 0 0 0 0 0]\n",
      " [0 0 0 0 0 0 0 0 0 0 0 0 0 1 1 1 1 0 0 0 0 0 0 0 0 0 0 0 0 0 0 0 0 0 0 0\n",
      "  0 0 0 0 0 0 0 0 0 0 0 0 0 0]\n",
      " [0 0 0 0 0 0 0 0 0 0 0 0 0 0 0 0 0 0 0 0 0 0 0 0 0 0 0 0 0 0 0 0 0 0 0 0\n",
      "  0 0 0 0 0 0 0 0 0 0 1 1 0 0]\n",
      " [0 0 0 0 0 0 0 0 0 0 0 0 0 0 0 0 0 0 0 0 0 0 0 0 0 0 0 0 0 0 0 0 0 0 0 0\n",
      "  0 0 0 0 0 0 0 0 0 0 1 0 1 0]\n",
      " [0 0 0 0 0 0 0 0 0 1 0 1 0 0 0 0 0 0 0 0 0 0 0 0 0 0 0 0 0 0 0 0 0 0 0 0\n",
      "  0 0 0 0 0 0 0 0 0 0 0 0 1 0]\n",
      " [0 0 0 1 1 0 0 0 1 1 0 0 1 0 0 0 0 0 0 0 0 0 0 0 0 0 0 0 0 0 0 0 0 0 0 0\n",
      "  0 0 0 0 0 0 0 0 0 0 1 0 1 0]\n",
      " [0 0 1 1 0 0 0 1 0 0 0 1 0 0 0 0 0 0 0 0 0 0 0 0 0 0 0 0 0 0 0 0 0 0 0 0\n",
      "  0 0 0 0 0 0 0 0 0 0 1 1 0 0]\n",
      " [0 1 0 1 0 0 0 0 0 0 0 0 0 0 0 0 0 0 0 0 0 0 0 0 0 0 0 0 0 0 0 0 0 0 0 0\n",
      "  0 0 0 0 0 0 0 0 0 0 0 0 0 0]\n",
      " [0 1 1 1 0 0 0 0 0 0 0 0 0 0 0 0 0 0 0 0 0 0 0 0 0 0 0 0 0 0 0 0 0 0 0 0\n",
      "  0 0 0 0 0 0 0 0 0 0 0 0 0 0]\n",
      " [0 1 0 0 1 0 0 0 0 0 0 0 0 0 0 0 0 0 0 0 0 0 0 0 0 0 0 0 0 0 0 0 0 0 0 0\n",
      "  0 0 0 0 0 0 0 0 0 0 0 0 0 0]\n",
      " [0 0 1 0 1 0 0 0 0 0 0 0 0 0 0 0 0 0 0 0 0 0 0 0 0 0 0 0 0 0 0 0 0 0 0 0\n",
      "  0 0 0 0 0 0 0 0 0 0 0 0 0 0]\n",
      " [0 0 0 0 0 0 0 0 0 0 0 0 0 0 0 0 0 0 0 0 0 0 0 0 0 0 0 0 0 0 0 0 0 0 0 0\n",
      "  0 0 0 0 0 0 0 0 0 0 0 0 0 0]]\n"
     ]
    }
   ],
   "source": [
    "def iterate(Z):\n",
    "    N = (Z[0:-2,0:-2] + Z[0:-2,1:-1] + Z[0:-2,2:] +\n",
    "         Z[1:-1,0:-2]                + Z[1:-1,2:] +\n",
    "         Z[2:  ,0:-2] + Z[2:  ,1:-1] + Z[2:  ,2:])\n",
    "\n",
    "    birth = (N==3) & (Z[1:-1,1:-1]==0)\n",
    "    survive = ((N==2) | (N==3)) & (Z[1:-1,1:-1]==1)\n",
    "    Z[...] = 0\n",
    "    Z[1:-1,1:-1][birth | survive] = 1\n",
    "    return Z\n",
    "\n",
    "Z = np.random.randint(0,2,(50,50))\n",
    "for i in range(100): Z = iterate(Z)\n",
    "print(Z)"
   ]
  },
  {
   "cell_type": "markdown",
   "id": "a173cf96",
   "metadata": {},
   "source": [
    "#### 89. How to get the n largest values of an array (★★★)"
   ]
  },
  {
   "cell_type": "code",
   "execution_count": 310,
   "id": "b7c2ff35",
   "metadata": {
    "ExecuteTime": {
     "end_time": "2023-11-20T15:21:33.493619600Z",
     "start_time": "2023-11-20T15:21:25.652948200Z"
    }
   },
   "outputs": [
    {
     "name": "stdout",
     "output_type": "stream",
     "text": [
      "[9995 9996 9997 9998 9999]\n"
     ]
    }
   ],
   "source": [
    "Z = np.arange(10000)\n",
    "np.random.shuffle(Z)\n",
    "n = 5\n",
    "\n",
    "print (Z[np.argsort(Z)[-n:]])\n"
   ]
  },
  {
   "cell_type": "markdown",
   "id": "15db2d01",
   "metadata": {},
   "source": [
    "#### 90. Given an arbitrary number of vectors, build the cartesian product (every combinations of every item) (★★★)"
   ]
  },
  {
   "cell_type": "code",
   "execution_count": 311,
   "id": "a9a4633d",
   "metadata": {
    "ExecuteTime": {
     "end_time": "2023-11-20T15:21:33.495434500Z",
     "start_time": "2023-11-20T15:21:25.667959Z"
    }
   },
   "outputs": [
    {
     "name": "stdout",
     "output_type": "stream",
     "text": [
      "[[1 4 6]\n",
      " [1 4 7]\n",
      " [1 5 6]\n",
      " [1 5 7]\n",
      " [2 4 6]\n",
      " [2 4 7]\n",
      " [2 5 6]\n",
      " [2 5 7]\n",
      " [3 4 6]\n",
      " [3 4 7]\n",
      " [3 5 6]\n",
      " [3 5 7]]\n"
     ]
    }
   ],
   "source": [
    "def cartesian(arrays):\n",
    "    arrays = [np.asarray(a) for a in arrays]\n",
    "    shape = (len(x) for x in arrays)\n",
    "\n",
    "    ix = np.indices(shape, dtype=int)\n",
    "    ix = ix.reshape(len(arrays), -1).T\n",
    "\n",
    "    for n, arr in enumerate(arrays):\n",
    "        ix[:, n] = arrays[n][ix[:, n]]\n",
    "\n",
    "    return ix\n",
    "\n",
    "print (cartesian(([1, 2, 3], [4, 5], [6, 7])))"
   ]
  },
  {
   "cell_type": "markdown",
   "id": "5d94d1ef",
   "metadata": {},
   "source": [
    "#### 91. How to create a record array from a regular array? (★★★)"
   ]
  },
  {
   "cell_type": "code",
   "execution_count": 312,
   "id": "b1dae380",
   "metadata": {
    "ExecuteTime": {
     "end_time": "2023-11-20T15:21:33.534656600Z",
     "start_time": "2023-11-20T15:21:25.708581100Z"
    }
   },
   "outputs": [
    {
     "name": "stdout",
     "output_type": "stream",
     "text": [
      "[(b'Hello', 2.5, 3) (b'World', 3.6, 2)]\n"
     ]
    }
   ],
   "source": [
    "Z = np.array([(\"Hello\", 2.5, 3),\n",
    "              (\"World\", 3.6, 2)])\n",
    "R = np.core.records.fromarrays(Z.T,\n",
    "                               names='col1, col2, col3',\n",
    "                               formats = 'S8, f8, i8')\n",
    "print(R)"
   ]
  },
  {
   "cell_type": "markdown",
   "id": "114ccc36",
   "metadata": {},
   "source": [
    "#### 92. Consider a large vector Z, compute Z to the power of 3 using 3 different methods (★★★)"
   ]
  },
  {
   "cell_type": "code",
   "execution_count": null,
   "id": "877c65d6",
   "metadata": {
    "is_executing": true,
    "ExecuteTime": {
     "start_time": "2023-11-20T15:21:25.746092600Z"
    }
   },
   "outputs": [
    {
     "name": "stdout",
     "output_type": "stream",
     "text": [
      "2.65 s ± 516 ms per loop (mean ± std. dev. of 7 runs, 1 loop each)\n"
     ]
    }
   ],
   "source": [
    "x = np.random.rand(int(5e7))\n",
    "\n",
    "%timeit np.power(x,3)\n",
    "%timeit x*x*x\n",
    "%timeit np.einsum('i,i,i->i',x,x,x)"
   ]
  },
  {
   "cell_type": "markdown",
   "id": "d614fee4",
   "metadata": {},
   "source": [
    "#### 93. Consider two arrays A and B of shape (8,3) and (2,2). How to find rows of A that contain elements of each row of B regardless of the order of the elements in B? (★★★)"
   ]
  },
  {
   "cell_type": "code",
   "execution_count": null,
   "id": "e6807a84",
   "metadata": {
    "is_executing": true
   },
   "outputs": [],
   "source": [
    "A = np.random.randint(0,5,(8,3))\n",
    "B = np.random.randint(0,5,(2,2))\n",
    "\n",
    "C = (A[..., np.newaxis, np.newaxis] == B)\n",
    "rows = np.where(C.any((3,1)).all(1))[0]\n",
    "print(rows)"
   ]
  },
  {
   "cell_type": "markdown",
   "id": "b0eedca6",
   "metadata": {},
   "source": [
    "#### 94. Considering a 10x3 matrix, extract rows with unequal values (e.g. [2,2,3]) (★★★)"
   ]
  },
  {
   "cell_type": "code",
   "execution_count": null,
   "id": "fc136ce2",
   "metadata": {
    "is_executing": true
   },
   "outputs": [],
   "source": [
    "Z = np.random.randint(0, 5, (10, 3))\n",
    "print(Z)\n",
    "E = np.all(Z[:,1:] == Z[:,:-1], axis = 1)\n",
    "U = Z[~E]\n",
    "print(U)\n"
   ]
  },
  {
   "cell_type": "markdown",
   "id": "a65ec1cf",
   "metadata": {},
   "source": [
    "#### 95. Convert a vector of ints into a matrix binary representation (★★★)"
   ]
  },
  {
   "cell_type": "code",
   "execution_count": null,
   "id": "323cdf4c",
   "metadata": {
    "is_executing": true
   },
   "outputs": [],
   "source": [
    "I = np.array([0, 1, 2, 3, 15, 16, 32, 64, 128])\n",
    "B = ((I.reshape(-1,1) & (2**np.arange(8))) != 0).astype(int)\n",
    "print(B[:,::-1])"
   ]
  },
  {
   "cell_type": "markdown",
   "id": "75b9397f",
   "metadata": {},
   "source": [
    "#### 96. Given a two dimensional array, how to extract unique rows? (★★★)"
   ]
  },
  {
   "cell_type": "code",
   "execution_count": null,
   "id": "9bb56a47",
   "metadata": {
    "is_executing": true
   },
   "outputs": [],
   "source": [
    "Z = np.random.randint(0,2,(6,3))\n",
    "T = np.ascontiguousarray(Z).view(np.dtype((np.void, Z.dtype.itemsize * Z.shape[1])))\n",
    "_, idx = np.unique(T, return_index = True)\n",
    "uZ = Z[idx]\n",
    "print(uZ)"
   ]
  },
  {
   "cell_type": "markdown",
   "id": "82aaf21b",
   "metadata": {},
   "source": [
    "#### 97. Considering 2 vectors A & B, write the einsum equivalent of inner, outer, sum, and mul function (★★★)"
   ]
  },
  {
   "cell_type": "code",
   "execution_count": null,
   "id": "cedcefd9",
   "metadata": {
    "is_executing": true
   },
   "outputs": [],
   "source": [
    "A = np.random.uniform(0,1,10)\n",
    "B = np.random.uniform(0,1,10)\n",
    "\n",
    "np.einsum('i->', A)        \n",
    "np.einsum('i,i->i', A, B)  \n",
    "np.einsum('i,i', A, B)     \n",
    "np.einsum('i,j->ij', A, B)    "
   ]
  },
  {
   "cell_type": "markdown",
   "id": "7741e17f",
   "metadata": {},
   "source": [
    "#### 98. Considering a path described by two vectors (X,Y), how to sample it using equidistant samples (★★★)?"
   ]
  },
  {
   "cell_type": "code",
   "execution_count": null,
   "id": "0b2432fe",
   "metadata": {
    "is_executing": true
   },
   "outputs": [],
   "source": [
    "phi = np.arange(0, 10 * np.pi, 0.1)\n",
    "a = 1\n",
    "x = a*phi*np.cos(phi)\n",
    "y = a*phi*np.sin(phi)\n",
    "\n",
    "dr = (np.diff(x) ** 2 + np.diff(y) ** 2) ** .5 \n",
    "r = np.zeros_like(x)\n",
    "r[1:] = np.cumsum(dr) \n",
    "r_int = np.linspace(0, r.max(), 200) \n",
    "x_int = np.interp(r_int, r, x)     \n",
    "y_int = np.interp(r_int, r, y)"
   ]
  },
  {
   "cell_type": "markdown",
   "id": "340d6f36",
   "metadata": {},
   "source": [
    "#### 99. Given an integer n and a 2D array X, select from X the rows which can be interpreted as draws from a multinomial distribution with n degrees, i.e., the rows which only contain integers and which sum to n. (★★★)"
   ]
  },
  {
   "cell_type": "code",
   "execution_count": null,
   "id": "a75323ae",
   "metadata": {
    "is_executing": true
   },
   "outputs": [],
   "source": [
    "X = np.asarray([[1.0, 0.0, 3.0, 8.0],\n",
    "                [2.0, 0.0, 1.0, 1.0],\n",
    "                [1.5, 2.5, 1.0, 0.0]])\n",
    "n = 4\n",
    "M = np.logical_and.reduce(np.mod(X, 1) == 0, axis=-1)\n",
    "M &= (X.sum(axis=-1) == n)\n",
    "print(X[M])"
   ]
  },
  {
   "cell_type": "markdown",
   "id": "19721849",
   "metadata": {},
   "source": [
    "#### 100. Compute bootstrapped 95% confidence intervals for the mean of a 1D array X (i.e., resample the elements of an array with replacement N times, compute the mean of each sample, and then compute percentiles over the means). (★★★)"
   ]
  },
  {
   "cell_type": "code",
   "execution_count": null,
   "id": "87309c6f",
   "metadata": {
    "is_executing": true
   },
   "outputs": [],
   "source": [
    "X = np.random.randn(100) \n",
    "N = 1000 \n",
    "\n",
    "idx = np.random.randint(0, X.size, (N, X.size))\n",
    "means = X[idx].mean(axis = 1)\n",
    "\n",
    "confint = np.percentile(means, [2.5, 97.5])\n",
    "print(confint)"
   ]
  },
  {
   "cell_type": "code",
   "execution_count": null,
   "outputs": [],
   "source": [],
   "metadata": {
    "collapsed": false,
    "is_executing": true
   },
   "id": "41b1e2f844161838"
  }
 ],
 "metadata": {
  "kernelspec": {
   "name": "python3",
   "language": "python",
   "display_name": "Python 3 (ipykernel)"
  }
 },
 "nbformat": 4,
 "nbformat_minor": 5
}
