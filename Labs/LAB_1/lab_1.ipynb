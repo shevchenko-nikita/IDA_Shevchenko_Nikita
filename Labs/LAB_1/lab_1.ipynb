{
 "cells": [
  {
   "cell_type": "markdown",
   "source": [
    "Імпортуємо пакет pandas"
   ],
   "metadata": {
    "collapsed": false
   },
   "id": "308b76115d3bd807"
  },
  {
   "cell_type": "code",
   "execution_count": 71,
   "outputs": [],
   "source": [
    "import pandas as pd\n",
    "import seaborn as sns\n",
    "import matplotlib.pyplot as pyplot"
   ],
   "metadata": {
    "collapsed": false,
    "ExecuteTime": {
     "end_time": "2023-11-10T11:39:25.483419500Z",
     "start_time": "2023-11-10T11:39:25.364252400Z"
    }
   },
   "id": "dc647436f42a7f86"
  },
  {
   "cell_type": "markdown",
   "source": [
    "Завантажую файли movies.dat, ratings.dat, users.dat у змінні за допомогою пакету pandas"
   ],
   "metadata": {
    "collapsed": false
   },
   "id": "926f4610fd1362cb"
  },
  {
   "cell_type": "code",
   "execution_count": 72,
   "outputs": [],
   "source": [
    "encoding = 'ISO-8859-1'\n",
    "\n",
    "movies_df = pd.read_csv('movies.dat', sep='::', names=['MovieID', 'Title', 'Genres'], encoding=encoding, engine='python')\n",
    "ratings_df = pd.read_csv('ratings.dat', sep='::', names=['UserID', 'MovieID', 'Rating', 'Timestamp'], encoding=encoding, engine='python')\n",
    "users_df = pd.read_csv('users.dat', sep='::', names=['UserID', 'Gender', 'Age', 'Occupation', 'ZIP_code'], encoding=encoding, engine='python')"
   ],
   "metadata": {
    "collapsed": false,
    "ExecuteTime": {
     "end_time": "2023-11-10T11:39:31.686721100Z",
     "start_time": "2023-11-10T11:39:25.384595600Z"
    }
   },
   "id": "7e66a86d90c0ced3"
  },
  {
   "cell_type": "markdown",
   "source": [
    "Робимо Merge в єдиний DataFrame"
   ],
   "metadata": {
    "collapsed": false
   },
   "id": "b5653a3fd0bc29f8"
  },
  {
   "cell_type": "code",
   "execution_count": 73,
   "outputs": [],
   "source": [
    "merged_df = pd.merge(movies_df, ratings_df, on='MovieID')\n",
    "merged_df = pd.merge(merged_df, users_df, on='UserID')"
   ],
   "metadata": {
    "collapsed": false,
    "ExecuteTime": {
     "end_time": "2023-11-10T11:39:32.430156100Z",
     "start_time": "2023-11-10T11:39:31.694689Z"
    }
   },
   "id": "23bd777f23d4bff2"
  },
  {
   "cell_type": "markdown",
   "source": [
    "Визначимо функцію get_top яка повертає повний список фільмів відповідної статі та віку"
   ],
   "metadata": {
    "collapsed": false
   },
   "id": "2e7648e9f7877241"
  },
  {
   "cell_type": "code",
   "execution_count": 74,
   "outputs": [],
   "source": [
    "def get_top(_lst, _gender, _age, _movies_df):\n",
    "    top_movies = _lst[(_lst['Age'] == _age) & (_lst['Gender'] == _gender)]\n",
    "    rating_count = top_movies.groupby(['MovieID'])['Rating'].count()\n",
    "    rating_count.name = 'Rating Count'\n",
    "    top_movies = pd.merge(top_movies, rating_count, on='MovieID')\n",
    "    top_movies = top_movies[top_movies['Rating Count'] >= 30]\n",
    "    top_movies = top_movies.groupby('MovieID')['Rating'].mean()\n",
    "    top_movies = pd.merge(_movies_df, top_movies, on='MovieID').sort_values(by=['Rating'], ascending=[False])\n",
    "    return top_movies"
   ],
   "metadata": {
    "collapsed": false,
    "ExecuteTime": {
     "end_time": "2023-11-10T11:39:32.469155700Z",
     "start_time": "2023-11-10T11:39:32.436143600Z"
    }
   },
   "id": "6999de10416aad3b"
  },
  {
   "cell_type": "markdown",
   "source": [
    "Визначемо функцію яка буде виводити фільми для відповідної статі та віку"
   ],
   "metadata": {
    "collapsed": false
   },
   "id": "bed43199b5a04f07"
  },
  {
   "cell_type": "code",
   "execution_count": 75,
   "outputs": [],
   "source": [
    "def print_top_ten(_lst, _gender, _age, _movies_df):\n",
    "    top_movies = get_top(_lst, _gender, _age, _movies_df).head(10)\n",
    "    print(top_movies.to_string(index = False))"
   ],
   "metadata": {
    "collapsed": false,
    "ExecuteTime": {
     "end_time": "2023-11-10T11:39:32.489494900Z",
     "start_time": "2023-11-10T11:39:32.467161100Z"
    }
   },
   "id": "e0b47e2eceefa0b4"
  },
  {
   "cell_type": "markdown",
   "source": [
    "Виводимо результати аналізу для кожної вікової групи з розбивкою по статі"
   ],
   "metadata": {
    "collapsed": false
   },
   "id": "e57392592db17dd9"
  },
  {
   "cell_type": "code",
   "execution_count": 76,
   "outputs": [
    {
     "name": "stdout",
     "output_type": "stream",
     "text": [
      " MovieID                             Title                              Genres   Rating\n",
      "    2396        Shakespeare in Love (1998)                      Comedy|Romance 4.272727\n",
      "    2762           Sixth Sense, The (1999)                            Thriller 4.225806\n",
      "    3114                Toy Story 2 (1999)         Animation|Children's|Comedy 4.222222\n",
      "       1                  Toy Story (1995)         Animation|Children's|Comedy 4.076923\n",
      "    2858            American Beauty (1999)                        Comedy|Drama 4.033333\n",
      "     356               Forrest Gump (1994)                  Comedy|Romance|War 4.000000\n",
      "    2355              Bug's Life, A (1998)         Animation|Children's|Comedy 4.000000\n",
      "     588                    Aladdin (1992) Animation|Children's|Comedy|Musical 3.777778\n",
      "    1097 E.T. the Extra-Terrestrial (1982)     Children's|Drama|Fantasy|Sci-Fi 3.696970\n",
      "      39                   Clueless (1995)                      Comedy|Romance 3.466667\n"
     ]
    }
   ],
   "source": [
    "print_top_ten(merged_df, 'F', 1, movies_df) # Female Under 18"
   ],
   "metadata": {
    "collapsed": false,
    "ExecuteTime": {
     "end_time": "2023-11-10T11:39:32.645420Z",
     "start_time": "2023-11-10T11:39:32.480249500Z"
    }
   },
   "id": "ced5f48902c14eb3"
  },
  {
   "cell_type": "code",
   "execution_count": 77,
   "outputs": [
    {
     "name": "stdout",
     "output_type": "stream",
     "text": [
      " MovieID                                                                       Title                 Genres   Rating\n",
      "    2858                                                      American Beauty (1999)           Comedy|Drama 4.629032\n",
      "     858                                                       Godfather, The (1972)     Action|Crime|Drama 4.589744\n",
      "     318                                            Shawshank Redemption, The (1994)                  Drama 4.545455\n",
      "    2918                                             Ferris Bueller's Day Off (1986)                 Comedy 4.500000\n",
      "    2571                                                          Matrix, The (1999) Action|Sci-Fi|Thriller 4.487805\n",
      "     296                                                         Pulp Fiction (1994)            Crime|Drama 4.475000\n",
      "     750 Dr. Strangelove or: How I Learned to Stop Worrying and Love the Bomb (1963)             Sci-Fi|War 4.451613\n",
      "    2028                                                  Saving Private Ryan (1998)       Action|Drama|War 4.441176\n",
      "    1136                                      Monty Python and the Holy Grail (1974)                 Comedy 4.428571\n",
      "     608                                                                Fargo (1996)   Crime|Drama|Thriller 4.428571\n"
     ]
    }
   ],
   "source": [
    "print_top_ten(merged_df, 'M', 1, movies_df) # Male Under 18"
   ],
   "metadata": {
    "collapsed": false,
    "ExecuteTime": {
     "end_time": "2023-11-10T11:39:32.772564800Z",
     "start_time": "2023-11-10T11:39:32.647413700Z"
    }
   },
   "id": "2ab3d4c145de7669"
  },
  {
   "cell_type": "code",
   "execution_count": 78,
   "outputs": [
    {
     "name": "stdout",
     "output_type": "stream",
     "text": [
      " MovieID                                      Title                          Genres   Rating\n",
      "    1148                 Wrong Trousers, The (1993)                Animation|Comedy 4.693878\n",
      "      50                 Usual Suspects, The (1995)                  Crime|Thriller 4.618557\n",
      "     745                      Close Shave, A (1995)       Animation|Comedy|Thriller 4.611111\n",
      "     318           Shawshank Redemption, The (1994)                           Drama 4.603306\n",
      "    2324 Life Is Beautiful (La Vita è bella) (1997)                    Comedy|Drama 4.592593\n",
      "    2858                     American Beauty (1999)                    Comedy|Drama 4.467742\n",
      "     916                       Roman Holiday (1953)                  Comedy|Romance 4.447368\n",
      "     527                    Schindler's List (1993)                       Drama|War 4.431034\n",
      "    1197                 Princess Bride, The (1987) Action|Adventure|Comedy|Romance 4.413043\n",
      "     593           Silence of the Lambs, The (1991)                  Drama|Thriller 4.384000\n"
     ]
    }
   ],
   "source": [
    "print_top_ten(merged_df, 'F', 18, movies_df) # Female 18-24"
   ],
   "metadata": {
    "collapsed": false,
    "ExecuteTime": {
     "end_time": "2023-11-10T11:39:32.957092800Z",
     "start_time": "2023-11-10T11:39:32.768584300Z"
    }
   },
   "id": "de2c1588083431db"
  },
  {
   "cell_type": "code",
   "execution_count": 79,
   "outputs": [
    {
     "name": "stdout",
     "output_type": "stream",
     "text": [
      " MovieID                                                               Title                            Genres   Rating\n",
      "      50                                          Usual Suspects, The (1995)                    Crime|Thriller 4.700658\n",
      "     318                                    Shawshank Redemption, The (1994)                             Drama 4.699708\n",
      "    2019 Seven Samurai (The Magnificent Seven) (Shichinin no samurai) (1954)                      Action|Drama 4.635135\n",
      "     858                                               Godfather, The (1972)                Action|Crime|Drama 4.570470\n",
      "     745                                               Close Shave, A (1995)         Animation|Comedy|Thriller 4.550562\n",
      "    2858                                              American Beauty (1999)                      Comedy|Drama 4.540643\n",
      "    2571                                                  Matrix, The (1999)            Action|Sci-Fi|Thriller 4.534676\n",
      "    2324                          Life Is Beautiful (La Vita è bella) (1997)                      Comedy|Drama 4.527607\n",
      "    1193                              One Flew Over the Cuckoo's Nest (1975)                             Drama 4.526042\n",
      "    1196               Star Wars: Episode V - The Empire Strikes Back (1980) Action|Adventure|Drama|Sci-Fi|War 4.515284\n"
     ]
    }
   ],
   "source": [
    "print_top_ten(merged_df, 'M', 18, movies_df) # Male 18-24"
   ],
   "metadata": {
    "collapsed": false,
    "ExecuteTime": {
     "end_time": "2023-11-10T11:39:33.159628700Z",
     "start_time": "2023-11-10T11:39:32.959627100Z"
    }
   },
   "id": "64b5d254d05f1318"
  },
  {
   "cell_type": "code",
   "execution_count": 80,
   "outputs": [
    {
     "name": "stdout",
     "output_type": "stream",
     "text": [
      " MovieID                                                  Title                    Genres   Rating\n",
      "     745                                  Close Shave, A (1995) Animation|Comedy|Thriller 4.793651\n",
      "     720 Wallace & Gromit: The Best of Aardman Animation (1996)                 Animation 4.757576\n",
      "    1223                                Grand Day Out, A (1992)          Animation|Comedy 4.711111\n",
      "    2186                            Strangers on a Train (1951)        Film-Noir|Thriller 4.657895\n",
      "    1148                             Wrong Trousers, The (1993)          Animation|Comedy 4.650602\n",
      "    3429                               Creature Comforts (1990)          Animation|Comedy 4.606061\n",
      "     318                       Shawshank Redemption, The (1994)                     Drama 4.605150\n",
      "    2762                                Sixth Sense, The (1999)                  Thriller 4.605042\n",
      "     922          Sunset Blvd. (a.k.a. Sunset Boulevard) (1950)                 Film-Noir 4.583333\n",
      "    1267                       Manchurian Candidate, The (1962)        Film-Noir|Thriller 4.580000\n"
     ]
    }
   ],
   "source": [
    "print_top_ten(merged_df, 'F', 25, movies_df) # Female 25-34"
   ],
   "metadata": {
    "collapsed": false,
    "ExecuteTime": {
     "end_time": "2023-11-10T11:39:33.346361300Z",
     "start_time": "2023-11-10T11:39:33.161523Z"
    }
   },
   "id": "e16bccc0f0beebbd"
  },
  {
   "cell_type": "code",
   "execution_count": 81,
   "outputs": [
    {
     "name": "stdout",
     "output_type": "stream",
     "text": [
      " MovieID                                                               Title                          Genres   Rating\n",
      "    1198                                      Raiders of the Lost Ark (1981)                Action|Adventure 4.625654\n",
      "     858                                               Godfather, The (1972)              Action|Crime|Drama 4.619266\n",
      "     260                           Star Wars: Episode IV - A New Hope (1977) Action|Adventure|Fantasy|Sci-Fi 4.614016\n",
      "     318                                    Shawshank Redemption, The (1994)                           Drama 4.581395\n",
      "    1178                                               Paths of Glory (1957)                       Drama|War 4.580645\n",
      "      50                                          Usual Suspects, The (1995)                  Crime|Thriller 4.565217\n",
      "    2019 Seven Samurai (The Magnificent Seven) (Shichinin no samurai) (1954)                    Action|Drama 4.559322\n",
      "     904                                                  Rear Window (1954)                Mystery|Thriller 4.525735\n",
      "    3435                                             Double Indemnity (1944)                 Crime|Film-Noir 4.504132\n",
      "     950                                                Thin Man, The (1934)                         Mystery 4.500000\n"
     ]
    }
   ],
   "source": [
    "print_top_ten(merged_df, 'M', 25, movies_df) # Male 25-34"
   ],
   "metadata": {
    "collapsed": false,
    "ExecuteTime": {
     "end_time": "2023-11-10T11:39:33.706623800Z",
     "start_time": "2023-11-10T11:39:33.353342800Z"
    }
   },
   "id": "bda01edd46139c44"
  },
  {
   "cell_type": "code",
   "execution_count": 82,
   "outputs": [
    {
     "name": "stdout",
     "output_type": "stream",
     "text": [
      " MovieID                          Title                             Genres   Rating\n",
      "     527        Schindler's List (1993)                          Drama|War 4.627273\n",
      "     745          Close Shave, A (1995)          Animation|Comedy|Thriller 4.604651\n",
      "     919       Wizard of Oz, The (1939) Adventure|Children's|Drama|Musical 4.584071\n",
      "    1207   To Kill a Mockingbird (1962)                              Drama 4.583333\n",
      "     898 Philadelphia Story, The (1940)                     Comedy|Romance 4.514286\n",
      "      50     Usual Suspects, The (1995)                     Crime|Thriller 4.500000\n",
      "    2762        Sixth Sense, The (1999)                           Thriller 4.489051\n",
      "    1223        Grand Day Out, A (1992)                   Animation|Comedy 4.470588\n",
      "    1035     Sound of Music, The (1965)                            Musical 4.464286\n",
      "     904             Rear Window (1954)                   Mystery|Thriller 4.450704\n"
     ]
    }
   ],
   "source": [
    "print_top_ten(merged_df, 'F', 35, movies_df) # Female 35-44"
   ],
   "metadata": {
    "collapsed": false,
    "ExecuteTime": {
     "end_time": "2023-11-10T11:39:33.850228200Z",
     "start_time": "2023-11-10T11:39:33.709308600Z"
    }
   },
   "id": "ba1c708197c6f242"
  },
  {
   "cell_type": "code",
   "execution_count": 83,
   "outputs": [
    {
     "name": "stdout",
     "output_type": "stream",
     "text": [
      " MovieID                                                                       Title               Genres   Rating\n",
      "    1131                                                     Jean de Florette (1986)                Drama 4.619048\n",
      "     858                                                       Godfather, The (1972)   Action|Crime|Drama 4.607843\n",
      "     922                               Sunset Blvd. (a.k.a. Sunset Boulevard) (1950)            Film-Noir 4.597826\n",
      "    3307                                                          City Lights (1931) Comedy|Drama|Romance 4.586957\n",
      "    1207                                                To Kill a Mockingbird (1962)                Drama 4.586957\n",
      "    2019         Seven Samurai (The Magnificent Seven) (Shichinin no samurai) (1954)         Action|Drama 4.556452\n",
      "     953                                                It's a Wonderful Life (1946)                Drama 4.548673\n",
      "    1132                              Manon of the Spring (Manon des sources) (1986)                Drama 4.538462\n",
      "     318                                            Shawshank Redemption, The (1994)                Drama 4.533808\n",
      "     750 Dr. Strangelove or: How I Learned to Stop Worrying and Love the Bomb (1963)           Sci-Fi|War 4.528455\n"
     ]
    }
   ],
   "source": [
    "print_top_ten(merged_df, 'M', 35, movies_df) # Male 35-44"
   ],
   "metadata": {
    "collapsed": false,
    "ExecuteTime": {
     "end_time": "2023-11-10T11:39:34.066561100Z",
     "start_time": "2023-11-10T11:39:33.846461400Z"
    }
   },
   "id": "6906d4c5fcf2496e"
  },
  {
   "cell_type": "code",
   "execution_count": 84,
   "outputs": [
    {
     "name": "stdout",
     "output_type": "stream",
     "text": [
      " MovieID                                     Title                          Genres   Rating\n",
      "     527                   Schindler's List (1993)                       Drama|War 4.704225\n",
      "    2762                   Sixth Sense, The (1999)                        Thriller 4.603774\n",
      "     318          Shawshank Redemption, The (1994)                           Drama 4.548387\n",
      "     910                   Some Like It Hot (1959)                    Comedy|Crime 4.516129\n",
      "     920                 Gone with the Wind (1939)               Drama|Romance|War 4.510638\n",
      "    1207              To Kill a Mockingbird (1962)                           Drama 4.470588\n",
      "    1225                            Amadeus (1984)                           Drama 4.461538\n",
      "     913                Maltese Falcon, The (1941)               Film-Noir|Mystery 4.459459\n",
      "    1947                    West Side Story (1961)                 Musical|Romance 4.437500\n",
      "     260 Star Wars: Episode IV - A New Hope (1977) Action|Adventure|Fantasy|Sci-Fi 4.415385\n"
     ]
    }
   ],
   "source": [
    "print_top_ten(merged_df, 'F', 45, movies_df) # Female 45-49"
   ],
   "metadata": {
    "collapsed": false,
    "ExecuteTime": {
     "end_time": "2023-11-10T11:39:34.207522400Z",
     "start_time": "2023-11-10T11:39:34.069765900Z"
    }
   },
   "id": "1b364e8a135a2c"
  },
  {
   "cell_type": "code",
   "execution_count": 85,
   "outputs": [
    {
     "name": "stdout",
     "output_type": "stream",
     "text": [
      " MovieID                                                               Title                             Genres   Rating\n",
      "    1148                                          Wrong Trousers, The (1993)                   Animation|Comedy 4.611111\n",
      "     912                                                   Casablanca (1942)                  Drama|Romance|War 4.555556\n",
      "     527                                             Schindler's List (1993)                          Drama|War 4.535211\n",
      "    1204                                           Lawrence of Arabia (1962)                      Adventure|War 4.534247\n",
      "    2019 Seven Samurai (The Magnificent Seven) (Shichinin no samurai) (1954)                       Action|Drama 4.528302\n",
      "    1207                                        To Kill a Mockingbird (1962)                              Drama 4.507692\n",
      "    1198                                      Raiders of the Lost Ark (1981)                   Action|Adventure 4.503356\n",
      "    1252                                                    Chinatown (1974)         Film-Noir|Mystery|Thriller 4.495327\n",
      "     904                                                  Rear Window (1954)                   Mystery|Thriller 4.481013\n",
      "     919                                            Wizard of Oz, The (1939) Adventure|Children's|Drama|Musical 4.475728\n"
     ]
    }
   ],
   "source": [
    "print_top_ten(merged_df, 'M', 45, movies_df) # Male 45-49"
   ],
   "metadata": {
    "collapsed": false,
    "ExecuteTime": {
     "end_time": "2023-11-10T11:39:34.346176800Z",
     "start_time": "2023-11-10T11:39:34.203376300Z"
    }
   },
   "id": "6829b915d3951c0"
  },
  {
   "cell_type": "code",
   "execution_count": 86,
   "outputs": [
    {
     "name": "stdout",
     "output_type": "stream",
     "text": [
      " MovieID                        Title                             Genres   Rating\n",
      "     527      Schindler's List (1993)                          Drama|War 4.765957\n",
      "    1207 To Kill a Mockingbird (1962)                              Drama 4.757576\n",
      "     908    North by Northwest (1959)                     Drama|Thriller 4.684211\n",
      "     912            Casablanca (1942)                  Drama|Romance|War 4.617021\n",
      "     910      Some Like It Hot (1959)                       Comedy|Crime 4.600000\n",
      "    2762      Sixth Sense, The (1999)                           Thriller 4.577778\n",
      "    1225               Amadeus (1984)                              Drama 4.552632\n",
      "    1247         Graduate, The (1967)                      Drama|Romance 4.538462\n",
      "     858        Godfather, The (1972)                 Action|Crime|Drama 4.529412\n",
      "     919     Wizard of Oz, The (1939) Adventure|Children's|Drama|Musical 4.516129\n"
     ]
    }
   ],
   "source": [
    "print_top_ten(merged_df, 'F', 50, movies_df) # Female 50-55"
   ],
   "metadata": {
    "collapsed": false,
    "ExecuteTime": {
     "end_time": "2023-11-10T11:39:34.486875100Z",
     "start_time": "2023-11-10T11:39:34.347387700Z"
    }
   },
   "id": "aa6289537657e8fd"
  },
  {
   "cell_type": "code",
   "execution_count": 87,
   "outputs": [
    {
     "name": "stdout",
     "output_type": "stream",
     "text": [
      " MovieID                                                               Title             Genres   Rating\n",
      "    1148                                          Wrong Trousers, The (1993)   Animation|Comedy 4.694444\n",
      "    2019 Seven Samurai (The Magnificent Seven) (Shichinin no samurai) (1954)       Action|Drama 4.673077\n",
      "     913                                          Maltese Falcon, The (1941)  Film-Noir|Mystery 4.604651\n",
      "    3897                                                Almost Famous (2000)       Comedy|Drama 4.578947\n",
      "    3435                                             Double Indemnity (1944)    Crime|Film-Noir 4.560976\n",
      "     922                       Sunset Blvd. (a.k.a. Sunset Boulevard) (1950)          Film-Noir 4.555556\n",
      "     912                                                   Casablanca (1942)  Drama|Romance|War 4.547826\n",
      "     858                                               Godfather, The (1972) Action|Crime|Drama 4.544218\n",
      "    1272                                                       Patton (1970)          Drama|War 4.521739\n",
      "    3629                                               Gold Rush, The (1925)             Comedy 4.516129\n"
     ]
    }
   ],
   "source": [
    "print_top_ten(merged_df, 'M', 50, movies_df) # Male 50-55"
   ],
   "metadata": {
    "collapsed": false,
    "ExecuteTime": {
     "end_time": "2023-11-10T11:39:34.643281Z",
     "start_time": "2023-11-10T11:39:34.486875100Z"
    }
   },
   "id": "4afaab5be6fb8fcc"
  },
  {
   "cell_type": "code",
   "execution_count": 88,
   "outputs": [
    {
     "name": "stdout",
     "output_type": "stream",
     "text": [
      " MovieID                                  Title             Genres   Rating\n",
      "     527                Schindler's List (1993)          Drama|War 4.714286\n",
      "     318       Shawshank Redemption, The (1994)              Drama 4.633333\n",
      "     356                    Forrest Gump (1994) Comedy|Romance|War 4.600000\n",
      "    1193 One Flew Over the Cuckoo's Nest (1975)              Drama 4.435897\n",
      "     920              Gone with the Wind (1939)  Drama|Romance|War 4.421053\n",
      "     858                  Godfather, The (1972) Action|Crime|Drama 4.193548\n",
      "    2028             Saving Private Ryan (1998)   Action|Drama|War 4.093750\n",
      "    2858                 American Beauty (1999)       Comedy|Drama 4.018519\n",
      "    2396             Shakespeare in Love (1998)     Comedy|Romance 3.953488\n"
     ]
    }
   ],
   "source": [
    "print_top_ten(merged_df, 'F', 56, movies_df) # Female 56+"
   ],
   "metadata": {
    "collapsed": false,
    "ExecuteTime": {
     "end_time": "2023-11-10T11:39:34.764388500Z",
     "start_time": "2023-11-10T11:39:34.640608900Z"
    }
   },
   "id": "e991d4bfb4d0f28b"
  },
  {
   "cell_type": "code",
   "execution_count": 89,
   "outputs": [
    {
     "name": "stdout",
     "output_type": "stream",
     "text": [
      " MovieID                                                               Title                             Genres   Rating\n",
      "     912                                                   Casablanca (1942)                  Drama|Romance|War 4.602564\n",
      "    2019 Seven Samurai (The Magnificent Seven) (Shichinin no samurai) (1954)                       Action|Drama 4.600000\n",
      "     527                                             Schindler's List (1993)                          Drama|War 4.578947\n",
      "    2028                                          Saving Private Ryan (1998)                   Action|Drama|War 4.561798\n",
      "    3095                                         Grapes of Wrath, The (1940)                              Drama 4.560976\n",
      "     858                                               Godfather, The (1972)                 Action|Crime|Drama 4.560440\n",
      "    1254                            Treasure of the Sierra Madre, The (1948)                          Adventure 4.555556\n",
      "     919                                            Wizard of Oz, The (1939) Adventure|Children's|Drama|Musical 4.545455\n",
      "    1293                                                       Gandhi (1982)                              Drama 4.545455\n",
      "     969                                           African Queen, The (1951)       Action|Adventure|Romance|War 4.527778\n"
     ]
    }
   ],
   "source": [
    "print_top_ten(merged_df, 'M', 56, movies_df) # Male 56+"
   ],
   "metadata": {
    "collapsed": false,
    "ExecuteTime": {
     "end_time": "2023-11-10T11:39:34.905792600Z",
     "start_time": "2023-11-10T11:39:34.767891500Z"
    }
   },
   "id": "d0790e98c9c35185"
  },
  {
   "cell_type": "markdown",
   "source": [
    "show_top_ten"
   ],
   "metadata": {
    "collapsed": false
   },
   "id": "8d6a5997ced9935b"
  },
  {
   "cell_type": "code",
   "execution_count": 104,
   "outputs": [],
   "source": [
    "def show_top_ten(_lst, _gender, _age, _movies_df):\n",
    "    top_movies = get_top(_lst, _gender, _age, _movies_df).head(10)\n",
    "    sns.set(style = \"whitegrid\")\n",
    "    pyplot.figure(figsize=(10, 4))\n",
    "\n",
    "    plot = sns.barplot(x = 'Title', y = 'Rating', data = top_movies, palette = 'viridis')\n",
    "    plot.set(xlabel='Title', ylabel='Rating')\n",
    "    plot.set_ylim(0, 5)\n",
    "    pyplot.xticks(rotation = 90)\n",
    "\n",
    "    pyplot.show()"
   ],
   "metadata": {
    "collapsed": false,
    "ExecuteTime": {
     "end_time": "2023-11-10T11:51:38.357040100Z",
     "start_time": "2023-11-10T11:51:38.345886Z"
    }
   },
   "id": "737c115d571a6b5b"
  },
  {
   "cell_type": "code",
   "execution_count": 105,
   "outputs": [
    {
     "name": "stderr",
     "output_type": "stream",
     "text": [
      "C:\\Users\\Shevchenko\\.conda\\envs\\Labs\\lib\\site-packages\\seaborn\\_oldcore.py:1498: FutureWarning: is_categorical_dtype is deprecated and will be removed in a future version. Use isinstance(dtype, CategoricalDtype) instead\n",
      "  if pd.api.types.is_categorical_dtype(vector):\n",
      "C:\\Users\\Shevchenko\\.conda\\envs\\Labs\\lib\\site-packages\\seaborn\\_oldcore.py:1498: FutureWarning: is_categorical_dtype is deprecated and will be removed in a future version. Use isinstance(dtype, CategoricalDtype) instead\n",
      "  if pd.api.types.is_categorical_dtype(vector):\n",
      "C:\\Users\\Shevchenko\\.conda\\envs\\Labs\\lib\\site-packages\\seaborn\\_oldcore.py:1498: FutureWarning: is_categorical_dtype is deprecated and will be removed in a future version. Use isinstance(dtype, CategoricalDtype) instead\n",
      "  if pd.api.types.is_categorical_dtype(vector):\n"
     ]
    },
    {
     "data": {
      "text/plain": "<Figure size 1000x400 with 1 Axes>",
      "image/png": "[encoded data removed]"
     },
     "metadata": {},
     "output_type": "display_data"
    }
   ],
   "source": [
    "show_top_ten(merged_df, 'F', 18, movies_df) # Male Under 18"
   ],
   "metadata": {
    "collapsed": false,
    "ExecuteTime": {
     "end_time": "2023-11-10T11:51:39.359576400Z",
     "start_time": "2023-11-10T11:51:38.884748500Z"
    }
   },
   "id": "eaa9aade8ab00c7a"
  },
  {
   "cell_type": "code",
   "execution_count": 91,
   "outputs": [],
   "source": [],
   "metadata": {
    "collapsed": false,
    "ExecuteTime": {
     "end_time": "2023-11-10T11:39:35.619246800Z",
     "start_time": "2023-11-10T11:39:35.472455600Z"
    }
   },
   "id": "bf88c453e2845c8a"
  }
 ],
 "metadata": {
  "kernelspec": {
   "display_name": "Python 3",
   "language": "python",
   "name": "python3"
  },
  "language_info": {
   "codemirror_mode": {
    "name": "ipython",
    "version": 2
   },
   "file_extension": ".py",
   "mimetype": "text/x-python",
   "name": "python",
   "nbconvert_exporter": "python",
   "pygments_lexer": "ipython2",
   "version": "2.7.6"
  }
 },
 "nbformat": 4,
 "nbformat_minor": 5
}
