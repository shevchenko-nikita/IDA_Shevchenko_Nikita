{
 "cells": [
  {
   "cell_type": "markdown",
   "source": [
    "Імпортуємо пакет pandas"
   ],
   "metadata": {
    "collapsed": false
   },
   "id": "308b76115d3bd807"
  },
  {
   "cell_type": "code",
   "execution_count": 44,
   "outputs": [],
   "source": [
    "import pandas as pd\n",
    "import seaborn as sns"
   ],
   "metadata": {
    "collapsed": false,
    "ExecuteTime": {
     "end_time": "2023-11-08T12:51:52.887668800Z",
     "start_time": "2023-11-08T12:51:52.040886700Z"
    }
   },
   "id": "dc647436f42a7f86"
  },
  {
   "cell_type": "markdown",
   "source": [
    "Завантажую файли movies.dat, ratings.dat, users.dat у змінні за допомогою пакету pandas"
   ],
   "metadata": {
    "collapsed": false
   },
   "id": "926f4610fd1362cb"
  },
  {
   "cell_type": "code",
   "execution_count": 24,
   "outputs": [],
   "source": [
    "encoding = 'ISO-8859-1'\n",
    "\n",
    "movies_df = pd.read_csv('movies.dat', sep='::', names=['MovieID', 'Title', 'Genres'], encoding=encoding, engine='python')\n",
    "ratings_df = pd.read_csv('ratings.dat', sep='::', names=['UserID', 'MovieID', 'Rating', 'Timestamp'], encoding=encoding, engine='python')\n",
    "users_df = pd.read_csv('users.dat', sep='::', names=['UserID', 'Gender', 'Age', 'Occupation', 'ZIP_code'], encoding=encoding, engine='python')"
   ],
   "metadata": {
    "collapsed": false,
    "ExecuteTime": {
     "end_time": "2023-11-08T12:32:10.312728400Z",
     "start_time": "2023-11-08T12:32:04.585087800Z"
    }
   },
   "id": "7e66a86d90c0ced3"
  },
  {
   "cell_type": "markdown",
   "source": [
    "Робимо Merge в єдиний DataFrame"
   ],
   "metadata": {
    "collapsed": false
   },
   "id": "b5653a3fd0bc29f8"
  },
  {
   "cell_type": "code",
   "execution_count": 25,
   "outputs": [],
   "source": [
    "merged_df = pd.merge(movies_df, ratings_df, on='MovieID')\n",
    "merged_df = pd.merge(merged_df, users_df, on='UserID')"
   ],
   "metadata": {
    "collapsed": false,
    "ExecuteTime": {
     "end_time": "2023-11-08T12:32:10.841921100Z",
     "start_time": "2023-11-08T12:32:10.318562200Z"
    }
   },
   "id": "23bd777f23d4bff2"
  },
  {
   "cell_type": "markdown",
   "source": [
    "Визначимо функцію get_top яка повертає повний список фільмів відповідної статі та віку"
   ],
   "metadata": {
    "collapsed": false
   },
   "id": "2e7648e9f7877241"
  },
  {
   "cell_type": "code",
   "execution_count": 26,
   "outputs": [],
   "source": [
    "def get_top(_lst, _gender, _age, _movies_df):\n",
    "    top_movies = _lst[(_lst['Age'] == _age) & (_lst['Gender'] == _gender)]\n",
    "    top_movies = top_movies.groupby('MovieID')['Rating'].mean()\n",
    "    top_movies = pd.merge(_movies_df, top_movies, on='MovieID')\n",
    "    top_movies = top_movies.sort_values(by=['Rating'], ascending=[False])\n",
    "    return top_movies"
   ],
   "metadata": {
    "collapsed": false,
    "ExecuteTime": {
     "end_time": "2023-11-08T12:32:10.862380700Z",
     "start_time": "2023-11-08T12:32:10.844911400Z"
    }
   },
   "id": "6999de10416aad3b"
  },
  {
   "cell_type": "markdown",
   "source": [
    "Визначемо функцію яка буде виводити фільми для відповідної статі та віку"
   ],
   "metadata": {
    "collapsed": false
   },
   "id": "bed43199b5a04f07"
  },
  {
   "cell_type": "code",
   "execution_count": 27,
   "outputs": [],
   "source": [
    "def print_top_ten(_lst, _gender, _age, _movies_df):\n",
    "    top_movies = get_top(_lst, _gender, _age, _movies_df).head(10)\n",
    "    print(top_movies.to_string())"
   ],
   "metadata": {
    "collapsed": false,
    "ExecuteTime": {
     "end_time": "2023-11-08T12:32:10.885263400Z",
     "start_time": "2023-11-08T12:32:10.864899Z"
    }
   },
   "id": "e0b47e2eceefa0b4"
  },
  {
   "cell_type": "markdown",
   "source": [
    "Виводимо топ 10 фільмів жінок до 18 років"
   ],
   "metadata": {
    "collapsed": false
   },
   "id": "e1f614cc43c3e3b1"
  },
  {
   "cell_type": "code",
   "execution_count": 28,
   "outputs": [
    {
     "name": "stdout",
     "output_type": "stream",
     "text": [
      "      MovieID                                            Title             Genres  Rating\n",
      "1297     2461  Leatherface: Texas Chainsaw Massacre III (1990)             Horror     5.0\n",
      "1977     3839                     Phantasm IV: Oblivion (1998)             Horror     5.0\n",
      "686      1330                          April Fool's Day (1986)      Comedy|Horror     5.0\n",
      "677      1299                       Killing Fields, The (1984)          Drama|War     5.0\n",
      "1929     3741                                  Badlands (1973)        Crime|Drama     5.0\n",
      "676      1298                     Pink Floyd - The Wall (1982)  Drama|Musical|War     5.0\n",
      "669      1289                             Koyaanisqatsi (1983)    Documentary|War     5.0\n",
      "666      1286                         Somewhere in Time (1980)      Drama|Romance     5.0\n",
      "664      1284                            Big Sleep, The (1946)  Film-Noir|Mystery     5.0\n",
      "659      1279                            Night on Earth (1991)       Comedy|Drama     5.0\n"
     ]
    }
   ],
   "source": [
    "print_top_ten(merged_df, 'F', 1, movies_df)"
   ],
   "metadata": {
    "collapsed": false,
    "ExecuteTime": {
     "end_time": "2023-11-08T12:32:10.957453300Z",
     "start_time": "2023-11-08T12:32:10.879571600Z"
    }
   },
   "id": "ced5f48902c14eb3"
  },
  {
   "cell_type": "code",
   "execution_count": 29,
   "outputs": [
    {
     "name": "stdout",
     "output_type": "stream",
     "text": [
      "      MovieID                                 Title                  Genres  Rating\n",
      "533       948                          Giant (1956)                   Drama     5.0\n",
      "953      1633                    Ulee's Gold (1997)                   Drama     5.0\n",
      "1053     1827                   Big One, The (1997)      Comedy|Documentary     5.0\n",
      "1046     1810                 Primary Colors (1998)                   Drama     5.0\n",
      "1038     1794  Love and Death on Long Island (1997)            Comedy|Drama     5.0\n",
      "1028     1770                      B. Monkey (1998)        Romance|Thriller     5.0\n",
      "1849     3088                         Harvey (1950)                  Comedy     5.0\n",
      "407       680                     Alphaville (1965)                  Sci-Fi     5.0\n",
      "396       640                     Diabolique (1996)          Drama|Thriller     5.0\n",
      "986      1683         Wings of the Dove, The (1997)  Drama|Romance|Thriller     5.0\n"
     ]
    }
   ],
   "source": [
    "print_top_ten(merged_df, 'M', 1, movies_df)"
   ],
   "metadata": {
    "collapsed": false,
    "ExecuteTime": {
     "end_time": "2023-11-08T12:32:11.029379Z",
     "start_time": "2023-11-08T12:32:10.953883Z"
    }
   },
   "id": "2ab3d4c145de7669"
  },
  {
   "cell_type": "code",
   "execution_count": 30,
   "outputs": [
    {
     "name": "stdout",
     "output_type": "stream",
     "text": [
      "      MovieID                                                              Title          Genres  Rating\n",
      "1671     2215                                            Rich and Strange (1932)  Comedy|Romance     5.0\n",
      "2400     3201                                            Five Easy Pieces (1970)           Drama     5.0\n",
      "2271     3011                              They Shoot Horses, Don't They? (1969)           Drama     5.0\n",
      "864      1178                                              Paths of Glory (1957)       Drama|War     5.0\n",
      "2274     3017                                                 Creepshow 2 (1987)          Horror     5.0\n",
      "2278     3021                                               Funhouse, The (1981)          Horror     5.0\n",
      "2279     3022                                                General, The (1927)          Comedy     5.0\n",
      "166       199  Umbrellas of Cherbourg, The (Parapluies de Cherbourg, Les) (1964)   Drama|Musical     5.0\n",
      "2298     3048                                           Under the Rainbow (1981)          Comedy     5.0\n",
      "857      1169                                              American Dream (1990)     Documentary     5.0\n"
     ]
    }
   ],
   "source": [
    "print_top_ten(merged_df, 'F', 18, movies_df)"
   ],
   "metadata": {
    "collapsed": false,
    "ExecuteTime": {
     "end_time": "2023-11-08T12:32:11.114978300Z",
     "start_time": "2023-11-08T12:32:11.030376600Z"
    }
   },
   "id": "de2c1588083431db"
  },
  {
   "cell_type": "code",
   "execution_count": 31,
   "outputs": [
    {
     "name": "stdout",
     "output_type": "stream",
     "text": [
      "      MovieID                                        Title          Genres  Rating\n",
      "2737     3284                  They Might Be Giants (1971)  Comedy|Romance     5.0\n",
      "391       439                        Dangerous Game (1993)           Drama     5.0\n",
      "563       633                       Denise Calls Up (1995)          Comedy     5.0\n",
      "2452     2931  Time of the Gypsies (Dom za vesanje) (1989)           Drama     5.0\n",
      "2457     2937                 Palm Beach Story, The (1942)          Comedy     5.0\n",
      "542       602                Great Day in Harlem, A (1994)     Documentary     5.0\n",
      "46         49                 When Night Is Falling (1995)   Drama|Romance     5.0\n",
      "2537     3038                  Face in the Crowd, A (1957)           Drama     5.0\n",
      "2569     3077                                 42 Up (1998)     Documentary     5.0\n",
      "2980     3586                        Idolmaker, The (1980)           Drama     5.0\n"
     ]
    }
   ],
   "source": [
    "print_top_ten(merged_df, 'M', 18, movies_df)"
   ],
   "metadata": {
    "collapsed": false,
    "ExecuteTime": {
     "end_time": "2023-11-08T12:32:11.218172200Z",
     "start_time": "2023-11-08T12:32:11.111988200Z"
    }
   },
   "id": "64b5d254d05f1318"
  },
  {
   "cell_type": "code",
   "execution_count": 32,
   "outputs": [
    {
     "name": "stdout",
     "output_type": "stream",
     "text": [
      "      MovieID                                       Title           Genres  Rating\n",
      "264       297                              Panther (1995)            Drama     5.0\n",
      "1865     2309  Inheritors, The (Die Siebtelbauern) (1998)            Drama     5.0\n",
      "864      1071                       For the Moment (1994)      Romance|War     5.0\n",
      "580       669                            Aparajito (1956)            Drama     5.0\n",
      "581       670      World of Apu, The (Apur Sansar) (1959)            Drama     5.0\n",
      "2826     3470                          Dersu Uzala (1974)  Adventure|Drama     5.0\n",
      "653       787          Gate of Heavenly Peace, The (1995)      Documentary     5.0\n",
      "672       824                        Kaspar Hauser (1993)            Drama     5.0\n",
      "1485     1879                  Hanging Garden, The (1997)            Drama     5.0\n",
      "1417     1780            Ayn Rand: A Sense of Life (1997)      Documentary     5.0\n"
     ]
    }
   ],
   "source": [
    "print_top_ten(merged_df, 'F', 25, movies_df)"
   ],
   "metadata": {
    "collapsed": false,
    "ExecuteTime": {
     "end_time": "2023-11-08T12:32:11.314109900Z",
     "start_time": "2023-11-08T12:32:11.219170900Z"
    }
   },
   "id": "e16bccc0f0beebbd"
  },
  {
   "cell_type": "code",
   "execution_count": 33,
   "outputs": [
    {
     "name": "stdout",
     "output_type": "stream",
     "text": [
      "      MovieID                                Title          Genres  Rating\n",
      "2784     3172              Ulysses (Ulisse) (1954)       Adventure     5.0\n",
      "2591     2962                   Fever Pitch (1997)  Comedy|Romance     5.0\n",
      "2027     2358                        Savior (1998)           Drama     5.0\n",
      "2829     3232                 Seven Chances (1925)          Comedy     5.0\n",
      "2974     3410                    Soft Fruit (1999)    Comedy|Drama     5.0\n",
      "695       787   Gate of Heavenly Peace, The (1995)     Documentary     5.0\n",
      "2562     2930             Return with Honor (1998)     Documentary     5.0\n",
      "1518     1795  Callejón de los milagros, El (1995)           Drama     5.0\n",
      "846       974                       Algiers (1938)   Drama|Romance     5.0\n",
      "3179     3640           King in New York, A (1957)    Comedy|Drama     5.0\n"
     ]
    }
   ],
   "source": [
    "print_top_ten(merged_df, 'M', 25, movies_df)"
   ],
   "metadata": {
    "collapsed": false,
    "ExecuteTime": {
     "end_time": "2023-11-08T12:32:11.450264400Z",
     "start_time": "2023-11-08T12:32:11.316105Z"
    }
   },
   "id": "bda01edd46139c44"
  },
  {
   "cell_type": "code",
   "execution_count": 34,
   "outputs": [
    {
     "name": "stdout",
     "output_type": "stream",
     "text": [
      "      MovieID                                Title                   Genres  Rating\n",
      "288       341              Double Happiness (1994)                    Drama     5.0\n",
      "1766     2332                         Belly (1998)              Crime|Drama     5.0\n",
      "1674     2197                     Firelight (1997)                    Drama     5.0\n",
      "1256     1662                  Gang Related (1997)                    Crime     5.0\n",
      "2256     2911  Grandfather, The (El Abuelo) (1998)                    Drama     5.0\n",
      "226       268                 Little Odessa (1994)                    Drama     5.0\n",
      "1718     2275            Six-String Samurai (1998)  Action|Adventure|Sci-Fi     5.0\n",
      "758       996             Last Man Standing (1996)     Action|Drama|Western     5.0\n",
      "2251     2904                          Rain (1932)                    Drama     5.0\n",
      "1955     2538                    Dancemaker (1998)              Documentary     5.0\n"
     ]
    }
   ],
   "source": [
    "print_top_ten(merged_df, 'F', 35, movies_df)"
   ],
   "metadata": {
    "collapsed": false,
    "ExecuteTime": {
     "end_time": "2023-11-08T12:32:11.543972400Z",
     "start_time": "2023-11-08T12:32:11.451268500Z"
    }
   },
   "id": "ba1c708197c6f242"
  },
  {
   "cell_type": "code",
   "execution_count": 35,
   "outputs": [
    {
     "name": "stdout",
     "output_type": "stream",
     "text": [
      "      MovieID                                                                 Title         Genres  Rating\n",
      "2975     3492                                          Son of the Sheik, The (1926)      Adventure     5.0\n",
      "3320     3883                                    Catfish in Black Bean Sauce (2000)   Comedy|Drama     5.0\n",
      "1418     1725                                  Education of Little Tree, The (1997)          Drama     5.0\n",
      "1362     1652                                              Year of the Horse (1997)    Documentary     5.0\n",
      "49         53                                                       Lamerica (1994)          Drama     5.0\n",
      "569       638                                                 Jack and Sarah (1995)        Romance     5.0\n",
      "542       598                                                Window to Paris (1994)         Comedy     5.0\n",
      "1829     2197                                                      Firelight (1997)          Drama     5.0\n",
      "2158     2569                                                   Among Giants (1998)  Drama|Romance     5.0\n",
      "3109     3652  City of the Living Dead (Paura nella città dei morti viventi) (1980)         Horror     5.0\n"
     ]
    }
   ],
   "source": [
    "print_top_ten(merged_df, 'M', 35, movies_df)"
   ],
   "metadata": {
    "collapsed": false,
    "ExecuteTime": {
     "end_time": "2023-11-08T12:32:11.672209300Z",
     "start_time": "2023-11-08T12:32:11.546946200Z"
    }
   },
   "id": "6906d4c5fcf2496e"
  },
  {
   "cell_type": "code",
   "execution_count": 36,
   "outputs": [
    {
     "name": "stdout",
     "output_type": "stream",
     "text": [
      "      MovieID                                Title                                  Genres  Rating\n",
      "1087     1640            How to Be a Player (1997)                                  Comedy     5.0\n",
      "2596     3739           Trouble in Paradise (1932)                          Comedy|Romance     5.0\n",
      "237       326              To Live (Huozhe) (1994)                                   Drama     5.0\n",
      "2229     3217               Star Is Born, A (1937)                                   Drama     5.0\n",
      "1217     1881             Quest for Camelot (1998)  Adventure|Animation|Children's|Fantasy     5.0\n",
      "1383     2077    Journey of Natty Gann, The (1985)                    Adventure|Children's     5.0\n",
      "2170     3127                    Holy Smoke (1999)                                   Drama     5.0\n",
      "514       766            I Shot Andy Warhol (1996)                                   Drama     5.0\n",
      "292       390  Faster Pussycat! Kill! Kill! (1965)                     Action|Comedy|Drama     5.0\n",
      "1128     1696                          Bent (1997)                               Drama|War     5.0\n"
     ]
    }
   ],
   "source": [
    "print_top_ten(merged_df, 'F', 45, movies_df)"
   ],
   "metadata": {
    "collapsed": false,
    "ExecuteTime": {
     "end_time": "2023-11-08T12:32:11.764173200Z",
     "start_time": "2023-11-08T12:32:11.677297900Z"
    }
   },
   "id": "1b364e8a135a2c"
  },
  {
   "cell_type": "code",
   "execution_count": 37,
   "outputs": [
    {
     "name": "stdout",
     "output_type": "stream",
     "text": [
      "      MovieID                                                   Title       Genres  Rating\n",
      "179       214                   Before the Rain (Pred dozhdot) (1994)        Drama     5.0\n",
      "2449     3047        Experience Preferred... But Not Essential (1982)        Drama     5.0\n",
      "2609     3245                     I Am Cuba (Soy Cuba/Ya Kuba) (1964)        Drama     5.0\n",
      "1842     2342                                   Hard Core Logo (1996)       Comedy     5.0\n",
      "1831     2330                             Hands on a Hard Body (1996)  Documentary     5.0\n",
      "1197     1519                                   Broken English (1996)        Drama     5.0\n",
      "490       573  Ciao, Professore! (Io speriamo che me la cavo ) (1993)        Drama     5.0\n",
      "287       341                                 Double Happiness (1994)        Drama     5.0\n",
      "1124     1421                                    Grateful Dead (1995)  Documentary     5.0\n",
      "2683     3338                                  For All Mankind (1989)  Documentary     5.0\n"
     ]
    }
   ],
   "source": [
    "print_top_ten(merged_df, 'M', 45, movies_df)"
   ],
   "metadata": {
    "collapsed": false,
    "ExecuteTime": {
     "end_time": "2023-11-08T12:32:11.853244800Z",
     "start_time": "2023-11-08T12:32:11.765491Z"
    }
   },
   "id": "6829b915d3951c0"
  },
  {
   "cell_type": "code",
   "execution_count": 38,
   "outputs": [
    {
     "name": "stdout",
     "output_type": "stream",
     "text": [
      "      MovieID                    Title                 Genres  Rating\n",
      "479       746     Force of Evil (1948)              Film-Noir     5.0\n",
      "951      1461    Vegas Vacation (1997)                 Comedy     5.0\n",
      "1571     2476  Heartbreak Ridge (1986)             Action|War     5.0\n",
      "125       187        Party Girl (1995)                 Comedy     5.0\n",
      "1575     2488       Peeping Tom (1960)  Drama|Horror|Thriller     5.0\n",
      "653      1034           Freeway (1996)                  Crime     5.0\n",
      "2216     3484       Skulls, The (2000)               Thriller     5.0\n",
      "285       416         Bad Girls (1994)                Western     5.0\n",
      "1579     2493   Harmonists, The (1997)                  Drama     5.0\n",
      "1587     2503  Apple, The (Sib) (1998)                  Drama     5.0\n"
     ]
    }
   ],
   "source": [
    "print_top_ten(merged_df, 'F', 50, movies_df)"
   ],
   "metadata": {
    "collapsed": false,
    "ExecuteTime": {
     "end_time": "2023-11-08T12:32:11.948174400Z",
     "start_time": "2023-11-08T12:32:11.860789600Z"
    }
   },
   "id": "aa6289537657e8fd"
  },
  {
   "cell_type": "code",
   "execution_count": 39,
   "outputs": [
    {
     "name": "stdout",
     "output_type": "stream",
     "text": [
      "      MovieID                                                  Title                     Genres  Rating\n",
      "2560     3192                          Terrorist, The (Malli) (1998)                      Drama     5.0\n",
      "177       214                  Before the Rain (Pred dozhdot) (1994)                      Drama     5.0\n",
      "1177     1493                     Love and Other Catastrophes (1996)                    Romance     5.0\n",
      "1166     1475                      Kama Sutra: A Tale of Love (1996)                    Romance     5.0\n",
      "610       771               Vie est belle, La (Life is Rosey) (1987)               Comedy|Drama     5.0\n",
      "2474     3092                                     Chushingura (1962)                      Drama     5.0\n",
      "659       854      Ballad of Narayama, The (Narayama Bushiko) (1958)                      Drama     5.0\n",
      "2590     3233                                   Smashing Time (1967)                     Comedy     5.0\n",
      "2592     3236                                       Zachariah (1971)                    Western     5.0\n",
      "2620     3266  Man Bites Dog (C'est arrivé près de chez vous) (1992)  Action|Comedy|Crime|Drama     5.0\n"
     ]
    }
   ],
   "source": [
    "print_top_ten(merged_df, 'M', 50, movies_df)"
   ],
   "metadata": {
    "collapsed": false,
    "ExecuteTime": {
     "end_time": "2023-11-08T12:32:12.033504600Z",
     "start_time": "2023-11-08T12:32:11.952158400Z"
    }
   },
   "id": "4afaab5be6fb8fcc"
  },
  {
   "cell_type": "code",
   "execution_count": 40,
   "outputs": [
    {
     "name": "stdout",
     "output_type": "stream",
     "text": [
      "      MovieID                                                     Title                 Genres  Rating\n",
      "1052     2253                                               Toys (1992)  Action|Comedy|Fantasy     5.0\n",
      "1114     2388                    Steam: The Turkish Bath (Hamam) (1997)          Drama|Romance     5.0\n",
      "1240     2660                      Thing From Another World, The (1951)                 Sci-Fi     5.0\n",
      "1232     2630                              Besieged (L' Assedio) (1998)                  Drama     5.0\n",
      "1229     2624                                         After Life (1998)                  Drama     5.0\n",
      "1224     2615                                 My Science Project (1985)       Adventure|Sci-Fi     5.0\n",
      "1213     2580                                                 Go (1999)                  Crime     5.0\n",
      "1212     2575  Dreamlife of Angels, The (La Vie rêvée des anges) (1998)                  Drama     5.0\n",
      "1200     2550                                      Haunting, The (1963)        Horror|Thriller     5.0\n",
      "1177     2495         Fantastic Planet, The (La Planète sauvage) (1973)       Animation|Sci-Fi     5.0\n"
     ]
    }
   ],
   "source": [
    "print_top_ten(merged_df, 'F', 56, movies_df)"
   ],
   "metadata": {
    "collapsed": false,
    "ExecuteTime": {
     "end_time": "2023-11-08T12:32:12.119168500Z",
     "start_time": "2023-11-08T12:32:12.031509100Z"
    }
   },
   "id": "e991d4bfb4d0f28b"
  },
  {
   "cell_type": "code",
   "execution_count": 41,
   "outputs": [
    {
     "name": "stdout",
     "output_type": "stream",
     "text": [
      "      MovieID                                       Title                   Genres  Rating\n",
      "1029     1471                          Boys Life 2 (1997)                    Drama     5.0\n",
      "2555     3616                                Loser (2000)           Comedy|Romance     5.0\n",
      "147       214       Before the Rain (Pred dozhdot) (1994)                    Drama     5.0\n",
      "2625     3709                         Sleepwalkers (1992)                   Horror     5.0\n",
      "1240     1858                         Mr. Nice Guy (1997)            Action|Comedy     5.0\n",
      "2173     3092                          Chushingura (1962)                    Drama     5.0\n",
      "1937     2774                Better Than Chocolate (1999)           Comedy|Romance     5.0\n",
      "1221     1812                           Wide Awake (1998)  Children's|Comedy|Drama     5.0\n",
      "126       189                             Reckless (1995)                   Comedy     5.0\n",
      "2497     3532  Freedom for Us (À nous la liberté ) (1931)                   Comedy     5.0\n"
     ]
    }
   ],
   "source": [
    "print_top_ten(merged_df, 'M', 56, movies_df)"
   ],
   "metadata": {
    "collapsed": false,
    "ExecuteTime": {
     "end_time": "2023-11-08T12:32:12.201227900Z",
     "start_time": "2023-11-08T12:32:12.127773200Z"
    }
   },
   "id": "d0790e98c9c35185"
  },
  {
   "cell_type": "markdown",
   "source": [
    "show_top_ten"
   ],
   "metadata": {
    "collapsed": false
   },
   "id": "8d6a5997ced9935b"
  },
  {
   "cell_type": "code",
   "execution_count": 48,
   "outputs": [],
   "source": [
    "def show_top_ten(_lst, _gender, _age, _movies_df):\n",
    "    top_movies = get_top(_lst, _gender, _age, _movies_df).head(10)\n",
    "    sns.barplot(data=top_movies, x=\"MovieID\", y=\"Rating\")"
   ],
   "metadata": {
    "collapsed": false,
    "ExecuteTime": {
     "end_time": "2023-11-08T12:52:54.182188500Z",
     "start_time": "2023-11-08T12:52:54.149058500Z"
    }
   },
   "id": "737c115d571a6b5b"
  },
  {
   "cell_type": "code",
   "execution_count": 49,
   "outputs": [
    {
     "name": "stderr",
     "output_type": "stream",
     "text": [
      "C:\\Users\\Shevchenko\\.conda\\envs\\Labs\\lib\\site-packages\\seaborn\\_oldcore.py:1498: FutureWarning: is_categorical_dtype is deprecated and will be removed in a future version. Use isinstance(dtype, CategoricalDtype) instead\n",
      "  if pd.api.types.is_categorical_dtype(vector):\n",
      "C:\\Users\\Shevchenko\\.conda\\envs\\Labs\\lib\\site-packages\\seaborn\\_oldcore.py:1498: FutureWarning: is_categorical_dtype is deprecated and will be removed in a future version. Use isinstance(dtype, CategoricalDtype) instead\n",
      "  if pd.api.types.is_categorical_dtype(vector):\n",
      "C:\\Users\\Shevchenko\\.conda\\envs\\Labs\\lib\\site-packages\\seaborn\\_oldcore.py:1498: FutureWarning: is_categorical_dtype is deprecated and will be removed in a future version. Use isinstance(dtype, CategoricalDtype) instead\n",
      "  if pd.api.types.is_categorical_dtype(vector):\n"
     ]
    },
    {
     "data": {
      "text/plain": "<Figure size 640x480 with 1 Axes>",
      "image/png": "[encoded data removed]"
     },
     "metadata": {},
     "output_type": "display_data"
    }
   ],
   "source": [
    "show_top_ten(merged_df, 'M', 1, movies_df)"
   ],
   "metadata": {
    "collapsed": false,
    "ExecuteTime": {
     "end_time": "2023-11-08T12:52:56.033835900Z",
     "start_time": "2023-11-08T12:52:55.778120400Z"
    }
   },
   "id": "eaa9aade8ab00c7a"
  },
  {
   "cell_type": "code",
   "execution_count": null,
   "outputs": [],
   "source": [],
   "metadata": {
    "collapsed": false
   },
   "id": "bf88c453e2845c8a"
  }
 ],
 "metadata": {
  "kernelspec": {
   "display_name": "Python 3",
   "language": "python",
   "name": "python3"
  },
  "language_info": {
   "codemirror_mode": {
    "name": "ipython",
    "version": 2
   },
   "file_extension": ".py",
   "mimetype": "text/x-python",
   "name": "python",
   "nbconvert_exporter": "python",
   "pygments_lexer": "ipython2",
   "version": "2.7.6"
  }
 },
 "nbformat": 4,
 "nbformat_minor": 5
}
